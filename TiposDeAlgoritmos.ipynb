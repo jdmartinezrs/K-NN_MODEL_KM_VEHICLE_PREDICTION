{
  "nbformat": 4,
  "nbformat_minor": 0,
  "metadata": {
    "colab": {
      "provenance": [],
      "authorship_tag": "ABX9TyN5Nma31ILmxTiBH35sVS6Q",
      "include_colab_link": true
    },
    "kernelspec": {
      "name": "python3",
      "display_name": "Python 3"
    },
    "language_info": {
      "name": "python"
    }
  },
  "cells": [
    {
      "cell_type": "markdown",
      "metadata": {
        "id": "view-in-github",
        "colab_type": "text"
      },
      "source": [
        "<a href=\"https://colab.research.google.com/github/jdmartinezrs/incomesAndBillsProject/blob/main/TiposDeAlgoritmos.ipynb\" target=\"_parent\"><img src=\"https://colab.research.google.com/assets/colab-badge.svg\" alt=\"Open In Colab\"/></a>"
      ]
    },
    {
      "cell_type": "markdown",
      "source": [
        "Es una funcion\n",
        "\n",
        "formula:y=mx+b\n",
        "\n",
        "regresion lineal, que es\n",
        "\n",
        "varia con los factores de alrededor\n"
      ],
      "metadata": {
        "id": "Pm-gHQawj1qj"
      }
    },
    {
      "cell_type": "markdown",
      "source": [
        "Se basa en la relacion entre variables\n",
        "#REPASO DE LA PENDIENTE ARTICULO\n",
        "**Se usa cuando los datos siguen una tendencia**"
      ],
      "metadata": {
        "id": "GTui6ny3kaaV"
      }
    },
    {
      "cell_type": "code",
      "execution_count": null,
      "metadata": {
        "id": "GCx4nw_HjwOI"
      },
      "outputs": [],
      "source": [
        "#Regresion lineal ejemplo\n",
        "\n",
        "#Problema: Cual sera la nota de un estudiante que estudia 6 horas\n",
        "\n",
        "#datos\n",
        "#2h ->3.0\n",
        "#4h ->4.0\n",
        "#6h ->\n",
        "\n",
        "#la linea aprende esa relacion y predice un valor cercano a 5.0 si sigue la misma tendencia"
      ]
    },
    {
      "cell_type": "markdown",
      "source": [
        "#Arboles de decicion\n",
        "\n",
        "Es un algoritmo que toma decisiones dividiendo los datos con preguntas tipo si o no\n",
        "\n",
        "**CARACTERISTICAS**\n",
        "\n",
        "\n",
        "1.   Facil de interpretar\n",
        "2.   Ideal para clasificar\n",
        "3.   Se estructura como un arbol: raiz, ramas y hojas\n",
        "4.   Se usa para clasificacion y toma de decisiones automaticas\n",
        "\n",
        "\n",
        "\n"
      ],
      "metadata": {
        "id": "TnZZs1lBltJv"
      }
    },
    {
      "cell_type": "markdown",
      "source": [
        "#problema // un estudiante aprueba\n",
        "#Tiene buene asistencia/hizo tareas//estudio\n",
        "#Segun sus respuestas// el arbol llega a una conclusion APRUEBA o NO APRUEBA\n",
        "\n",
        "\n",
        "\n",
        "\n"
      ],
      "metadata": {
        "id": "307Dw9CBnJiV"
      }
    },
    {
      "cell_type": "code",
      "source": [],
      "metadata": {
        "id": "YDB6NSfUpF8P"
      },
      "execution_count": null,
      "outputs": []
    },
    {
      "cell_type": "markdown",
      "source": [],
      "metadata": {
        "id": "jOAsM40EpFbZ"
      }
    },
    {
      "cell_type": "markdown",
      "source": [
        "K-NN\n",
        "\n",
        "k-vecinos: mas cercanos es un algoritmo que clasifica segun los ejemplo mas parecidos\n",
        "\n",
        "Caracteristicas:\n",
        "1. No necesita entrenar, solo copara distancias\n",
        "2. Clasifica segun la mayoria cercana\n",
        "3. Es intutitivo y facil de implementar\n",
        "4. Muy usado para reconocer patrones en datos numericos o categorias"
      ],
      "metadata": {
        "id": "Q4nlLD5eoa5v"
      }
    },
    {
      "cell_type": "code",
      "source": [
        "#Ejemplo\n",
        "\n",
        "#una nueva fruta es manzana o tomate\n",
        "\n",
        "se comapra con las frutas mas cercanas en color, tamano y textura\n",
        "\n",
        "si la mayoria de los parecidos son manzanas, entonces es una manzana'"
      ],
      "metadata": {
        "id": "LLWDXUOTpDwY"
      },
      "execution_count": null,
      "outputs": []
    }
  ]
}