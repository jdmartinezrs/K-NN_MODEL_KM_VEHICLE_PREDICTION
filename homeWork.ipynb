{
  "nbformat": 4,
  "nbformat_minor": 0,
  "metadata": {
    "colab": {
      "provenance": [],
      "authorship_tag": "ABX9TyMoDLdkWwPHE4LVAbo6tVHO",
      "include_colab_link": true
    },
    "kernelspec": {
      "name": "python3",
      "display_name": "Python 3"
    },
    "language_info": {
      "name": "python"
    }
  },
  "cells": [
    {
      "cell_type": "markdown",
      "metadata": {
        "id": "view-in-github",
        "colab_type": "text"
      },
      "source": [
        "<a href=\"https://colab.research.google.com/github/jdmartinezrs/incomesAndBillsProject/blob/main/homeWork.ipynb\" target=\"_parent\"><img src=\"https://colab.research.google.com/assets/colab-badge.svg\" alt=\"Open In Colab\"/></a>"
      ]
    },
    {
      "cell_type": "code",
      "execution_count": 17,
      "metadata": {
        "colab": {
          "base_uri": "https://localhost:8080/"
        },
        "id": "AF4w6bXi67dd",
        "outputId": "a7b75415-89b4-43e5-ebb9-6e4ca3f53584"
      },
      "outputs": [
        {
          "output_type": "stream",
          "name": "stdout",
          "text": [
            "('nombre', 'martinez')\n",
            "('edad', 29)\n",
            "dict_items([('nombre', 'martinez'), ('edad', 29)])\n",
            "nombre\n",
            "edad\n",
            "martinez\n",
            "29\n",
            "{'nombre': 'martinez', 'edad': 29}\n",
            "{'nombre': 'martinez', 'edad': 29, 'ciudad': 'Bucaramanga'}\n",
            "{'nombre': 'martinez', 'ciudad': 'Bucaramanga'}\n"
          ]
        }
      ],
      "source": [
        "# Ejercicio 1: Crea un diccionario con tu nombre y edad, y muéstralo.\n",
        "\n",
        "martinez = {\"nombre\":\"martinez\",\"edad\":29}\n",
        "\n",
        "for i in martinez.items():\n",
        "  print(i)\n",
        "\n",
        "mostrar = martinez.items()\n",
        "print(mostrar)\n",
        "\n",
        "for clave in martinez.keys():\n",
        "  print(clave)\n",
        "\n",
        "for valor in martinez.values():\n",
        "  print(valor)\n",
        "\n",
        "keys_to_get = [\"nombre\", \"edad\"]\n",
        "result = {key: martinez.get(key) for key in keys_to_get}\n",
        "print(result)\n",
        "\n",
        "#Ejercicio 2: Agrega una nueva clave al diccionario llamada 'ciudad' y elimina la clave 'edad'.\n",
        "\n",
        "martinez['ciudad']= \"Bucaramanga\"\n",
        "print(martinez)\n",
        "\n",
        "del martinez['edad']\n",
        "print(martinez)"
      ]
    },
    {
      "cell_type": "code",
      "source": [
        "datos=[]\n",
        "\n",
        "nombre=input('Cual es tu nombre: ')\n",
        "edad=int(input('Cual es tu edad: '))\n",
        "ciudad=input('De donde eres: ')\n",
        "datos.append(nombre)\n",
        "datos.append(edad)\n",
        "datos.append(ciudad)\n",
        "\n",
        "datos=tuple(datos)\n",
        "print(datos)"
      ],
      "metadata": {
        "colab": {
          "base_uri": "https://localhost:8080/"
        },
        "id": "-FNDTSSu_nRt",
        "outputId": "3eecaa8e-44c5-405c-8034-be61fc12341f"
      },
      "execution_count": 23,
      "outputs": [
        {
          "output_type": "stream",
          "name": "stdout",
          "text": [
            "Cual es tu nombre: JUAN\n",
            "Cual es tu edad: 29\n",
            "De donde eres:BUCARAMAGA\n",
            "('JUAN', 29, 'BUCARAMAGA')\n"
          ]
        }
      ]
    },
    {
      "cell_type": "code",
      "source": [
        "#Ejercicio 2: Usa una tabla para registrar productos (nombre, precio) y calcula el total de una compra.\n",
        "\n",
        "nombre_precio=[]\n",
        "\n",
        "n = int(input(\"cuantos productos a ingresar: \"))\n",
        "\n",
        "for i in range(n):\n",
        "  print(\"producto\",i+1)\n",
        "\n",
        "  nombre = input(\"Escriba el nombre del producto: \")\n",
        "  precio = float(input(\"escriba el precio del producto: \"))\n",
        "\n",
        "  nombre_precio.append([nombre,precio])\n",
        "\n",
        "print(nombre_precio)\n",
        "\n",
        "total= precio*n\n",
        "print(\"el total de la compra es: \",total)\n"
      ],
      "metadata": {
        "colab": {
          "base_uri": "https://localhost:8080/"
        },
        "id": "a-G02j-lGZoq",
        "outputId": "1753629b-3d01-46b4-aeb5-1af6fc0761e6"
      },
      "execution_count": 34,
      "outputs": [
        {
          "output_type": "stream",
          "name": "stdout",
          "text": [
            "cuantos productos a ingresar: 20\n",
            "producto 1\n",
            "Escriba el nombre del producto: pan\n",
            "escriba el precio del producto: 5000\n",
            "producto 2\n",
            "Escriba el nombre del producto: queso\n",
            "escriba el precio del producto: 10000\n",
            "producto 3\n",
            "Escriba el nombre del producto: Azucar\n",
            "escriba el precio del producto: 2500\n",
            "producto 4\n",
            "Escriba el nombre del producto: Panela\n",
            "escriba el precio del producto: 7000\n",
            "producto 5\n",
            "Escriba el nombre del producto: papa\n",
            "escriba el precio del producto: 30000\n",
            "producto 6\n",
            "Escriba el nombre del producto: yuca\n",
            "escriba el precio del producto: 10000\n",
            "producto 7\n",
            "Escriba el nombre del producto: platano\n",
            "escriba el precio del producto: 10000\n",
            "producto 8\n",
            "Escriba el nombre del producto: tomate de arbol\n",
            "escriba el precio del producto: 15000\n",
            "producto 9\n",
            "Escriba el nombre del producto: tomate\n",
            "escriba el precio del producto: 20000\n",
            "producto 10\n",
            "Escriba el nombre del producto: arroz\n",
            "escriba el precio del producto: 18000\n",
            "producto 11\n",
            "Escriba el nombre del producto: sal\n",
            "escriba el precio del producto: 5000\n",
            "producto 12\n",
            "Escriba el nombre del producto: carne\n",
            "escriba el precio del producto: 30000\n",
            "producto 13\n",
            "Escriba el nombre del producto: cerdo\n",
            "escriba el precio del producto: 20000\n",
            "producto 14\n",
            "Escriba el nombre del producto: pollo\n",
            "escriba el precio del producto: 20000\n",
            "producto 15\n",
            "Escriba el nombre del producto: cilantro\n",
            "escriba el precio del producto: 5000\n",
            "producto 16\n",
            "Escriba el nombre del producto: cebolla\n",
            "escriba el precio del producto: 10000\n",
            "producto 17\n",
            "Escriba el nombre del producto: fresco\n",
            "escriba el precio del producto: 2000\n",
            "producto 18\n",
            "Escriba el nombre del producto: naranja\n",
            "escriba el precio del producto: 30000\n",
            "producto 19\n",
            "Escriba el nombre del producto: papa criolla\n",
            "escriba el precio del producto: 20000\n",
            "producto 20\n",
            "Escriba el nombre del producto: frijol\n",
            "escriba el precio del producto: 15000\n",
            "[['pan', 5000.0], ['queso', 10000.0], ['Azucar', 2500.0], ['Panela', 7000.0], ['papa', 30000.0], ['yuca', 10000.0], ['platano', 10000.0], ['tomate de arbol', 15000.0], ['tomate', 20000.0], ['arroz', 18000.0], ['sal', 5000.0], ['carne', 30000.0], ['cerdo', 20000.0], ['pollo', 20000.0], ['cilantro', 5000.0], ['cebolla', 10000.0], ['fresco', 2000.0], ['naranja', 30000.0], ['papa criolla', 20000.0], ['frijol', 15000.0]]\n",
            "el total de la compra es:  300000.0\n"
          ]
        }
      ]
    },
    {
      "cell_type": "code",
      "source": [
        "#Ejercicio 3: Usa un diccionario para registrar notas por asignatura. Calcula y muestra el promedio final.\n",
        "\n",
        "notas = {}\n",
        "\n",
        "nombre=input('nombre de la asignatura: ')\n",
        "nota=int(input('nota: '))\n",
        "\n",
        "notas[nombre]=nota\n",
        "\n",
        "print (notas)\n",
        "\n"
      ],
      "metadata": {
        "id": "dSV-Z-X9AqxE"
      },
      "execution_count": null,
      "outputs": []
    }
  ]
}