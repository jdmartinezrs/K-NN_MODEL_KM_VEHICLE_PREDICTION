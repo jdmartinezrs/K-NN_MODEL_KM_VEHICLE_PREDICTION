{
  "nbformat": 4,
  "nbformat_minor": 0,
  "metadata": {
    "colab": {
      "provenance": [],
      "authorship_tag": "ABX9TyOzrpCtaLNLJBegy1+WEekw",
      "include_colab_link": true
    },
    "kernelspec": {
      "name": "python3",
      "display_name": "Python 3"
    },
    "language_info": {
      "name": "python"
    }
  },
  "cells": [
    {
      "cell_type": "markdown",
      "metadata": {
        "id": "view-in-github",
        "colab_type": "text"
      },
      "source": [
        "<a href=\"https://colab.research.google.com/github/jdmartinezrs/incomesAndBillsProject/blob/main/homeWork.ipynb\" target=\"_parent\"><img src=\"https://colab.research.google.com/assets/colab-badge.svg\" alt=\"Open In Colab\"/></a>"
      ]
    },
    {
      "cell_type": "code",
      "execution_count": 17,
      "metadata": {
        "colab": {
          "base_uri": "https://localhost:8080/"
        },
        "id": "AF4w6bXi67dd",
        "outputId": "a7b75415-89b4-43e5-ebb9-6e4ca3f53584"
      },
      "outputs": [
        {
          "output_type": "stream",
          "name": "stdout",
          "text": [
            "('nombre', 'martinez')\n",
            "('edad', 29)\n",
            "dict_items([('nombre', 'martinez'), ('edad', 29)])\n",
            "nombre\n",
            "edad\n",
            "martinez\n",
            "29\n",
            "{'nombre': 'martinez', 'edad': 29}\n",
            "{'nombre': 'martinez', 'edad': 29, 'ciudad': 'Bucaramanga'}\n",
            "{'nombre': 'martinez', 'ciudad': 'Bucaramanga'}\n"
          ]
        }
      ],
      "source": [
        "# Ejercicio 1: Crea un diccionario con tu nombre y edad, y muéstralo.\n",
        "\n",
        "martinez = {\"nombre\":\"martinez\",\"edad\":29}\n",
        "\n",
        "for i in martinez.items():\n",
        "  print(i)\n",
        "\n",
        "mostrar = martinez.items()\n",
        "print(mostrar)\n",
        "\n",
        "for clave in martinez.keys():\n",
        "  print(clave)\n",
        "\n",
        "for valor in martinez.values():\n",
        "  print(valor)\n",
        "\n",
        "keys_to_get = [\"nombre\", \"edad\"]\n",
        "result = {key: martinez.get(key) for key in keys_to_get}\n",
        "print(result)\n",
        "\n",
        "#Ejercicio 2: Agrega una nueva clave al diccionario llamada 'ciudad' y elimina la clave 'edad'.\n",
        "\n",
        "martinez['ciudad']= \"Bucaramanga\"\n",
        "print(martinez)\n",
        "\n",
        "del martinez['edad']\n",
        "print(martinez)"
      ]
    },
    {
      "cell_type": "code",
      "source": [
        "datos=[]\n",
        "\n",
        "nombre=input('Cual es tu nombre: ')\n",
        "edad=int(input('Cual es tu edad: '))\n",
        "ciudad=input('De donde eres: ')\n",
        "datos.append(nombre)\n",
        "datos.append(edad)\n",
        "datos.append(ciudad)\n",
        "\n",
        "datos=tuple(datos)\n",
        "print(datos)\n",
        "\n",
        "\n"
      ],
      "metadata": {
        "colab": {
          "base_uri": "https://localhost:8080/"
        },
        "id": "-FNDTSSu_nRt",
        "outputId": "3eecaa8e-44c5-405c-8034-be61fc12341f"
      },
      "execution_count": 23,
      "outputs": [
        {
          "output_type": "stream",
          "name": "stdout",
          "text": [
            "Cual es tu nombre: JUAN\n",
            "Cual es tu edad: 29\n",
            "De donde eres:BUCARAMAGA\n",
            "('JUAN', 29, 'BUCARAMAGA')\n"
          ]
        }
      ]
    }
  ]
}