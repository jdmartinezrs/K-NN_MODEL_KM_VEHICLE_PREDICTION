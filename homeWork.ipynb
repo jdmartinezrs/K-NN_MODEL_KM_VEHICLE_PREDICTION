{
  "nbformat": 4,
  "nbformat_minor": 0,
  "metadata": {
    "colab": {
      "provenance": [],
      "authorship_tag": "ABX9TyMZC7umqnr8+KurDlGjnerW",
      "include_colab_link": true
    },
    "kernelspec": {
      "name": "python3",
      "display_name": "Python 3"
    },
    "language_info": {
      "name": "python"
    }
  },
  "cells": [
    {
      "cell_type": "markdown",
      "metadata": {
        "id": "view-in-github",
        "colab_type": "text"
      },
      "source": [
        "<a href=\"https://colab.research.google.com/github/jdmartinezrs/incomesAndBillsProject/blob/main/homeWork.ipynb\" target=\"_parent\"><img src=\"https://colab.research.google.com/assets/colab-badge.svg\" alt=\"Open In Colab\"/></a>"
      ]
    },
    {
      "cell_type": "code",
      "execution_count": 17,
      "metadata": {
        "colab": {
          "base_uri": "https://localhost:8080/"
        },
        "id": "AF4w6bXi67dd",
        "outputId": "a7b75415-89b4-43e5-ebb9-6e4ca3f53584"
      },
      "outputs": [
        {
          "output_type": "stream",
          "name": "stdout",
          "text": [
            "('nombre', 'martinez')\n",
            "('edad', 29)\n",
            "dict_items([('nombre', 'martinez'), ('edad', 29)])\n",
            "nombre\n",
            "edad\n",
            "martinez\n",
            "29\n",
            "{'nombre': 'martinez', 'edad': 29}\n",
            "{'nombre': 'martinez', 'edad': 29, 'ciudad': 'Bucaramanga'}\n",
            "{'nombre': 'martinez', 'ciudad': 'Bucaramanga'}\n"
          ]
        }
      ],
      "source": [
        "# Ejercicio 1: Crea un diccionario con tu nombre y edad, y muéstralo.\n",
        "\n",
        "martinez = {\"nombre\":\"martinez\",\"edad\":29}\n",
        "\n",
        "for i in martinez.items():\n",
        "  print(i)\n",
        "\n",
        "mostrar = martinez.items()\n",
        "print(mostrar)\n",
        "\n",
        "for clave in martinez.keys():\n",
        "  print(clave)\n",
        "\n",
        "for valor in martinez.values():\n",
        "  print(valor)\n",
        "\n",
        "keys_to_get = [\"nombre\", \"edad\"]\n",
        "result = {key: martinez.get(key) for key in keys_to_get}\n",
        "print(result)\n",
        "\n",
        "#Ejercicio 2: Agrega una nueva clave al diccionario llamada 'ciudad' y elimina la clave 'edad'.\n",
        "\n",
        "martinez['ciudad']= \"Bucaramanga\"\n",
        "print(martinez)\n",
        "\n",
        "del martinez['edad']\n",
        "print(martinez)"
      ]
    },
    {
      "cell_type": "code",
      "source": [
        "datos=[]\n",
        "\n",
        "nombre=input('Cual es tu nombre: ')\n",
        "edad=int(input('Cual es tu edad: '))\n",
        "ciudad=input('De donde eres: ')\n",
        "datos.append(nombre)\n",
        "datos.append(edad)\n",
        "datos.append(ciudad)\n",
        "\n",
        "datos=tuple(datos)\n",
        "print(datos)"
      ],
      "metadata": {
        "colab": {
          "base_uri": "https://localhost:8080/"
        },
        "id": "-FNDTSSu_nRt",
        "outputId": "3eecaa8e-44c5-405c-8034-be61fc12341f"
      },
      "execution_count": 23,
      "outputs": [
        {
          "output_type": "stream",
          "name": "stdout",
          "text": [
            "Cual es tu nombre: JUAN\n",
            "Cual es tu edad: 29\n",
            "De donde eres:BUCARAMAGA\n",
            "('JUAN', 29, 'BUCARAMAGA')\n"
          ]
        }
      ]
    },
    {
      "cell_type": "code",
      "source": [
        "#Ejercicio 2: Usa una tabla para registrar productos (nombre, precio) y calcula el total de una compra.\n",
        "\n",
        "nombre_precio=[]\n",
        "\n",
        "n = int(input(\"cuantos productos a ingresar: \"))\n",
        "for i in range(n):\n",
        "  print(\"producto\",i+1)\n",
        "\n",
        "\n",
        "  nombre = input(\"Escriba el nombre del producto: \")\n",
        "  precio = int(input(\"escriba el precio del producto: \"))\n",
        "\n",
        "  nombre_precio.append([nombre,precio])\n",
        "\n",
        "print(nombre_precio)\n",
        "total= precio*n\n",
        "print(\"el total de la compra es: \",total)\n",
        "\n"
      ],
      "metadata": {
        "colab": {
          "base_uri": "https://localhost:8080/"
        },
        "id": "a-G02j-lGZoq",
        "outputId": "e921cfa5-4595-4556-baa2-4476fedad280"
      },
      "execution_count": 33,
      "outputs": [
        {
          "output_type": "stream",
          "name": "stdout",
          "text": [
            "cuantos productos a ingresar: 3\n",
            "producto 1\n",
            "Escriba el nombre del producto: wather\n",
            "escriba el precio del producto: 10000\n",
            "producto 2\n",
            "Escriba el nombre del producto: milk\n",
            "escriba el precio del producto: 14000\n",
            "producto 3\n",
            "Escriba el nombre del producto: bread\n",
            "escriba el precio del producto: 7000\n",
            "[['wather', 10000], ['milk', 14000], ['bread', 7000]]\n",
            "el total de la compra es:  21000\n"
          ]
        }
      ]
    }
  ]
}