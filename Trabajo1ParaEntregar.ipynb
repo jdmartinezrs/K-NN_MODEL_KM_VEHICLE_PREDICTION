{
  "nbformat": 4,
  "nbformat_minor": 0,
  "metadata": {
    "colab": {
      "provenance": [],
      "authorship_tag": "ABX9TyOra3O99GvLwtppKVaMTclk",
      "include_colab_link": true
    },
    "kernelspec": {
      "name": "python3",
      "display_name": "Python 3"
    },
    "language_info": {
      "name": "python"
    }
  },
  "cells": [
    {
      "cell_type": "markdown",
      "metadata": {
        "id": "view-in-github",
        "colab_type": "text"
      },
      "source": [
        "<a href=\"https://colab.research.google.com/github/jdmartinezrs/incomesAndBillsProject/blob/main/Trabajo1ParaEntregar.ipynb\" target=\"_parent\"><img src=\"https://colab.research.google.com/assets/colab-badge.svg\" alt=\"Open In Colab\"/></a>"
      ]
    },
    {
      "cell_type": "markdown",
      "source": [
        "**1. Importar Dataset**"
      ],
      "metadata": {
        "id": "TMcFUx_I6tXP"
      }
    },
    {
      "cell_type": "code",
      "source": [
        "from google.colab import files\n",
        "from google.colab import drive\n",
        "from sklearn.model_selection import train_test_split\n",
        "from sklearn.neighbors import KNeighborsClassifier\n",
        "import pandas as pd\n",
        "drive.mount('/content/drive')"
      ],
      "metadata": {
        "colab": {
          "base_uri": "https://localhost:8080/"
        },
        "id": "yolWCZbA7UPC",
        "outputId": "67f568d8-2f38-455d-e52c-b3651f91858d"
      },
      "execution_count": 30,
      "outputs": [
        {
          "output_type": "stream",
          "name": "stdout",
          "text": [
            "Drive already mounted at /content/drive; to attempt to forcibly remount, call drive.mount(\"/content/drive\", force_remount=True).\n"
          ]
        }
      ]
    },
    {
      "cell_type": "code",
      "source": [
        "sheet_id ='1hSCgq0sKpE_O2XI55UfuVPkA6lYoySZSCE7KWhdxWNY'\n",
        "sheet_url = f'https://docs.google.com/spreadsheets/d/{sheet_id}/export?format=csv'\n",
        "\n",
        "dp = pd.read_csv(sheet_url, header=5)\n",
        "print(dp.head())"
      ],
      "metadata": {
        "colab": {
          "base_uri": "https://localhost:8080/"
        },
        "id": "EbcmvLTE6_iR",
        "outputId": "3ead2637-839e-43f3-ef40-c839b0f71de3"
      },
      "execution_count": 33,
      "outputs": [
        {
          "output_type": "stream",
          "name": "stdout",
          "text": [
            "           Fecha  ITEM CODIGO DE EQUIPO Tipo de Vehiculo fecha de revision  \\\n",
            "0            NaN   1.0  VE-DT-CH-XMD284     CARRO TANQUE         5/23/2025   \n",
            "1            NaN   2.0  VE-DT-FL-XMD588      DOBLETROQUE         5/23/2025   \n",
            "2            NaN   3.0  VE-DT-FL-SUE755      DOBLETROQUE         5/23/2025   \n",
            "3  5/23/25 17:32   4.0  VE-DT-FL-WFD547      DOBLETROQUE         5/23/2025   \n",
            "4  5/23/25 17:32   5.0  VE-DT-IN-TAV909      DOBLETROQUE         5/23/2025   \n",
            "\n",
            "  Km/ Hr Plan  Fecha Ult Pre-Operacional  Dias Pend   Ult Km/Hr Km/Hr Cambio  \\\n",
            "0     10,000                     45797.0        3.0    320,832      316,580    \n",
            "1     10,000                     45190.0      610.0    209,543      199,850    \n",
            "2      8,000                     45797.0        3.0    431,842       429,813   \n",
            "3     10,000                     45797.0        3.0    269,735       263,671   \n",
            "4     10,000                     45797.0        3.0    288,404      287,932    \n",
            "\n",
            "   Fecha Cambio  Fecha Prox Cambio  Unnamed: 12 Km/Hr Proyectada Km/Hr Pend  \\\n",
            "0       45464.0            45674.0      45884.0         326,580      5,748    \n",
            "1       45118.0                NaN          NaN         209,850        307    \n",
            "2       45728.0            45938.0      46148.0         437,813      5,971    \n",
            "3       45687.0            45897.0      46107.0         273,671      3,936    \n",
            "4       45623.0            45833.0      46043.0         297,932      9,528    \n",
            "\n",
            "   Progreso  Progreso2  \n",
            "0    0.5748    57.4800  \n",
            "1        3%        NaN  \n",
            "2  0.746375    74.6375  \n",
            "3    0.3936    39.3600  \n",
            "4    0.9528    95.2800  \n"
          ]
        }
      ]
    },
    {
      "cell_type": "code",
      "source": [
        "print(dp.isna().sum())"
      ],
      "metadata": {
        "colab": {
          "base_uri": "https://localhost:8080/"
        },
        "id": "Xyi1T9D6_zfZ",
        "outputId": "3011751d-3c1d-4204-90d4-cbf31b3b980d"
      },
      "execution_count": 13,
      "outputs": [
        {
          "output_type": "stream",
          "name": "stdout",
          "text": [
            "Fecha                         8\n",
            "ITEM                          4\n",
            "CODIGO DE EQUIPO              4\n",
            "Tipo de Vehiculo              4\n",
            "fecha de revision             4\n",
            "Km/ Hr Plan                   4\n",
            "Fecha Ult Pre-Operacional     4\n",
            "Dias Pend                     4\n",
            "Ult Km/Hr                     4\n",
            "Km/Hr Cambio                  4\n",
            "Fecha Cambio                  4\n",
            "Fecha Prox Cambio            14\n",
            "Unnamed: 12                  15\n",
            "Km/Hr Proyectada              4\n",
            "Km/Hr Pend                    4\n",
            "Progreso                      4\n",
            "Observaciones                32\n",
            "dtype: int64\n"
          ]
        }
      ]
    },
    {
      "cell_type": "markdown",
      "source": [
        "1.1 Linpieza de datos"
      ],
      "metadata": {
        "id": "a17h4i2Zvebp"
      }
    },
    {
      "cell_type": "code",
      "source": [
        "for col in dp.columns:\n",
        "    if dp[col].dtype == 'object':\n",
        "        dp[col] = dp[col].fillna('N/A')\n",
        "    else:\n",
        "        dp[col] = dp[col].fillna(0)\n",
        "\n",
        "# Mostrar resultado\n",
        "print(dp.head())\n",
        "\n",
        "def eliminar_filas_na(dp):\n",
        "    \"\"\"\n",
        "    Elimina filas que contienen 'N/A' en cualquier columna.\n",
        "    \"\"\"\n",
        "    dp = dp[~dp.apply(lambda row: 'N/A' in row.values, axis=1)]\n",
        "    return dp\n",
        "dp = eliminar_filas_na(dp)\n",
        "\n",
        "def convertir_coma_a_punto(dp, columna):\n",
        "    \"\"\"\n",
        "    Convierte los valores de una columna reemplazando las comas por puntos\n",
        "    y asegurando que sean numéricos.\n",
        "    \"\"\"\n",
        "    dp[columna] = dp[columna].astype(str).str.replace(',', '.')\n",
        "    dp[columna] = pd.to_numeric(dp[columna], errors='coerce')\n",
        "    return dp\n",
        "\n",
        "dp = convertir_coma_a_punto(dp, 'Km/Hr Pend')\n",
        "\n",
        "\n",
        "\n"
      ],
      "metadata": {
        "colab": {
          "base_uri": "https://localhost:8080/"
        },
        "id": "XG26Ap1tARa8",
        "outputId": "580d7c1f-ad2a-4bd8-e417-b5455e488041"
      },
      "execution_count": 52,
      "outputs": [
        {
          "output_type": "stream",
          "name": "stdout",
          "text": [
            "           Fecha  ITEM CODIGO DE EQUIPO Tipo de Vehiculo fecha de revision  \\\n",
            "3  5/23/25 17:32   4.0  VE-DT-FL-WFD547      DOBLETROQUE         5/23/2025   \n",
            "4  5/23/25 17:32   5.0  VE-DT-IN-TAV909      DOBLETROQUE         5/23/2025   \n",
            "5  5/23/25 17:32   6.0  VE-DT-IN-TAW674      DOBLETROQUE         5/23/2025   \n",
            "6  5/23/25 17:32   7.0  VE-DT-IN-TAW675      DOBLETROQUE         5/23/2025   \n",
            "7  5/23/25 17:32   8.0  VE-DT-IN-TAW676      DOBLETROQUE         5/23/2025   \n",
            "\n",
            "  Km/ Hr Plan  Fecha Ult Pre-Operacional  Dias Pend   Ult Km/Hr Km/Hr Cambio  \\\n",
            "3     10,000                     45797.0        3.0    269,735       263,671   \n",
            "4     10,000                     45797.0        3.0    288,404      287,932    \n",
            "5     12,000                     45427.0      373.0     86,614       76,403    \n",
            "6     12,000                     45498.0      302.0    357,846      357,292    \n",
            "7     12,000                     45402.0      398.0    375,905      376,257    \n",
            "\n",
            "   Fecha Cambio  Fecha Prox Cambio  Unnamed: 12 Km/Hr Proyectada Km/Hr Pend  \\\n",
            "3       45687.0            45897.0      46107.0         273,671      3,936    \n",
            "4       45623.0            45833.0      46043.0         297,932      9,528    \n",
            "5       45294.0                0.0          0.0          88,403      1,789    \n",
            "6       45490.0                0.0          0.0         369,292     11,446    \n",
            "7       45449.0                0.0          0.0         388,257     12,352    \n",
            "\n",
            "  Progreso  Progreso2  \n",
            "3   0.3936      39.36  \n",
            "4   0.9528      95.28  \n",
            "5      15%       0.00  \n",
            "6      95%       0.00  \n",
            "7     103%       0.00  \n"
          ]
        }
      ]
    },
    {
      "cell_type": "markdown",
      "source": [
        "**1.1 Importar las liberias necesarias**"
      ],
      "metadata": {
        "id": "V6uIk75X7dLK"
      }
    },
    {
      "cell_type": "code",
      "source": [
        "from sklearn.model_selection import train_test_split\n",
        "from sklearn.neighbors import KNeighborsClassifier\n",
        "import pandas as pd"
      ],
      "metadata": {
        "id": "xQ0y_k2-7iud"
      },
      "execution_count": 53,
      "outputs": []
    },
    {
      "cell_type": "markdown",
      "source": [
        "**2. Crear un conjunto de datos**"
      ],
      "metadata": {
        "id": "jPHhg3lA84n1"
      }
    },
    {
      "cell_type": "code",
      "execution_count": 54,
      "metadata": {
        "colab": {
          "base_uri": "https://localhost:8080/"
        },
        "id": "UFKDvgTc6hup",
        "outputId": "e25507af-9d52-48f0-8fba-901497a3a623"
      },
      "outputs": [
        {
          "output_type": "stream",
          "name": "stdout",
          "text": [
            "    km_hr_pend   progreso2\n",
            "0        3.936   39.360000\n",
            "1        9.528   95.280000\n",
            "2        1.789    0.000000\n",
            "3       11.446    0.000000\n",
            "4       12.352    0.000000\n",
            "5        7.034   70.340000\n",
            "6        5.675    0.000000\n",
            "7        4.015   40.150000\n",
            "8       12.049    0.000000\n",
            "9       12.006    0.000000\n",
            "10       4.605   46.050000\n",
            "11       9.655    0.000000\n",
            "12       7.087    0.000000\n",
            "13       5.463   54.630000\n",
            "14       3.481   34.810000\n",
            "15       9.160   91.600000\n",
            "16       2.769   55.380000\n",
            "17       5.000  100.000000\n",
            "18       3.499   58.316667\n",
            "19       2.410   40.166667\n",
            "20       6.274    0.000000\n",
            "21       6.665    0.000000\n",
            "22       7.545   75.450000\n",
            "23      12.000  100.000000\n"
          ]
        }
      ],
      "source": [
        "data = {\n",
        "    'km_hr_pend': dp['Km/Hr Pend'].tolist(),\n",
        "    #'dias_pend': dp['Dias Pend'].tolist(),\n",
        "    'progreso2': dp['Progreso2'].tolist()\n",
        "}\n",
        "dx = pd.DataFrame(data)\n",
        "print(dx)"
      ]
    },
    {
      "cell_type": "code",
      "source": [
        "def clasificar_riesgo(progreso2, km_hr_pend):\n",
        "    if progreso2 > 90 or km_hr_pend < 0:\n",
        "        return 'Alto'\n",
        "    elif 70 <= progreso2 <= 90:\n",
        "        return 'Medio'\n",
        "    else:\n",
        "        return 'Bajo'\n",
        "\n",
        "dx['riesgo'] = dx.apply(lambda row: clasificar_riesgo(row['progreso2'], row['km_hr_pend']), axis=1)\n"
      ],
      "metadata": {
        "id": "8whzAe0HpEV3"
      },
      "execution_count": 55,
      "outputs": []
    },
    {
      "cell_type": "code",
      "source": [
        "print(dx.columns)\n"
      ],
      "metadata": {
        "id": "JuXgOVmEpdUl",
        "outputId": "9088774e-8b54-459d-ef4e-c9aee8b4e049",
        "colab": {
          "base_uri": "https://localhost:8080/"
        }
      },
      "execution_count": 56,
      "outputs": [
        {
          "output_type": "stream",
          "name": "stdout",
          "text": [
            "Index(['km_hr_pend', 'progreso2', 'riesgo'], dtype='object')\n"
          ]
        }
      ]
    },
    {
      "cell_type": "markdown",
      "source": [
        "3.Crear y preparar los tatos"
      ],
      "metadata": {
        "id": "adxRoD52lEyi"
      }
    },
    {
      "cell_type": "code",
      "source": [
        "x = dx[['km_hr_pend']]\n",
        "y = dx['progreso']"
      ],
      "metadata": {
        "id": "PlxNm2hJlDeE"
      },
      "execution_count": 23,
      "outputs": []
    },
    {
      "cell_type": "markdown",
      "source": [
        "4. Dividir los datos"
      ],
      "metadata": {
        "id": "GyK2mGUjlvKj"
      }
    },
    {
      "cell_type": "code",
      "source": [
        "x_train, x_test, y_train, y_test = train_test_split(x, y, test_size=0.2, random_state=42)"
      ],
      "metadata": {
        "id": "FM4TKhvMluYV"
      },
      "execution_count": 19,
      "outputs": []
    },
    {
      "cell_type": "markdown",
      "source": [
        "5. Crear y entrenar el modelo"
      ],
      "metadata": {
        "id": "m6PL7nkJmWHz"
      }
    },
    {
      "cell_type": "code",
      "source": [
        "modelo_knn = KNeighborsClassifier(n_neighbors=3)\n",
        "modelo_knn.fit(x_train, y_train)\n"
      ],
      "metadata": {
        "id": "pl4EG2ajmaYt",
        "outputId": "b103c3cc-a69d-4a88-a6bb-222a701802bb",
        "colab": {
          "base_uri": "https://localhost:8080/",
          "height": 314
        }
      },
      "execution_count": 24,
      "outputs": [
        {
          "output_type": "error",
          "ename": "ValueError",
          "evalue": "could not convert string to float: '70%'",
          "traceback": [
            "\u001b[0;31m---------------------------------------------------------------------------\u001b[0m",
            "\u001b[0;31mValueError\u001b[0m                                Traceback (most recent call last)",
            "\u001b[0;32m<ipython-input-24-637515d800e5>\u001b[0m in \u001b[0;36m<cell line: 0>\u001b[0;34m()\u001b[0m\n\u001b[1;32m      1\u001b[0m \u001b[0mmodelo_knn\u001b[0m \u001b[0;34m=\u001b[0m \u001b[0mKNeighborsClassifier\u001b[0m\u001b[0;34m(\u001b[0m\u001b[0mn_neighbors\u001b[0m\u001b[0;34m=\u001b[0m\u001b[0;36m3\u001b[0m\u001b[0;34m)\u001b[0m\u001b[0;34m\u001b[0m\u001b[0;34m\u001b[0m\u001b[0m\n\u001b[0;32m----> 2\u001b[0;31m \u001b[0mmodelo_knn\u001b[0m\u001b[0;34m.\u001b[0m\u001b[0mfit\u001b[0m\u001b[0;34m(\u001b[0m\u001b[0mx_train\u001b[0m\u001b[0;34m,\u001b[0m \u001b[0my_train\u001b[0m\u001b[0;34m)\u001b[0m\u001b[0;34m\u001b[0m\u001b[0;34m\u001b[0m\u001b[0m\n\u001b[0m",
            "\u001b[0;32m/usr/local/lib/python3.11/dist-packages/sklearn/base.py\u001b[0m in \u001b[0;36mwrapper\u001b[0;34m(estimator, *args, **kwargs)\u001b[0m\n\u001b[1;32m   1387\u001b[0m                 )\n\u001b[1;32m   1388\u001b[0m             ):\n\u001b[0;32m-> 1389\u001b[0;31m                 \u001b[0;32mreturn\u001b[0m \u001b[0mfit_method\u001b[0m\u001b[0;34m(\u001b[0m\u001b[0mestimator\u001b[0m\u001b[0;34m,\u001b[0m \u001b[0;34m*\u001b[0m\u001b[0margs\u001b[0m\u001b[0;34m,\u001b[0m \u001b[0;34m**\u001b[0m\u001b[0mkwargs\u001b[0m\u001b[0;34m)\u001b[0m\u001b[0;34m\u001b[0m\u001b[0;34m\u001b[0m\u001b[0m\n\u001b[0m\u001b[1;32m   1390\u001b[0m \u001b[0;34m\u001b[0m\u001b[0m\n\u001b[1;32m   1391\u001b[0m         \u001b[0;32mreturn\u001b[0m \u001b[0mwrapper\u001b[0m\u001b[0;34m\u001b[0m\u001b[0;34m\u001b[0m\u001b[0m\n",
            "\u001b[0;32m/usr/local/lib/python3.11/dist-packages/sklearn/neighbors/_classification.py\u001b[0m in \u001b[0;36mfit\u001b[0;34m(self, X, y)\u001b[0m\n\u001b[1;32m    237\u001b[0m             \u001b[0mThe\u001b[0m \u001b[0mfitted\u001b[0m \u001b[0mk\u001b[0m\u001b[0;34m-\u001b[0m\u001b[0mnearest\u001b[0m \u001b[0mneighbors\u001b[0m \u001b[0mclassifier\u001b[0m\u001b[0;34m.\u001b[0m\u001b[0;34m\u001b[0m\u001b[0;34m\u001b[0m\u001b[0m\n\u001b[1;32m    238\u001b[0m         \"\"\"\n\u001b[0;32m--> 239\u001b[0;31m         \u001b[0;32mreturn\u001b[0m \u001b[0mself\u001b[0m\u001b[0;34m.\u001b[0m\u001b[0m_fit\u001b[0m\u001b[0;34m(\u001b[0m\u001b[0mX\u001b[0m\u001b[0;34m,\u001b[0m \u001b[0my\u001b[0m\u001b[0;34m)\u001b[0m\u001b[0;34m\u001b[0m\u001b[0;34m\u001b[0m\u001b[0m\n\u001b[0m\u001b[1;32m    240\u001b[0m \u001b[0;34m\u001b[0m\u001b[0m\n\u001b[1;32m    241\u001b[0m     \u001b[0;32mdef\u001b[0m \u001b[0mpredict\u001b[0m\u001b[0;34m(\u001b[0m\u001b[0mself\u001b[0m\u001b[0;34m,\u001b[0m \u001b[0mX\u001b[0m\u001b[0;34m)\u001b[0m\u001b[0;34m:\u001b[0m\u001b[0;34m\u001b[0m\u001b[0;34m\u001b[0m\u001b[0m\n",
            "\u001b[0;32m/usr/local/lib/python3.11/dist-packages/sklearn/neighbors/_base.py\u001b[0m in \u001b[0;36m_fit\u001b[0;34m(self, X, y)\u001b[0m\n\u001b[1;32m    476\u001b[0m         \u001b[0;32mif\u001b[0m \u001b[0mself\u001b[0m\u001b[0;34m.\u001b[0m\u001b[0m__sklearn_tags__\u001b[0m\u001b[0;34m(\u001b[0m\u001b[0;34m)\u001b[0m\u001b[0;34m.\u001b[0m\u001b[0mtarget_tags\u001b[0m\u001b[0;34m.\u001b[0m\u001b[0mrequired\u001b[0m\u001b[0;34m:\u001b[0m\u001b[0;34m\u001b[0m\u001b[0;34m\u001b[0m\u001b[0m\n\u001b[1;32m    477\u001b[0m             \u001b[0;32mif\u001b[0m \u001b[0;32mnot\u001b[0m \u001b[0misinstance\u001b[0m\u001b[0;34m(\u001b[0m\u001b[0mX\u001b[0m\u001b[0;34m,\u001b[0m \u001b[0;34m(\u001b[0m\u001b[0mKDTree\u001b[0m\u001b[0;34m,\u001b[0m \u001b[0mBallTree\u001b[0m\u001b[0;34m,\u001b[0m \u001b[0mNeighborsBase\u001b[0m\u001b[0;34m)\u001b[0m\u001b[0;34m)\u001b[0m\u001b[0;34m:\u001b[0m\u001b[0;34m\u001b[0m\u001b[0;34m\u001b[0m\u001b[0m\n\u001b[0;32m--> 478\u001b[0;31m                 X, y = validate_data(\n\u001b[0m\u001b[1;32m    479\u001b[0m                     \u001b[0mself\u001b[0m\u001b[0;34m,\u001b[0m\u001b[0;34m\u001b[0m\u001b[0;34m\u001b[0m\u001b[0m\n\u001b[1;32m    480\u001b[0m                     \u001b[0mX\u001b[0m\u001b[0;34m,\u001b[0m\u001b[0;34m\u001b[0m\u001b[0;34m\u001b[0m\u001b[0m\n",
            "\u001b[0;32m/usr/local/lib/python3.11/dist-packages/sklearn/utils/validation.py\u001b[0m in \u001b[0;36mvalidate_data\u001b[0;34m(_estimator, X, y, reset, validate_separately, skip_check_array, **check_params)\u001b[0m\n\u001b[1;32m   2959\u001b[0m             \u001b[0my\u001b[0m \u001b[0;34m=\u001b[0m \u001b[0mcheck_array\u001b[0m\u001b[0;34m(\u001b[0m\u001b[0my\u001b[0m\u001b[0;34m,\u001b[0m \u001b[0minput_name\u001b[0m\u001b[0;34m=\u001b[0m\u001b[0;34m\"y\"\u001b[0m\u001b[0;34m,\u001b[0m \u001b[0;34m**\u001b[0m\u001b[0mcheck_y_params\u001b[0m\u001b[0;34m)\u001b[0m\u001b[0;34m\u001b[0m\u001b[0;34m\u001b[0m\u001b[0m\n\u001b[1;32m   2960\u001b[0m         \u001b[0;32melse\u001b[0m\u001b[0;34m:\u001b[0m\u001b[0;34m\u001b[0m\u001b[0;34m\u001b[0m\u001b[0m\n\u001b[0;32m-> 2961\u001b[0;31m             \u001b[0mX\u001b[0m\u001b[0;34m,\u001b[0m \u001b[0my\u001b[0m \u001b[0;34m=\u001b[0m \u001b[0mcheck_X_y\u001b[0m\u001b[0;34m(\u001b[0m\u001b[0mX\u001b[0m\u001b[0;34m,\u001b[0m \u001b[0my\u001b[0m\u001b[0;34m,\u001b[0m \u001b[0;34m**\u001b[0m\u001b[0mcheck_params\u001b[0m\u001b[0;34m)\u001b[0m\u001b[0;34m\u001b[0m\u001b[0;34m\u001b[0m\u001b[0m\n\u001b[0m\u001b[1;32m   2962\u001b[0m         \u001b[0mout\u001b[0m \u001b[0;34m=\u001b[0m \u001b[0mX\u001b[0m\u001b[0;34m,\u001b[0m \u001b[0my\u001b[0m\u001b[0;34m\u001b[0m\u001b[0;34m\u001b[0m\u001b[0m\n\u001b[1;32m   2963\u001b[0m \u001b[0;34m\u001b[0m\u001b[0m\n",
            "\u001b[0;32m/usr/local/lib/python3.11/dist-packages/sklearn/utils/validation.py\u001b[0m in \u001b[0;36mcheck_X_y\u001b[0;34m(X, y, accept_sparse, accept_large_sparse, dtype, order, copy, force_writeable, force_all_finite, ensure_all_finite, ensure_2d, allow_nd, multi_output, ensure_min_samples, ensure_min_features, y_numeric, estimator)\u001b[0m\n\u001b[1;32m   1368\u001b[0m     \u001b[0mensure_all_finite\u001b[0m \u001b[0;34m=\u001b[0m \u001b[0m_deprecate_force_all_finite\u001b[0m\u001b[0;34m(\u001b[0m\u001b[0mforce_all_finite\u001b[0m\u001b[0;34m,\u001b[0m \u001b[0mensure_all_finite\u001b[0m\u001b[0;34m)\u001b[0m\u001b[0;34m\u001b[0m\u001b[0;34m\u001b[0m\u001b[0m\n\u001b[1;32m   1369\u001b[0m \u001b[0;34m\u001b[0m\u001b[0m\n\u001b[0;32m-> 1370\u001b[0;31m     X = check_array(\n\u001b[0m\u001b[1;32m   1371\u001b[0m         \u001b[0mX\u001b[0m\u001b[0;34m,\u001b[0m\u001b[0;34m\u001b[0m\u001b[0;34m\u001b[0m\u001b[0m\n\u001b[1;32m   1372\u001b[0m         \u001b[0maccept_sparse\u001b[0m\u001b[0;34m=\u001b[0m\u001b[0maccept_sparse\u001b[0m\u001b[0;34m,\u001b[0m\u001b[0;34m\u001b[0m\u001b[0;34m\u001b[0m\u001b[0m\n",
            "\u001b[0;32m/usr/local/lib/python3.11/dist-packages/sklearn/utils/validation.py\u001b[0m in \u001b[0;36mcheck_array\u001b[0;34m(array, accept_sparse, accept_large_sparse, dtype, order, copy, force_writeable, force_all_finite, ensure_all_finite, ensure_non_negative, ensure_2d, allow_nd, ensure_min_samples, ensure_min_features, estimator, input_name)\u001b[0m\n\u001b[1;32m   1053\u001b[0m                     \u001b[0marray\u001b[0m \u001b[0;34m=\u001b[0m \u001b[0mxp\u001b[0m\u001b[0;34m.\u001b[0m\u001b[0mastype\u001b[0m\u001b[0;34m(\u001b[0m\u001b[0marray\u001b[0m\u001b[0;34m,\u001b[0m \u001b[0mdtype\u001b[0m\u001b[0;34m,\u001b[0m \u001b[0mcopy\u001b[0m\u001b[0;34m=\u001b[0m\u001b[0;32mFalse\u001b[0m\u001b[0;34m)\u001b[0m\u001b[0;34m\u001b[0m\u001b[0;34m\u001b[0m\u001b[0m\n\u001b[1;32m   1054\u001b[0m                 \u001b[0;32melse\u001b[0m\u001b[0;34m:\u001b[0m\u001b[0;34m\u001b[0m\u001b[0;34m\u001b[0m\u001b[0m\n\u001b[0;32m-> 1055\u001b[0;31m                     \u001b[0marray\u001b[0m \u001b[0;34m=\u001b[0m \u001b[0m_asarray_with_order\u001b[0m\u001b[0;34m(\u001b[0m\u001b[0marray\u001b[0m\u001b[0;34m,\u001b[0m \u001b[0morder\u001b[0m\u001b[0;34m=\u001b[0m\u001b[0morder\u001b[0m\u001b[0;34m,\u001b[0m \u001b[0mdtype\u001b[0m\u001b[0;34m=\u001b[0m\u001b[0mdtype\u001b[0m\u001b[0;34m,\u001b[0m \u001b[0mxp\u001b[0m\u001b[0;34m=\u001b[0m\u001b[0mxp\u001b[0m\u001b[0;34m)\u001b[0m\u001b[0;34m\u001b[0m\u001b[0;34m\u001b[0m\u001b[0m\n\u001b[0m\u001b[1;32m   1056\u001b[0m             \u001b[0;32mexcept\u001b[0m \u001b[0mComplexWarning\u001b[0m \u001b[0;32mas\u001b[0m \u001b[0mcomplex_warning\u001b[0m\u001b[0;34m:\u001b[0m\u001b[0;34m\u001b[0m\u001b[0;34m\u001b[0m\u001b[0m\n\u001b[1;32m   1057\u001b[0m                 raise ValueError(\n",
            "\u001b[0;32m/usr/local/lib/python3.11/dist-packages/sklearn/utils/_array_api.py\u001b[0m in \u001b[0;36m_asarray_with_order\u001b[0;34m(array, dtype, order, copy, xp, device)\u001b[0m\n\u001b[1;32m    837\u001b[0m             \u001b[0marray\u001b[0m \u001b[0;34m=\u001b[0m \u001b[0mnumpy\u001b[0m\u001b[0;34m.\u001b[0m\u001b[0marray\u001b[0m\u001b[0;34m(\u001b[0m\u001b[0marray\u001b[0m\u001b[0;34m,\u001b[0m \u001b[0morder\u001b[0m\u001b[0;34m=\u001b[0m\u001b[0morder\u001b[0m\u001b[0;34m,\u001b[0m \u001b[0mdtype\u001b[0m\u001b[0;34m=\u001b[0m\u001b[0mdtype\u001b[0m\u001b[0;34m)\u001b[0m\u001b[0;34m\u001b[0m\u001b[0;34m\u001b[0m\u001b[0m\n\u001b[1;32m    838\u001b[0m         \u001b[0;32melse\u001b[0m\u001b[0;34m:\u001b[0m\u001b[0;34m\u001b[0m\u001b[0;34m\u001b[0m\u001b[0m\n\u001b[0;32m--> 839\u001b[0;31m             \u001b[0marray\u001b[0m \u001b[0;34m=\u001b[0m \u001b[0mnumpy\u001b[0m\u001b[0;34m.\u001b[0m\u001b[0masarray\u001b[0m\u001b[0;34m(\u001b[0m\u001b[0marray\u001b[0m\u001b[0;34m,\u001b[0m \u001b[0morder\u001b[0m\u001b[0;34m=\u001b[0m\u001b[0morder\u001b[0m\u001b[0;34m,\u001b[0m \u001b[0mdtype\u001b[0m\u001b[0;34m=\u001b[0m\u001b[0mdtype\u001b[0m\u001b[0;34m)\u001b[0m\u001b[0;34m\u001b[0m\u001b[0;34m\u001b[0m\u001b[0m\n\u001b[0m\u001b[1;32m    840\u001b[0m \u001b[0;34m\u001b[0m\u001b[0m\n\u001b[1;32m    841\u001b[0m         \u001b[0;31m# At this point array is a NumPy ndarray. We convert it to an array\u001b[0m\u001b[0;34m\u001b[0m\u001b[0;34m\u001b[0m\u001b[0m\n",
            "\u001b[0;32m/usr/local/lib/python3.11/dist-packages/pandas/core/generic.py\u001b[0m in \u001b[0;36m__array__\u001b[0;34m(self, dtype, copy)\u001b[0m\n\u001b[1;32m   2151\u001b[0m     ) -> np.ndarray:\n\u001b[1;32m   2152\u001b[0m         \u001b[0mvalues\u001b[0m \u001b[0;34m=\u001b[0m \u001b[0mself\u001b[0m\u001b[0;34m.\u001b[0m\u001b[0m_values\u001b[0m\u001b[0;34m\u001b[0m\u001b[0;34m\u001b[0m\u001b[0m\n\u001b[0;32m-> 2153\u001b[0;31m         \u001b[0marr\u001b[0m \u001b[0;34m=\u001b[0m \u001b[0mnp\u001b[0m\u001b[0;34m.\u001b[0m\u001b[0masarray\u001b[0m\u001b[0;34m(\u001b[0m\u001b[0mvalues\u001b[0m\u001b[0;34m,\u001b[0m \u001b[0mdtype\u001b[0m\u001b[0;34m=\u001b[0m\u001b[0mdtype\u001b[0m\u001b[0;34m)\u001b[0m\u001b[0;34m\u001b[0m\u001b[0;34m\u001b[0m\u001b[0m\n\u001b[0m\u001b[1;32m   2154\u001b[0m         if (\n\u001b[1;32m   2155\u001b[0m             \u001b[0mastype_is_view\u001b[0m\u001b[0;34m(\u001b[0m\u001b[0mvalues\u001b[0m\u001b[0;34m.\u001b[0m\u001b[0mdtype\u001b[0m\u001b[0;34m,\u001b[0m \u001b[0marr\u001b[0m\u001b[0;34m.\u001b[0m\u001b[0mdtype\u001b[0m\u001b[0;34m)\u001b[0m\u001b[0;34m\u001b[0m\u001b[0;34m\u001b[0m\u001b[0m\n",
            "\u001b[0;31mValueError\u001b[0m: could not convert string to float: '70%'"
          ]
        }
      ]
    },
    {
      "cell_type": "code",
      "source": [
        "import numpy as np"
      ],
      "metadata": {
        "id": "OQroPxAu-Gok"
      },
      "execution_count": 17,
      "outputs": []
    },
    {
      "cell_type": "code",
      "source": [
        "import pandas as pd\n",
        "import numpy as np\n",
        "\n",
        "# Asegúrate de que los datos sean numéricos\n",
        "dx['km_hr_pend'] = pd.to_numeric(dx['km_hr_pend'], errors='coerce')\n",
        "dx['dias_pend'] = pd.to_numeric(dx['dias_pend'], errors='coerce')\n",
        "dx['progreso'] = pd.to_numeric(dx['progreso'], errors='coerce')\n",
        "\n",
        "# Definir condiciones de riesgo\n",
        "conditions = [\n",
        "    (dx['progreso'] > 90) | (dx['km_hr_pend'] < 0),\n",
        "    (dx['progreso'] > 70) & (dx['progreso'] <= 90),\n",
        "    (dx['progreso'] <= 70)\n",
        "]\n",
        "\n",
        "choices = ['Alto', 'Medio', 'Bajo']\n",
        "\n",
        "# Especificar un valor por defecto que también sea string\n",
        "dx['riesgo'] = np.select(conditions, choices, default='Desconocido')\n",
        "\n",
        "# Mostrar resultado\n",
        "print(dx[['km_hr_pend', 'dias_pend', 'progreso', 'riesgo']])\n",
        "\n"
      ],
      "metadata": {
        "colab": {
          "base_uri": "https://localhost:8080/"
        },
        "id": "Uh67PoQX96f-",
        "outputId": "4e298252-b180-4f3f-9f90-b60101a92d59"
      },
      "execution_count": null,
      "outputs": [
        {
          "output_type": "stream",
          "name": "stdout",
          "text": [
            "    km_hr_pend  dias_pend  progreso       riesgo\n",
            "0          NaN        2.0       NaN  Desconocido\n",
            "1        307.0      609.0       NaN  Desconocido\n",
            "2          NaN        2.0       NaN  Desconocido\n",
            "3          NaN        2.0       NaN  Desconocido\n",
            "4          NaN        2.0       NaN  Desconocido\n",
            "5          NaN      372.0       NaN  Desconocido\n",
            "6          NaN      301.0       NaN  Desconocido\n",
            "7          NaN      397.0       NaN  Desconocido\n",
            "8          NaN      111.0       NaN  Desconocido\n",
            "9          NaN      301.0       NaN  Desconocido\n",
            "10         NaN        2.0       NaN  Desconocido\n",
            "11         NaN      388.0       NaN  Desconocido\n",
            "12         NaN      371.0       NaN  Desconocido\n",
            "13         NaN        2.0       NaN  Desconocido\n",
            "14         NaN      241.0       NaN  Desconocido\n",
            "15         NaN      188.0       NaN  Desconocido\n",
            "16         NaN       31.0       NaN  Desconocido\n",
            "17         NaN        6.0       NaN  Desconocido\n",
            "18         NaN        2.0       NaN  Desconocido\n",
            "19         NaN        2.0       NaN  Desconocido\n",
            "20         NaN       84.0       NaN  Desconocido\n",
            "21         NaN      241.0       NaN  Desconocido\n",
            "22         NaN        7.0       NaN  Desconocido\n",
            "23         NaN       42.0       NaN  Desconocido\n",
            "24         NaN        2.0       NaN  Desconocido\n",
            "25         NaN       83.0       NaN  Desconocido\n",
            "26         NaN      392.0       NaN  Desconocido\n",
            "27         NaN      462.0       NaN  Desconocido\n",
            "28         NaN        2.0       NaN  Desconocido\n",
            "29         NaN      407.0       NaN  Desconocido\n",
            "30         NaN        2.0       NaN  Desconocido\n",
            "31         NaN        3.0       NaN  Desconocido\n",
            "32         NaN        0.0       NaN  Desconocido\n",
            "33         NaN        0.0       NaN  Desconocido\n",
            "34         NaN        0.0       NaN  Desconocido\n",
            "35         NaN        0.0       NaN  Desconocido\n"
          ]
        }
      ]
    },
    {
      "cell_type": "markdown",
      "source": [
        "**3.Crear y preparar los datos**\n"
      ],
      "metadata": {
        "id": "kOOpMJRC9O6f"
      }
    },
    {
      "cell_type": "code",
      "source": [],
      "metadata": {
        "id": "eZlMwz_Q9XwY"
      },
      "execution_count": null,
      "outputs": []
    }
  ]
}