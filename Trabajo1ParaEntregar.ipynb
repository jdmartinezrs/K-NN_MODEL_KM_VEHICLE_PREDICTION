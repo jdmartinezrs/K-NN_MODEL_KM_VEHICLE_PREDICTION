{
  "nbformat": 4,
  "nbformat_minor": 0,
  "metadata": {
    "colab": {
      "provenance": [],
      "authorship_tag": "ABX9TyOilfZtkcch0An83qb4jMLU",
      "include_colab_link": true
    },
    "kernelspec": {
      "name": "python3",
      "display_name": "Python 3"
    },
    "language_info": {
      "name": "python"
    }
  },
  "cells": [
    {
      "cell_type": "markdown",
      "metadata": {
        "id": "view-in-github",
        "colab_type": "text"
      },
      "source": [
        "<a href=\"https://colab.research.google.com/github/jdmartinezrs/incomesAndBillsProject/blob/main/Trabajo1ParaEntregar.ipynb\" target=\"_parent\"><img src=\"https://colab.research.google.com/assets/colab-badge.svg\" alt=\"Open In Colab\"/></a>"
      ]
    },
    {
      "cell_type": "markdown",
      "source": [
        "**1. Importar Dataset**"
      ],
      "metadata": {
        "id": "TMcFUx_I6tXP"
      }
    },
    {
      "cell_type": "code",
      "source": [
        "from google.colab import files\n",
        "from google.colab import drive\n",
        "drive.mount('/content/drive')"
      ],
      "metadata": {
        "colab": {
          "base_uri": "https://localhost:8080/"
        },
        "id": "yolWCZbA7UPC",
        "outputId": "70d1f355-5163-4f6e-d813-8af98a86cac2"
      },
      "execution_count": 5,
      "outputs": [
        {
          "output_type": "stream",
          "name": "stdout",
          "text": [
            "Drive already mounted at /content/drive; to attempt to forcibly remount, call drive.mount(\"/content/drive\", force_remount=True).\n"
          ]
        }
      ]
    },
    {
      "cell_type": "code",
      "source": [
        "sheet_id ='1Te2gVFrIhMKCPS5WDFTz7XuLQBBG_8CJ'\n",
        "sheet_url = f'https://docs.google.com/spreadsheets/d/{sheet_id}/export?format=csv'\n",
        "\n",
        "dp = pd.read_csv(sheet_url, header=5)\n",
        "print(dp.head())\n",
        "\n"
      ],
      "metadata": {
        "colab": {
          "base_uri": "https://localhost:8080/"
        },
        "id": "EbcmvLTE6_iR",
        "outputId": "65a2e4b8-7f86-442e-969a-3928adc8e21f"
      },
      "execution_count": 3,
      "outputs": [
        {
          "output_type": "stream",
          "name": "stdout",
          "text": [
            "           Fecha  ITEM CODIGO DE EQUIPO Tipo de Vehiculo fecha de revision  \\\n",
            "0            NaN   1.0  VE-DT-CH-XMD284     CARRO TANQUE         5/22/2025   \n",
            "1            NaN   2.0  VE-DT-FL-XMD588      DOBLETROQUE         5/22/2025   \n",
            "2            NaN   3.0  VE-DT-FL-SUE755      DOBLETROQUE         5/22/2025   \n",
            "3  5/22/25 19:21   4.0  VE-DT-FL-WFD547      DOBLETROQUE         5/22/2025   \n",
            "4  5/22/25 19:21   5.0  VE-DT-IN-TAV909      DOBLETROQUE         5/22/2025   \n",
            "\n",
            "  Km/ Hr Plan Fecha Ult Pre-Operacional  Dias Pend   Ult Km/Hr Km/Hr Cambio  \\\n",
            "0     10,000                  5/20/2025        2.0    320,832      316,580    \n",
            "1     10,000                  9/21/2023      609.0    209,543      199,850    \n",
            "2      8,000                  5/20/2025        2.0    431,842       429,813   \n",
            "3     10,000                  5/20/2025        2.0    269,735       263,671   \n",
            "4     10,000                  5/20/2025        2.0    288,404      287,932    \n",
            "\n",
            "  Fecha Cambio Fecha Prox Cambio Unnamed: 12 Km/Hr Proyectada Km/Hr Pend  \\\n",
            "0    6/21/2024         1/17/2025   8/15/2025         326,580      5,748    \n",
            "1    7/11/2023               NaN         NaN         209,850        307    \n",
            "2    3/12/2025         10/8/2025    5/6/2026         437,813      5,971    \n",
            "3    1/30/2025         8/28/2025   3/26/2026         273,671      3,936    \n",
            "4   11/27/2024         6/25/2025   1/21/2026         297,932      9,528    \n",
            "\n",
            "  Progreso Observaciones   \n",
            "0      57%            NaN  \n",
            "1       3%            NaN  \n",
            "2      75%            NaN  \n",
            "3      39%            NaN  \n",
            "4      95%            NaN  \n"
          ]
        }
      ]
    },
    {
      "cell_type": "code",
      "source": [
        "print(dp.isna().sum())"
      ],
      "metadata": {
        "colab": {
          "base_uri": "https://localhost:8080/"
        },
        "id": "Xyi1T9D6_zfZ",
        "outputId": "e8288386-2eea-4ade-9749-fc9d774511a3"
      },
      "execution_count": 11,
      "outputs": [
        {
          "output_type": "stream",
          "name": "stdout",
          "text": [
            "Fecha                         8\n",
            "ITEM                          4\n",
            "CODIGO DE EQUIPO              4\n",
            "Tipo de Vehiculo              4\n",
            "fecha de revision             4\n",
            "Km/ Hr Plan                   4\n",
            "Fecha Ult Pre-Operacional     4\n",
            "Dias Pend                     4\n",
            "Ult Km/Hr                     4\n",
            "Km/Hr Cambio                  4\n",
            "Fecha Cambio                  4\n",
            "Fecha Prox Cambio            14\n",
            "Unnamed: 12                  15\n",
            "Km/Hr Proyectada              4\n",
            "Km/Hr Pend                    4\n",
            "Progreso                      4\n",
            "Observaciones                32\n",
            "dtype: int64\n"
          ]
        }
      ]
    },
    {
      "cell_type": "code",
      "source": [
        "for col in dp.columns:\n",
        "    if dp[col].dtype == 'object':\n",
        "        dp[col] = dp[col].fillna('N/A')\n",
        "    else:\n",
        "        dp[col] = dp[col].fillna(0)\n",
        "\n",
        "# Mostrar resultado\n",
        "print(dp.head())"
      ],
      "metadata": {
        "colab": {
          "base_uri": "https://localhost:8080/"
        },
        "id": "XG26Ap1tARa8",
        "outputId": "169ce4a6-038b-483e-db19-4e370f18b759"
      },
      "execution_count": 12,
      "outputs": [
        {
          "output_type": "stream",
          "name": "stdout",
          "text": [
            "           Fecha  ITEM CODIGO DE EQUIPO Tipo de Vehiculo fecha de revision  \\\n",
            "0            N/A   1.0  VE-DT-CH-XMD284     CARRO TANQUE         5/22/2025   \n",
            "1            N/A   2.0  VE-DT-FL-XMD588      DOBLETROQUE         5/22/2025   \n",
            "2            N/A   3.0  VE-DT-FL-SUE755      DOBLETROQUE         5/22/2025   \n",
            "3  5/22/25 19:21   4.0  VE-DT-FL-WFD547      DOBLETROQUE         5/22/2025   \n",
            "4  5/22/25 19:21   5.0  VE-DT-IN-TAV909      DOBLETROQUE         5/22/2025   \n",
            "\n",
            "  Km/ Hr Plan Fecha Ult Pre-Operacional  Dias Pend   Ult Km/Hr Km/Hr Cambio  \\\n",
            "0     10,000                  5/20/2025        2.0    320,832      316,580    \n",
            "1     10,000                  9/21/2023      609.0    209,543      199,850    \n",
            "2      8,000                  5/20/2025        2.0    431,842       429,813   \n",
            "3     10,000                  5/20/2025        2.0    269,735       263,671   \n",
            "4     10,000                  5/20/2025        2.0    288,404      287,932    \n",
            "\n",
            "  Fecha Cambio Fecha Prox Cambio Unnamed: 12 Km/Hr Proyectada Km/Hr Pend  \\\n",
            "0    6/21/2024         1/17/2025   8/15/2025         326,580      5,748    \n",
            "1    7/11/2023               N/A         N/A         209,850        307    \n",
            "2    3/12/2025         10/8/2025    5/6/2026         437,813      5,971    \n",
            "3    1/30/2025         8/28/2025   3/26/2026         273,671      3,936    \n",
            "4   11/27/2024         6/25/2025   1/21/2026         297,932      9,528    \n",
            "\n",
            "  Progreso Observaciones   \n",
            "0      57%            N/A  \n",
            "1       3%            N/A  \n",
            "2      75%            N/A  \n",
            "3      39%            N/A  \n",
            "4      95%            N/A  \n"
          ]
        }
      ]
    },
    {
      "cell_type": "markdown",
      "source": [
        "**1.1 Importar las liberias necesarias**"
      ],
      "metadata": {
        "id": "V6uIk75X7dLK"
      }
    },
    {
      "cell_type": "code",
      "source": [
        "from sklearn.model_selection import train_test_split\n",
        "from sklearn.neighbors import KNeighborsClassifier\n",
        "import pandas as pd"
      ],
      "metadata": {
        "id": "xQ0y_k2-7iud"
      },
      "execution_count": 15,
      "outputs": []
    },
    {
      "cell_type": "markdown",
      "source": [
        "**2. Crear un conjunto de datos**"
      ],
      "metadata": {
        "id": "jPHhg3lA84n1"
      }
    },
    {
      "cell_type": "code",
      "execution_count": 16,
      "metadata": {
        "colab": {
          "base_uri": "https://localhost:8080/"
        },
        "id": "UFKDvgTc6hup",
        "outputId": "8e0481f9-5aba-4cc7-8272-075ab7964d9c"
      },
      "outputs": [
        {
          "output_type": "stream",
          "name": "stdout",
          "text": [
            "   km_hr_pend  dias_pend progreso\n",
            "0      5,748         2.0      57%\n",
            "1        307       609.0       3%\n",
            "2      5,971         2.0      75%\n",
            "3      3,936         2.0      39%\n",
            "4      9,528         2.0      95%\n",
            "5      1,789       372.0      15%\n",
            "6     11,446       301.0      95%\n",
            "7     12,352       397.0     103%\n",
            "8      7,034       111.0      70%\n",
            "9      5,675       301.0      47%\n",
            "10     4,015         2.0      40%\n",
            "11    12,049       388.0     100%\n",
            "12    12,006       371.0     100%\n",
            "13     4,605         2.0      46%\n",
            "14     9,655       241.0      97%\n",
            "15     7,087       188.0      71%\n",
            "16     5,463        31.0      55%\n",
            "17     3,481         6.0      35%\n",
            "18     9,160         2.0      92%\n",
            "19     2,769         2.0      55%\n",
            "20     5,000        84.0     100%\n",
            "21     - 429       241.0      -5%\n",
            "22    12,000         7.0     100%\n",
            "23     8,555        42.0      71%\n",
            "24     3,499         2.0      58%\n",
            "25     2,410        83.0      40%\n",
            "26     6,274       392.0      90%\n",
            "27     6,665       462.0      95%\n",
            "28     3,468         2.0      58%\n",
            "29     3,985       407.0      57%\n",
            "30     7,545         2.0      75%\n",
            "31    12,000         3.0     100%\n",
            "32        N/A        0.0      N/A\n",
            "33        N/A        0.0      N/A\n",
            "34        N/A        0.0      N/A\n",
            "35        N/A        0.0      N/A\n"
          ]
        }
      ],
      "source": [
        "data = {\n",
        "    'km_hr_pend': dp['Km/Hr Pend'].tolist(),  # Convert column to a list\n",
        "    'dias_pend': dp['Dias Pend'].tolist(),  # Convert column to a list\n",
        "    'progreso': dp['Progreso'].tolist()  # Convert column to a list\n",
        "}\n",
        "\n",
        "dx = pd.DataFrame(data)\n",
        "print(dx)"
      ]
    },
    {
      "cell_type": "code",
      "source": [
        "import numpy as np"
      ],
      "metadata": {
        "id": "OQroPxAu-Gok"
      },
      "execution_count": 7,
      "outputs": []
    },
    {
      "cell_type": "code",
      "source": [
        "import pandas as pd\n",
        "import numpy as np\n",
        "\n",
        "# Asegúrate de que los datos sean numéricos\n",
        "dx['km_hr_pend'] = pd.to_numeric(dx['km_hr_pend'], errors='coerce')\n",
        "dx['dias_pend'] = pd.to_numeric(dx['dias_pend'], errors='coerce')\n",
        "dx['progreso'] = pd.to_numeric(dx['progreso'], errors='coerce')\n",
        "\n",
        "# Definir condiciones de riesgo\n",
        "conditions = [\n",
        "    (dx['progreso'] > 90) | (dx['km_hr_pend'] < 0),\n",
        "    (dx['progreso'] > 70) & (dx['progreso'] <= 90),\n",
        "    (dx['progreso'] <= 70)\n",
        "]\n",
        "\n",
        "choices = ['Alto', 'Medio', 'Bajo']\n",
        "\n",
        "# Especificar un valor por defecto que también sea string\n",
        "dx['riesgo'] = np.select(conditions, choices, default='Desconocido')\n",
        "\n",
        "# Mostrar resultado\n",
        "print(dx[['km_hr_pend', 'dias_pend', 'progreso', 'riesgo']])\n",
        "\n"
      ],
      "metadata": {
        "colab": {
          "base_uri": "https://localhost:8080/"
        },
        "id": "Uh67PoQX96f-",
        "outputId": "4e298252-b180-4f3f-9f90-b60101a92d59"
      },
      "execution_count": 17,
      "outputs": [
        {
          "output_type": "stream",
          "name": "stdout",
          "text": [
            "    km_hr_pend  dias_pend  progreso       riesgo\n",
            "0          NaN        2.0       NaN  Desconocido\n",
            "1        307.0      609.0       NaN  Desconocido\n",
            "2          NaN        2.0       NaN  Desconocido\n",
            "3          NaN        2.0       NaN  Desconocido\n",
            "4          NaN        2.0       NaN  Desconocido\n",
            "5          NaN      372.0       NaN  Desconocido\n",
            "6          NaN      301.0       NaN  Desconocido\n",
            "7          NaN      397.0       NaN  Desconocido\n",
            "8          NaN      111.0       NaN  Desconocido\n",
            "9          NaN      301.0       NaN  Desconocido\n",
            "10         NaN        2.0       NaN  Desconocido\n",
            "11         NaN      388.0       NaN  Desconocido\n",
            "12         NaN      371.0       NaN  Desconocido\n",
            "13         NaN        2.0       NaN  Desconocido\n",
            "14         NaN      241.0       NaN  Desconocido\n",
            "15         NaN      188.0       NaN  Desconocido\n",
            "16         NaN       31.0       NaN  Desconocido\n",
            "17         NaN        6.0       NaN  Desconocido\n",
            "18         NaN        2.0       NaN  Desconocido\n",
            "19         NaN        2.0       NaN  Desconocido\n",
            "20         NaN       84.0       NaN  Desconocido\n",
            "21         NaN      241.0       NaN  Desconocido\n",
            "22         NaN        7.0       NaN  Desconocido\n",
            "23         NaN       42.0       NaN  Desconocido\n",
            "24         NaN        2.0       NaN  Desconocido\n",
            "25         NaN       83.0       NaN  Desconocido\n",
            "26         NaN      392.0       NaN  Desconocido\n",
            "27         NaN      462.0       NaN  Desconocido\n",
            "28         NaN        2.0       NaN  Desconocido\n",
            "29         NaN      407.0       NaN  Desconocido\n",
            "30         NaN        2.0       NaN  Desconocido\n",
            "31         NaN        3.0       NaN  Desconocido\n",
            "32         NaN        0.0       NaN  Desconocido\n",
            "33         NaN        0.0       NaN  Desconocido\n",
            "34         NaN        0.0       NaN  Desconocido\n",
            "35         NaN        0.0       NaN  Desconocido\n"
          ]
        }
      ]
    },
    {
      "cell_type": "markdown",
      "source": [
        "**3.Crear y preparar los datos**\n"
      ],
      "metadata": {
        "id": "kOOpMJRC9O6f"
      }
    },
    {
      "cell_type": "code",
      "source": [],
      "metadata": {
        "id": "eZlMwz_Q9XwY"
      },
      "execution_count": null,
      "outputs": []
    }
  ]
}