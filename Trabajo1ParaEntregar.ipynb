{
  "nbformat": 4,
  "nbformat_minor": 0,
  "metadata": {
    "colab": {
      "provenance": [],
      "authorship_tag": "ABX9TyN4vIk8HUT+dc8uA3E10zUo",
      "include_colab_link": true
    },
    "kernelspec": {
      "name": "python3",
      "display_name": "Python 3"
    },
    "language_info": {
      "name": "python"
    }
  },
  "cells": [
    {
      "cell_type": "markdown",
      "metadata": {
        "id": "view-in-github",
        "colab_type": "text"
      },
      "source": [
        "<a href=\"https://colab.research.google.com/github/jdmartinezrs/incomesAndBillsProject/blob/main/Trabajo1ParaEntregar.ipynb\" target=\"_parent\"><img src=\"https://colab.research.google.com/assets/colab-badge.svg\" alt=\"Open In Colab\"/></a>"
      ]
    },
    {
      "cell_type": "markdown",
      "source": [
        "**1. Importar Dataset**"
      ],
      "metadata": {
        "id": "TMcFUx_I6tXP"
      }
    },
    {
      "cell_type": "code",
      "source": [
        "from google.colab import files\n",
        "from google.colab import drive\n",
        "drive.mount('/content/drive')"
      ],
      "metadata": {
        "colab": {
          "base_uri": "https://localhost:8080/"
        },
        "id": "yolWCZbA7UPC",
        "outputId": "70d1f355-5163-4f6e-d813-8af98a86cac2"
      },
      "execution_count": 5,
      "outputs": [
        {
          "output_type": "stream",
          "name": "stdout",
          "text": [
            "Drive already mounted at /content/drive; to attempt to forcibly remount, call drive.mount(\"/content/drive\", force_remount=True).\n"
          ]
        }
      ]
    },
    {
      "cell_type": "code",
      "source": [
        "sheet_id ='1Te2gVFrIhMKCPS5WDFTz7XuLQBBG_8CJ'\n",
        "sheet_url = f'https://docs.google.com/spreadsheets/d/{sheet_id}/export?format=csv'\n",
        "\n",
        "dp = pd.read_csv(sheet_url, header=5)\n",
        "print(dp.head())"
      ],
      "metadata": {
        "colab": {
          "base_uri": "https://localhost:8080/"
        },
        "id": "EbcmvLTE6_iR",
        "outputId": "65a2e4b8-7f86-442e-969a-3928adc8e21f"
      },
      "execution_count": 3,
      "outputs": [
        {
          "output_type": "stream",
          "name": "stdout",
          "text": [
            "           Fecha  ITEM CODIGO DE EQUIPO Tipo de Vehiculo fecha de revision  \\\n",
            "0            NaN   1.0  VE-DT-CH-XMD284     CARRO TANQUE         5/22/2025   \n",
            "1            NaN   2.0  VE-DT-FL-XMD588      DOBLETROQUE         5/22/2025   \n",
            "2            NaN   3.0  VE-DT-FL-SUE755      DOBLETROQUE         5/22/2025   \n",
            "3  5/22/25 19:21   4.0  VE-DT-FL-WFD547      DOBLETROQUE         5/22/2025   \n",
            "4  5/22/25 19:21   5.0  VE-DT-IN-TAV909      DOBLETROQUE         5/22/2025   \n",
            "\n",
            "  Km/ Hr Plan Fecha Ult Pre-Operacional  Dias Pend   Ult Km/Hr Km/Hr Cambio  \\\n",
            "0     10,000                  5/20/2025        2.0    320,832      316,580    \n",
            "1     10,000                  9/21/2023      609.0    209,543      199,850    \n",
            "2      8,000                  5/20/2025        2.0    431,842       429,813   \n",
            "3     10,000                  5/20/2025        2.0    269,735       263,671   \n",
            "4     10,000                  5/20/2025        2.0    288,404      287,932    \n",
            "\n",
            "  Fecha Cambio Fecha Prox Cambio Unnamed: 12 Km/Hr Proyectada Km/Hr Pend  \\\n",
            "0    6/21/2024         1/17/2025   8/15/2025         326,580      5,748    \n",
            "1    7/11/2023               NaN         NaN         209,850        307    \n",
            "2    3/12/2025         10/8/2025    5/6/2026         437,813      5,971    \n",
            "3    1/30/2025         8/28/2025   3/26/2026         273,671      3,936    \n",
            "4   11/27/2024         6/25/2025   1/21/2026         297,932      9,528    \n",
            "\n",
            "  Progreso Observaciones   \n",
            "0      57%            NaN  \n",
            "1       3%            NaN  \n",
            "2      75%            NaN  \n",
            "3      39%            NaN  \n",
            "4      95%            NaN  \n"
          ]
        }
      ]
    },
    {
      "cell_type": "markdown",
      "source": [
        "**1.1 Importar las liberias necesarias**"
      ],
      "metadata": {
        "id": "V6uIk75X7dLK"
      }
    },
    {
      "cell_type": "code",
      "source": [
        "from sklearn.model_selection import train_test_split\n",
        "from sklearn.neighbors import KNeighborsClassifier\n",
        "import pandas as pd"
      ],
      "metadata": {
        "id": "xQ0y_k2-7iud"
      },
      "execution_count": 1,
      "outputs": []
    },
    {
      "cell_type": "code",
      "execution_count": null,
      "metadata": {
        "id": "UFKDvgTc6hup"
      },
      "outputs": [],
      "source": []
    }
  ]
}