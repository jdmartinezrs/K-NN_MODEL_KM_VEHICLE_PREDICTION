{
  "nbformat": 4,
  "nbformat_minor": 0,
  "metadata": {
    "colab": {
      "provenance": [],
      "name": "estructuras_de_datos.ipynb",
      "include_colab_link": true
    },
    "kernelspec": {
      "name": "python3",
      "display_name": "Python 3"
    },
    "language_info": {
      "name": "python"
    }
  },
  "cells": [
    {
      "cell_type": "markdown",
      "metadata": {
        "id": "view-in-github",
        "colab_type": "text"
      },
      "source": [
        "<a href=\"https://colab.research.google.com/github/jdmartinezrs/incomesAndBillsProject/blob/main/estructuras_de_datos.ipynb\" target=\"_parent\"><img src=\"https://colab.research.google.com/assets/colab-badge.svg\" alt=\"Open In Colab\"/></a>"
      ]
    },
    {
      "cell_type": "code",
      "execution_count": null,
      "metadata": {
        "id": "pat_CjAmVR7H"
      },
      "outputs": [],
      "source": [
        "lista1 = ['a',10,19,'remove',5]\n",
        "lista1.append(1000)\n",
        "print(lista1)"
      ]
    },
    {
      "cell_type": "code",
      "source": [
        "persona = {'nombre':'david','edad':19}"
      ],
      "metadata": {
        "id": "d7CrlcMPjpZV"
      },
      "execution_count": null,
      "outputs": []
    },
    {
      "cell_type": "code",
      "source": [
        "amigos = ['david','rojas','martinez','juan','martha']\n",
        "print(amigos[1])\n",
        "amigos.pop(4)\n",
        "amigos.append('elnuevo')\n",
        "print(amigos)"
      ],
      "metadata": {
        "id": "qgP2lpgsjrbn"
      },
      "execution_count": null,
      "outputs": []
    },
    {
      "cell_type": "code",
      "source": [
        "#table=[['david','rojas'],[19,10,15],[1999,1000,8888]]\n",
        "#print(table)\n",
        "\n",
        "#table[1][2]=22222\n",
        "#print(table)\n",
        "\n",
        "#for fila in table:\n",
        "#  print(table)\n",
        "\n",
        "estudiantes = [['david','martinez','rojas',19,'excelente'],['camila','andrea','navas',20,'aceptable'],['laura','andres',23,'deficiente']]\n",
        "print (estudiantes[1][3])\n",
        "estudiantes[2][3]='Sobresaliente'\n",
        "print(estudiantes)\n",
        "\n",
        "#imprime la edad del segundo estudiante y cambia la calificacion del tercero\n"
      ],
      "metadata": {
        "id": "BgNavIVZjwS3"
      },
      "execution_count": null,
      "outputs": []
    },
    {
      "cell_type": "code",
      "source": [
        "#diccionarios\n",
        "dictionary={'key1':'value1','key2':'value2','key3':'value3'}\n",
        "print(dictionary['key1'])\n",
        "print(dictionary['key2'])\n",
        "dictionary['key3']=1000\n",
        "print(dictionary)\n",
        "dictionary['key4']=19000\n",
        "print(dictionary)"
      ],
      "metadata": {
        "id": "6LqlTFemj1QL"
      },
      "execution_count": null,
      "outputs": []
    },
    {
      "cell_type": "code",
      "source": [
        "#Ejercicios\n",
        "actividades=['comer','trabajar','dormir','viajar','estudiar']\n",
        "tableactivities = [['comer',1,True],['trabajar',6,True],['dormir',7,True],['viajar',2,True],['estudiar',5,True]]\n",
        "\n",
        "for table in tableactivities:\n",
        "  print(table)\n",
        "tableactivities[1][1]=5\n",
        "print(tableactivities)"
      ],
      "metadata": {
        "id": "dNnrxYOHj4fc"
      },
      "execution_count": null,
      "outputs": []
    },
    {
      "cell_type": "markdown",
      "source": [
        "# Ejercicios\n"
      ],
      "metadata": {
        "id": "kLfm7c5KVUkq"
      }
    },
    {
      "cell_type": "code",
      "source": [
        "#peliculas\n",
        "\n",
        "movies=[{'name':'scaryMovie','year':1995,'genre':'comedy','duration':'hora15min'},\n",
        "        {'name':'shrek','year':1995,'genre':'comedy','duration':'2:30min'}\n",
        "]\n",
        "\n",
        "print(movies[1]['name'])\n",
        "movies[0]['director']='pixar'\n",
        "print(movies)"
      ],
      "metadata": {
        "id": "R0hKFAIqkBro"
      },
      "execution_count": null,
      "outputs": []
    },
    {
      "cell_type": "code",
      "source": [
        "#1\n",
        "integer_numbers=[5,10,15,20,25]\n",
        "square_of_a_number={5:25,10:100,20:400,25:625}\n",
        "\n",
        "#2\n",
        "students=[['Daniela',80,'apobado'],['Martin',70,'aprobado'],['juan',50,'reprobado']]\n",
        "\n",
        "#3\n",
        "favorite_book={'titulo:':'contemporaryArt ','clasificacion:':'Art','year:':2005}\n",
        "for book,favorite in favorite_book.items():\n",
        "  print(book,favorite)\n",
        "\n",
        "print(favorite_book['titulo:'])\n"
      ],
      "metadata": {
        "id": "RamnvWvKkEBo"
      },
      "execution_count": null,
      "outputs": []
    }
  ]
}