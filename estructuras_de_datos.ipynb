{
  "nbformat": 4,
  "nbformat_minor": 0,
  "metadata": {
    "colab": {
      "provenance": [],
      "name": "estructuras_de_datos.ipynb",
      "include_colab_link": true
    },
    "kernelspec": {
      "name": "python3",
      "display_name": "Python 3"
    },
    "language_info": {
      "name": "python"
    }
  },
  "cells": [
    {
      "cell_type": "markdown",
      "metadata": {
        "id": "view-in-github",
        "colab_type": "text"
      },
      "source": [
        "<a href=\"https://colab.research.google.com/github/jdmartinezrs/incomesAndBillsProject/blob/main/estructuras_de_datos.ipynb\" target=\"_parent\"><img src=\"https://colab.research.google.com/assets/colab-badge.svg\" alt=\"Open In Colab\"/></a>"
      ]
    },
    {
      "cell_type": "code",
      "execution_count": null,
      "metadata": {
        "id": "pat_CjAmVR7H"
      },
      "outputs": [],
      "source": [
        "lista1 = ['a',10,19,'remove',5]\n",
        "lista1.append(1000)\n",
        "print(lista1)"
      ]
    },
    {
      "cell_type": "code",
      "source": [
        "persona = {'nombre':'david','edad':19}"
      ],
      "metadata": {
        "id": "d7CrlcMPjpZV"
      },
      "execution_count": null,
      "outputs": []
    },
    {
      "cell_type": "code",
      "source": [
        "amigos = ['david','rojas','martinez','juan','martha']\n",
        "print(amigos[1])\n",
        "amigos.pop(4)\n",
        "amigos.append('elnuevo')\n",
        "print(amigos)"
      ],
      "metadata": {
        "id": "qgP2lpgsjrbn"
      },
      "execution_count": null,
      "outputs": []
    },
    {
      "cell_type": "code",
      "source": [
        "#table=[['david','rojas'],[19,10,15],[1999,1000,8888]]\n",
        "#print(table)\n",
        "\n",
        "#table[1][2]=22222\n",
        "#print(table)\n",
        "\n",
        "#for fila in table:\n",
        "#  print(table)\n",
        "\n",
        "estudiantes = [['david','martinez','rojas',19,'excelente'],['camila','andrea','navas',20,'aceptable'],['laura','andres',23,'deficiente']]\n",
        "print (estudiantes[1][3])\n",
        "estudiantes[2][3]='Sobresaliente'\n",
        "print(estudiantes)\n",
        "\n",
        "#imprime la edad del segundo estudiante y cambia la calificacion del tercero"
      ],
      "metadata": {
        "id": "BgNavIVZjwS3"
      },
      "execution_count": null,
      "outputs": []
    },
    {
      "cell_type": "code",
      "source": [
        "#diccionarios\n",
        "dictionary={'key1':'value1','key2':'value2','key3':'value3'}\n",
        "print(dictionary['key1'])\n",
        "print(dictionary['key2'])\n",
        "dictionary['key3']=1000\n",
        "print(dictionary)\n",
        "dictionary['key4']=19000\n",
        "print(dictionary)"
      ],
      "metadata": {
        "id": "6LqlTFemj1QL"
      },
      "execution_count": null,
      "outputs": []
    },
    {
      "cell_type": "markdown",
      "source": [
        "# Ejercicios\n"
      ],
      "metadata": {
        "id": "kLfm7c5KVUkq"
      }
    },
    {
      "cell_type": "code",
      "source": [
        "#Ejercicios\n",
        "actividades=['comer','trabajar','dormir','viajar','estudiar']\n",
        "tableactivities = [['comer',1,True],['trabajar',6,True],['dormir',7,True],['viajar',2,True],['estudiar',5,True]]\n",
        "\n",
        "for table in tableactivities:\n",
        "  print(table)\n",
        "tableactivities[1][1]=5\n",
        "print(tableactivities)"
      ],
      "metadata": {
        "id": "dNnrxYOHj4fc"
      },
      "execution_count": null,
      "outputs": []
    },
    {
      "cell_type": "code",
      "source": [
        "#peliculas\n",
        "\n",
        "movies=[{'name':'scaryMovie','year':1995,'genre':'comedy','duration':'hora15min'},\n",
        "        {'name':'shrek','year':1995,'genre':'comedy','duration':'2:30min'}\n",
        "]\n",
        "\n",
        "print(movies[1]['name'])\n",
        "movies[0]['director']='pixar'\n",
        "print(movies)"
      ],
      "metadata": {
        "id": "R0hKFAIqkBro"
      },
      "execution_count": null,
      "outputs": []
    },
    {
      "cell_type": "code",
      "source": [
        "#1\n",
        "integer_numbers=[5,10,15,20,25]\n",
        "square_of_a_number={5:25,10:100,20:400,25:625}\n",
        "\n",
        "#2\n",
        "students=[['Daniela',80,'apobado'],['Martin',70,'aprobado'],['juan',50,'reprobado']]\n",
        "\n",
        "#3\n",
        "favorite_book={'titulo:':'contemporaryArt ','clasificacion:':'Art','year:':2005}\n",
        "for book,favorite in favorite_book.items():\n",
        "  print(book,favorite)\n",
        "\n",
        "print(favorite_book['titulo:'])"
      ],
      "metadata": {
        "id": "RamnvWvKkEBo"
      },
      "execution_count": null,
      "outputs": []
    },
    {
      "cell_type": "code",
      "source": [
        "Actividades = []\n",
        "Precio = []\n",
        "Cantidad = []\n",
        "Total = []\n",
        "\n",
        "n = int(input('cuantas actividades vas a realizar en el dia:'))\n",
        "for i in range(n):\n",
        "    print(f\"Actividad {i+1}\")\n",
        "\n",
        "    act = input('Ingrese la actividad: ')\n",
        "    prec = float(input('Ingrese el precio: '))\n",
        "    cant = int(input('Ingrese la cantidad: '))\n",
        "    total = prec * cant\n",
        "\n",
        "    Actividades.append(act)\n",
        "    Precio.append(prec)\n",
        "    Cantidad.append(cant)\n",
        "    Total.append(total)\n",
        "\n",
        "\n",
        "#creacion tablas\n",
        "print('\\n PRESUPUESTO DEL DIA')\n",
        "print(f\"{'Actividad':<20}'{'Precio':<10}'{'Cantidad':<15}'{'Total':<10}\")\n",
        "print(\"_\"*60)\n",
        "\n",
        "for i in range(n):\n",
        "  print(f\"{Actividades[i]:<20}'{Precio[i]:<10.2f}'{Cantidad[i]:<15}'{Total[i]:<10.2f}\")\n",
        "\n",
        "Totales = sum(Total)\n",
        "print(\"_\"*60)\n",
        "print(f\"{'Totales':<20}'{Totales:<10.2f}'\")\n",
        "\n",
        "\n",
        "\n",
        "\n",
        "\n",
        "\n",
        "\n",
        "\n"
      ],
      "metadata": {
        "id": "I3M1GJEkmUq2",
        "outputId": "6f3ee050-9130-4bad-d312-4a916ee00891",
        "colab": {
          "base_uri": "https://localhost:8080/"
        }
      },
      "execution_count": 7,
      "outputs": [
        {
          "output_type": "stream",
          "name": "stdout",
          "text": [
            "cuantas actividades vas a realizar en el dia:5\n",
            "Actividad 1\n",
            "Ingrese la actividad: comer\n",
            "Ingrese el precio: 10.000\n",
            "Ingrese la cantidad: 1\n",
            "Actividad 2\n",
            "Ingrese la actividad: bailar\n",
            "Ingrese el precio: 10000\n",
            "Ingrese la cantidad: 1\n",
            "Actividad 3\n",
            "Ingrese la actividad: transporte\n",
            "Ingrese el precio: 5\n",
            "Ingrese la cantidad: 2\n",
            "Actividad 4\n",
            "Ingrese la actividad: comida\n",
            "Ingrese el precio: 20000\n",
            "Ingrese la cantidad: 3\n",
            "Actividad 5\n",
            "Ingrese la actividad: producto aseo\n",
            "Ingrese el precio: 7000\n",
            "Ingrese la cantidad: 4\n",
            "\n",
            " PRESUPUESTO DEL DIA\n",
            "Actividad           'Precio    'Cantidad       'Total     \n",
            "____________________________________________________________\n",
            "comer               '10.00     '1              '10.00     \n",
            "bailar              '10000.00  '1              '10000.00  \n",
            "transporte          '5.00      '2              '10.00     \n",
            "comida              '20000.00  '3              '60000.00  \n",
            "producto aseo       '7000.00   '4              '28000.00  \n",
            "____________________________________________________________\n",
            "Totales             '98020.00  '\n"
          ]
        }
      ]
    }
  ]
}