{
  "nbformat": 4,
  "nbformat_minor": 0,
  "metadata": {
    "colab": {
      "provenance": [],
      "name": "estructuras_de_datos.ipynb",
      "include_colab_link": true
    },
    "kernelspec": {
      "name": "python3",
      "display_name": "Python 3"
    },
    "language_info": {
      "name": "python"
    }
  },
  "cells": [
    {
      "cell_type": "markdown",
      "metadata": {
        "id": "view-in-github",
        "colab_type": "text"
      },
      "source": [
        "<a href=\"https://colab.research.google.com/github/jdmartinezrs/incomesAndBillsProject/blob/main/estructuras_de_datos.ipynb\" target=\"_parent\"><img src=\"https://colab.research.google.com/assets/colab-badge.svg\" alt=\"Open In Colab\"/></a>"
      ]
    },
    {
      "cell_type": "code",
      "execution_count": null,
      "metadata": {
        "id": "pat_CjAmVR7H"
      },
      "outputs": [],
      "source": [
        "lista1 = ['a',10,19,'remove',5]\n",
        "lista1.append(1000)\n",
        "print(lista1)"
      ]
    },
    {
      "cell_type": "code",
      "source": [
        "persona = {'nombre':'david','edad':19}"
      ],
      "metadata": {
        "id": "d7CrlcMPjpZV"
      },
      "execution_count": null,
      "outputs": []
    },
    {
      "cell_type": "code",
      "source": [
        "amigos = ['david','rojas','martinez','juan','martha']\n",
        "print(amigos[1])\n",
        "amigos.pop(4)\n",
        "amigos.append('elnuevo')\n",
        "print(amigos)"
      ],
      "metadata": {
        "id": "qgP2lpgsjrbn"
      },
      "execution_count": null,
      "outputs": []
    },
    {
      "cell_type": "code",
      "source": [
        "#table=[['david','rojas'],[19,10,15],[1999,1000,8888]]\n",
        "#print(table)\n",
        "\n",
        "#table[1][2]=22222\n",
        "#print(table)\n",
        "\n",
        "#for fila in table:\n",
        "#  print(table)\n",
        "\n",
        "estudiantes = [['david','martinez','rojas',19,'excelente'],['camila','andrea','navas',20,'aceptable'],['laura','andres',23,'deficiente']]\n",
        "print (estudiantes[1][3])\n",
        "estudiantes[2][3]='Sobresaliente'\n",
        "print(estudiantes)\n",
        "\n",
        "#imprime la edad del segundo estudiante y cambia la calificacion del tercero"
      ],
      "metadata": {
        "id": "BgNavIVZjwS3"
      },
      "execution_count": null,
      "outputs": []
    },
    {
      "cell_type": "code",
      "source": [
        "#diccionarios\n",
        "dictionary={'key1':'value1','key2':'value2','key3':'value3'}\n",
        "print(dictionary['key1'])\n",
        "print(dictionary['key2'])\n",
        "dictionary['key3']=1000\n",
        "print(dictionary)\n",
        "dictionary['key4']=19000\n",
        "print(dictionary)"
      ],
      "metadata": {
        "id": "6LqlTFemj1QL"
      },
      "execution_count": null,
      "outputs": []
    },
    {
      "cell_type": "markdown",
      "source": [
        "# Ejercicios\n"
      ],
      "metadata": {
        "id": "kLfm7c5KVUkq"
      }
    },
    {
      "cell_type": "code",
      "source": [
        "#Ejercicios\n",
        "actividades=['comer','trabajar','dormir','viajar','estudiar']\n",
        "tableactivities = [['comer',1,True],['trabajar',6,True],['dormir',7,True],['viajar',2,True],['estudiar',5,True]]\n",
        "\n",
        "\n",
        "\n",
        "for table in tableactivities:\n",
        "  print(table)\n",
        "tableactivities[1][1]=5\n",
        "print(tableactivities)"
      ],
      "metadata": {
        "id": "dNnrxYOHj4fc"
      },
      "execution_count": null,
      "outputs": []
    },
    {
      "cell_type": "code",
      "source": [
        "#peliculas\n",
        "\n",
        "movies=[{'name':'scaryMovie','year':1995,'genre':'comedy','duration':'hora15min'},\n",
        "        {'name':'shrek','year':1995,'genre':'comedy','duration':'2:30min'},\n",
        "        {'name':'shark','year':1990,'genre':'Drama','duration':'2:45min'}\n",
        "]\n",
        "\n",
        "print(movies[1]['name'])\n",
        "movies[0]['director']='pixar'\n",
        "print(movies)\n",
        "\n",
        "for movie in movies:\n",
        "  print(movie['name'])"
      ],
      "metadata": {
        "colab": {
          "base_uri": "https://localhost:8080/"
        },
        "id": "R0hKFAIqkBro",
        "outputId": "4f11a994-3f99-4f65-be20-10a5fc018c18"
      },
      "execution_count": null,
      "outputs": [
        {
          "output_type": "stream",
          "name": "stdout",
          "text": [
            "shrek\n",
            "[{'name': 'scaryMovie', 'year': 1995, 'genre': 'comedy', 'duration': 'hora15min', 'director': 'pixar'}, {'name': 'shrek', 'year': 1995, 'genre': 'comedy', 'duration': '2:30min'}, {'name': 'shark', 'year': 1990, 'genre': 'Drama', 'duration': '2:45min'}]\n",
            "scaryMovie\n",
            "shrek\n",
            "shark\n"
          ]
        }
      ]
    },
    {
      "cell_type": "code",
      "source": [
        "#1\n",
        "integer_numbers=[5,10,15,20,25]\n",
        "square_of_a_number={5:25,10:100,20:400,25:625}\n",
        "\n",
        "#2\n",
        "students=[['Daniela',80,'apobado'],['Martin',70,'aprobado'],['juan',50,'reprobado']]\n",
        "\n",
        "#3\n",
        "favorite_book={'titulo:':'contemporaryArt ','clasificacion:':'Art','year:':2005}\n",
        "for book,favorite in favorite_book.items():\n",
        "  print(book,favorite)\n",
        "\n",
        "for favorite in favorite_book.keys():\n",
        "  print(favorite)\n",
        "\n",
        "for fav in favorite_book.items():\n",
        "  print(fav)\n",
        "\n",
        "for val in favorite_book.values():\n",
        "  print(val)\n",
        "\n",
        "for favorite in favorite_book.values():\n",
        "  print(favorite)\n",
        "print(\"El nombre de mi libro favorito es\",favorite_book['titulo:'])"
      ],
      "metadata": {
        "colab": {
          "base_uri": "https://localhost:8080/"
        },
        "id": "RamnvWvKkEBo",
        "outputId": "02c58f46-6b18-4ad3-e1eb-e639bf7e01f5"
      },
      "execution_count": null,
      "outputs": [
        {
          "output_type": "stream",
          "name": "stdout",
          "text": [
            "titulo: contemporaryArt \n",
            "clasificacion: Art\n",
            "year: 2005\n",
            "titulo:\n",
            "clasificacion:\n",
            "year:\n",
            "('titulo:', 'contemporaryArt ')\n",
            "('clasificacion:', 'Art')\n",
            "('year:', 2005)\n",
            "contemporaryArt \n",
            "Art\n",
            "2005\n",
            "contemporaryArt \n",
            "Art\n",
            "2005\n",
            "El nombre de mi libro favorito es contemporaryArt \n"
          ]
        }
      ]
    },
    {
      "cell_type": "markdown",
      "source": [
        "Actividades Diarias"
      ],
      "metadata": {
        "id": "QCMsdIHe571E"
      }
    },
    {
      "cell_type": "code",
      "source": [
        "Actividades = []\n",
        "Precio = []\n",
        "Cantidad = []\n",
        "Total = []\n",
        "\n",
        "n = int(input('cuantas actividades vas a realizar en el dia:'))\n",
        "for i in range(n):\n",
        "    print(f\"Actividad {i+1}\")\n",
        "\n",
        "    act = input('Ingrese la actividad: ')\n",
        "    prec = float(input('Ingrese el precio: '))\n",
        "    cant = int(input('Ingrese la cantidad: '))\n",
        "    total = prec * cant\n",
        "\n",
        "    Actividades.append(act)\n",
        "    Precio.append(prec)\n",
        "    Cantidad.append(cant)\n",
        "    Total.append(total)\n",
        "\n",
        "\n",
        "#creacion tablas\n",
        "print('\\n PRESUPUESTO DEL DIA')\n",
        "print(f\"{'Actividad':<20}'{'Precio':<10}'{'Cantidad':<15}'{'Total':<10}\")\n",
        "print(\"_\"*60)\n",
        "\n",
        "for i in range(n):\n",
        "  print(f\"{Actividades[i]:<20}'{Precio[i]:<10.2f}'{Cantidad[i]:<15}'{Total[i]:<10.2f}\")\n",
        "\n",
        "Totales = sum(Total)\n",
        "print(\"_\"*60)\n",
        "print(f\"{'Totales':<20}'{Totales:<10.2f}'\")"
      ],
      "metadata": {
        "colab": {
          "base_uri": "https://localhost:8080/"
        },
        "id": "I3M1GJEkmUq2",
        "outputId": "6f3ee050-9130-4bad-d312-4a916ee00891"
      },
      "execution_count": null,
      "outputs": [
        {
          "output_type": "stream",
          "name": "stdout",
          "text": [
            "cuantas actividades vas a realizar en el dia:5\n",
            "Actividad 1\n",
            "Ingrese la actividad: comer\n",
            "Ingrese el precio: 10.000\n",
            "Ingrese la cantidad: 1\n",
            "Actividad 2\n",
            "Ingrese la actividad: bailar\n",
            "Ingrese el precio: 10000\n",
            "Ingrese la cantidad: 1\n",
            "Actividad 3\n",
            "Ingrese la actividad: transporte\n",
            "Ingrese el precio: 5\n",
            "Ingrese la cantidad: 2\n",
            "Actividad 4\n",
            "Ingrese la actividad: comida\n",
            "Ingrese el precio: 20000\n",
            "Ingrese la cantidad: 3\n",
            "Actividad 5\n",
            "Ingrese la actividad: producto aseo\n",
            "Ingrese el precio: 7000\n",
            "Ingrese la cantidad: 4\n",
            "\n",
            " PRESUPUESTO DEL DIA\n",
            "Actividad           'Precio    'Cantidad       'Total     \n",
            "____________________________________________________________\n",
            "comer               '10.00     '1              '10.00     \n",
            "bailar              '10000.00  '1              '10000.00  \n",
            "transporte          '5.00      '2              '10.00     \n",
            "comida              '20000.00  '3              '60000.00  \n",
            "producto aseo       '7000.00   '4              '28000.00  \n",
            "____________________________________________________________\n",
            "Totales             '98020.00  '\n"
          ]
        }
      ]
    },
    {
      "cell_type": "code",
      "source": [
        "list=[1,2,3,4,5,6,7,8,9,0]\n",
        "\n",
        "for i in range(1,4):\n",
        "  print(i)"
      ],
      "metadata": {
        "id": "BBX9axgJ77dB",
        "outputId": "f5ce30b2-a6d7-4f4e-c8c3-0e6aad3f8df9",
        "colab": {
          "base_uri": "https://localhost:8080/"
        }
      },
      "execution_count": 1,
      "outputs": [
        {
          "output_type": "stream",
          "name": "stdout",
          "text": [
            "1\n",
            "2\n",
            "3\n"
          ]
        }
      ]
    },
    {
      "cell_type": "code",
      "source": [
        "num1 = float(input('Ingrese el primer numero: '))\n",
        "num2 = float(input('Ingrese el segundo numero:'))\n",
        "suma = num1 + num2\n",
        "\n",
        "print(\"El resultado de la suma es: \",suma)"
      ],
      "metadata": {
        "colab": {
          "base_uri": "https://localhost:8080/"
        },
        "id": "0BFRAMwajjq1",
        "outputId": "18923a8e-6f61-437d-b2f3-ffd9cf02ccd3"
      },
      "execution_count": 2,
      "outputs": [
        {
          "output_type": "stream",
          "name": "stdout",
          "text": [
            "Ingrese el primer numero: 8\n",
            "Ingrese el segundo numero:2\n",
            "10\n"
          ]
        }
      ]
    },
    {
      "cell_type": "code",
      "source": [
        "numeros = []\n",
        "num1 = int(input('Ingrese el primer numero:'))\n",
        "num2 = int(input('Ingrese el segundo numero:'))\n",
        "num3 = int(input('Ingrese el tercer numero:'))\n",
        "\n",
        "numeros.append(num1)\n",
        "numeros.append(num2)\n",
        "numeros.append(num3)\n",
        "\n",
        "print(\"el numero mayor es:\",max(numeros))\n",
        "\n",
        "for i in range(3):\n",
        "  print(numeros[i])\n",
        "\n"
      ],
      "metadata": {
        "colab": {
          "base_uri": "https://localhost:8080/"
        },
        "id": "HzEGPbb6j_5l",
        "outputId": "d07ca749-f273-41b1-c1fc-5f55f87aa6e3"
      },
      "execution_count": 9,
      "outputs": [
        {
          "output_type": "stream",
          "name": "stdout",
          "text": [
            "Ingrese el primer numero:12\n",
            "Ingrese el segundo numero:34\n",
            "Ingrese el tercer numero:45\n",
            "el numero mayor es: 45\n",
            "12\n",
            "34\n",
            "45\n"
          ]
        }
      ]
    },
    {
      "cell_type": "code",
      "source": [
        "a = int(input('Ingrese el primer numero:'))\n",
        "b = int(input('Ingrese el segundo numero:'))\n",
        "c = int(input('Ingrese el tercer numero:'))\n",
        "\n",
        "if a>b and a>c:\n",
        "  print('El numero mayor es:',a)\n",
        "elif b>c:\n",
        "  print('El numero mayor es:',b)\n",
        "else:\n",
        "  print('El numero mayor es:',c)"
      ],
      "metadata": {
        "colab": {
          "base_uri": "https://localhost:8080/"
        },
        "id": "qBIX023ZoFqo",
        "outputId": "e621246f-b514-4d68-d4b1-069e795f2ce5"
      },
      "execution_count": 7,
      "outputs": [
        {
          "output_type": "stream",
          "name": "stdout",
          "text": [
            "Ingrese el primer numero:89\n",
            "Ingrese el segundo numero:19\n",
            "Ingrese el tercer numero:90\n",
            "El numero mayor es: 90\n"
          ]
        }
      ]
    },
    {
      "cell_type": "code",
      "source": [
        "#tuplas\n",
        "days_of_the_week = ['Monday','Tuesday','Wednesday','Thursday','Friday','Saturday','Sunday']\n",
        "print(days_of_the_week[2])\n",
        "days_of_the_week.index('Wednesday')\n",
        "\n",
        "def weekend ():\n",
        "  print(days_of_the_week[4])\n",
        "  party='partyday'\n",
        "  days_of_the_week.append(party)\n",
        "weekend()"
      ],
      "metadata": {
        "colab": {
          "base_uri": "https://localhost:8080/"
        },
        "id": "AAK-WvcDtp_M",
        "outputId": "6a224408-22da-438a-d5c4-445e8ac86018"
      },
      "execution_count": 48,
      "outputs": [
        {
          "output_type": "stream",
          "name": "stdout",
          "text": [
            "Wednesday\n",
            "Friday\n"
          ]
        }
      ]
    },
    {
      "cell_type": "code",
      "source": [
        "repited_numbers = (3,5,3,3,3)\n",
        "repetidos=repited_numbers.count(3)\n",
        "print(repetidos)\n",
        "print(repited_numbers.count(3))\n",
        "\n",
        "repited_letter = ('a','b','c','a','a')\n",
        "print(repited_letter.count('a'))\n",
        "\n",
        "\n",
        "def count_repited_numbers():\n",
        "  print(repited_numbers.count(5))\n",
        "count_repited_numbers()"
      ],
      "metadata": {
        "colab": {
          "base_uri": "https://localhost:8080/"
        },
        "id": "BP8ImxZAuMJF",
        "outputId": "91f2c385-e4ec-44da-cab5-1bb3b35ec4dd"
      },
      "execution_count": 42,
      "outputs": [
        {
          "output_type": "stream",
          "name": "stdout",
          "text": [
            "4\n",
            "4\n",
            "3\n",
            "1\n"
          ]
        }
      ]
    },
    {
      "cell_type": "code",
      "source": [
        "fruits=['apple','orange','grape']\n",
        "print(fruits[1])\n",
        "fruits.extend(['sandia','kiwi'])\n",
        "fruits.remove('apple')\n",
        "print(fruits)\n",
        "\n",
        "for i in range(0,3):\n",
        "  print(fruits[i])\n",
        "\n",
        "for i in fruits[1]:\n",
        "  print(i)\n",
        "\n",
        "def fruits_list():\n",
        "  for fruit in fruits[3]:\n",
        "    print(fruit)\n",
        "fruits_list()\n",
        "\n",
        "fruits_list()\n",
        "\n",
        "def extend_list():\n",
        "  fruits.extend(['pera','maracuya'])\n",
        "  print(fruits)\n",
        "extend_list()"
      ],
      "metadata": {
        "colab": {
          "base_uri": "https://localhost:8080/"
        },
        "id": "DQAyxBG8y2BO",
        "outputId": "601f861c-5bfc-47aa-c58d-5ebbf136df74"
      },
      "execution_count": 41,
      "outputs": [
        {
          "output_type": "stream",
          "name": "stdout",
          "text": [
            "orange\n",
            "['orange', 'grape', 'sandia', 'kiwi']\n",
            "orange\n",
            "grape\n",
            "sandia\n",
            "g\n",
            "r\n",
            "a\n",
            "p\n",
            "e\n",
            "k\n",
            "i\n",
            "w\n",
            "i\n",
            "k\n",
            "i\n",
            "w\n",
            "i\n",
            "['orange', 'grape', 'sandia', 'kiwi', 'pera', 'maracuya']\n"
          ]
        }
      ]
    },
    {
      "cell_type": "code",
      "source": [
        "#muestra posicion [1][1]\n",
        "table=[[1,2,3,4],[5,6,7,8]]\n",
        "\n",
        "def show_numbers():\n",
        "  print(table[1][1])\n",
        "show_numbers()"
      ],
      "metadata": {
        "colab": {
          "base_uri": "https://localhost:8080/"
        },
        "id": "u5cuAHwRAHFJ",
        "outputId": "158e6ec2-d2d9-4271-e34d-59cc96119601"
      },
      "execution_count": 50,
      "outputs": [
        {
          "output_type": "stream",
          "name": "stdout",
          "text": [
            "6\n"
          ]
        }
      ]
    },
    {
      "cell_type": "code",
      "source": [
        "newtable=[['uno','dos','tres'],[1,2,3],['siete','ocho','nueve']]\n",
        "\n",
        "def modify():\n",
        "  newtable[1]=['cuatro','cinco','seis']\n",
        "  print(newtable)\n",
        "  print(newtable[1])\n",
        "  for i in range(len(newtable)):\n",
        "    print(newtable[i][0])\n",
        "modify()\n",
        "\n",
        "for i in range(3):\n",
        "  print(newtable[i][0])\n",
        "\n",
        "for i in range(3):\n",
        "  print(newtable[i][2])\n"
      ],
      "metadata": {
        "colab": {
          "base_uri": "https://localhost:8080/"
        },
        "id": "92HfsyJUA243",
        "outputId": "8cc2c0e7-e5cc-4df1-860e-c969780ef015"
      },
      "execution_count": 65,
      "outputs": [
        {
          "output_type": "stream",
          "name": "stdout",
          "text": [
            "[['uno', 'dos', 'tres'], ['cuatro', 'cinco', 'seis'], ['siete', 'ocho', 'nueve']]\n",
            "['cuatro', 'cinco', 'seis']\n",
            "uno\n",
            "cuatro\n",
            "siete\n",
            "uno\n",
            "cuatro\n",
            "siete\n",
            "tres\n",
            "seis\n",
            "nueve\n"
          ]
        }
      ]
    },
    {
      "cell_type": "markdown",
      "source": [
        "Conjuntos de datos"
      ],
      "metadata": {
        "id": "YCf4_lnSJo1a"
      }
    },
    {
      "cell_type": "code",
      "source": [
        "#conjunto\n",
        "\n",
        "conjunto = {1,2,3}\n",
        "conjunto2 = {3,4,5}\n",
        "diferencia = conjunto - conjunto2\n",
        "diferencia2 = conjunto2 - conjunto\n",
        "print(diferencia)\n",
        "print(diferencia2)\n",
        "#lo que le falta al conjunto dos para ser igual al 1\n"
      ],
      "metadata": {
        "colab": {
          "base_uri": "https://localhost:8080/"
        },
        "id": "f4ZfelfDF2eI",
        "outputId": "9465b7c3-383e-4ecb-f28d-ae96825e5c37"
      },
      "execution_count": 68,
      "outputs": [
        {
          "output_type": "stream",
          "name": "stdout",
          "text": [
            "{1, 2}\n",
            "{4, 5}\n"
          ]
        }
      ]
    },
    {
      "cell_type": "code",
      "source": [
        "conjunto_ejercicio = {1,2,3}\n",
        "conjunto_ejercicio.add(4)\n",
        "print(conjunto_ejercicio)\n",
        "\n",
        "conjunto_adicional = {4,5,6}\n",
        "interseccion = conjunto_adicional & conjunto_ejercicio\n",
        "print(interseccion)\n",
        "\n",
        "union = conjunto_adicional | conjunto_ejercicio\n",
        "print(union)"
      ],
      "metadata": {
        "id": "MKmA0CfbLMGh",
        "outputId": "2ea1c489-c2ea-42ef-c033-8a8124045404",
        "colab": {
          "base_uri": "https://localhost:8080/"
        }
      },
      "execution_count": 85,
      "outputs": [
        {
          "output_type": "stream",
          "name": "stdout",
          "text": [
            "{1, 2, 3, 4}\n",
            "{4}\n",
            "{1, 2, 3, 4, 5, 6}\n"
          ]
        }
      ]
    }
  ]
}