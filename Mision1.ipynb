{
  "nbformat": 4,
  "nbformat_minor": 0,
  "metadata": {
    "colab": {
      "provenance": [],
      "authorship_tag": "ABX9TyNQxTPp9N5YWI/lP+AKpcX0",
      "include_colab_link": true
    },
    "kernelspec": {
      "name": "python3",
      "display_name": "Python 3"
    },
    "language_info": {
      "name": "python"
    }
  },
  "cells": [
    {
      "cell_type": "markdown",
      "metadata": {
        "id": "view-in-github",
        "colab_type": "text"
      },
      "source": [
        "<a href=\"https://colab.research.google.com/github/jdmartinezrs/incomesAndBillsProject/blob/main/Mision1.ipynb\" target=\"_parent\"><img src=\"https://colab.research.google.com/assets/colab-badge.svg\" alt=\"Open In Colab\"/></a>"
      ]
    },
    {
      "cell_type": "code",
      "execution_count": 47,
      "metadata": {
        "id": "Kbv5OAvXDq9d"
      },
      "outputs": [],
      "source": [
        "from google.colab import files"
      ]
    },
    {
      "cell_type": "code",
      "source": [
        "from google.colab import drive\n",
        "drive.mount('/content/drive')"
      ],
      "metadata": {
        "colab": {
          "base_uri": "https://localhost:8080/"
        },
        "id": "OFDCh-sAENiG",
        "outputId": "d25e52a8-4ec6-4449-b5fc-c45c0c8d53be"
      },
      "execution_count": 48,
      "outputs": [
        {
          "output_type": "stream",
          "name": "stdout",
          "text": [
            "Mounted at /content/drive\n"
          ]
        }
      ]
    },
    {
      "cell_type": "markdown",
      "source": [
        "Aca comieza dt"
      ],
      "metadata": {
        "id": "ZOtW2Jw4ijmq"
      }
    },
    {
      "cell_type": "code",
      "source": [
        "#Dataset de mantenimiento\n",
        "import pandas as pd\n",
        "dt = pd.read_excel(\"/content/drive/MyDrive/datasets mision1/mantenimiento.xlsm\")\n",
        "dt.shape"
      ],
      "metadata": {
        "colab": {
          "base_uri": "https://localhost:8080/"
        },
        "id": "mBXy84MIMm-S",
        "outputId": "25b9fcd6-f184-42b3-98bc-c86dc063d3f8"
      },
      "execution_count": 49,
      "outputs": [
        {
          "output_type": "execute_result",
          "data": {
            "text/plain": [
              "(41, 18)"
            ]
          },
          "metadata": {},
          "execution_count": 49
        }
      ]
    },
    {
      "cell_type": "code",
      "source": [
        "from sklearn.linear_model import LinearRegression\n",
        "import numpy as np"
      ],
      "metadata": {
        "id": "3UW_a1wgdUTV"
      },
      "execution_count": 57,
      "outputs": []
    },
    {
      "cell_type": "code",
      "source": [
        "print(dt.head(2))"
      ],
      "metadata": {
        "colab": {
          "base_uri": "https://localhost:8080/"
        },
        "id": "r7IrcaGJPWMV",
        "outputId": "b64c6a75-bdf3-4ec2-9e27-75e0d1449193"
      },
      "execution_count": 58,
      "outputs": [
        {
          "output_type": "stream",
          "name": "stdout",
          "text": [
            "  Fecha  ITEM CODIGO DE EQUIPO Tipo de Vehiculo fecha de revision  \\\n",
            "0   NaT   1.0  VE-DT-CH-XMD284     CARRO TANQUE        2025-05-23   \n",
            "1   NaT   2.0  VE-DT-FL-XMD588      DOBLETROQUE        2025-05-23   \n",
            "\n",
            "   Km/ Hr Plan Fecha Ult Pre-Operacional  Dias Pend  Ult Km/Hr  Km/Hr Cambio  \\\n",
            "0      10000.0                2025-05-20        3.0   320832.0      316580.0   \n",
            "1      10000.0                2023-09-21      610.0   209543.0      199850.0   \n",
            "\n",
            "  Fecha Cambio Fecha Prox Cambio Unnamed: 12  Km/Hr Proyectada  Km/Hr Pend  \\\n",
            "0   2024-06-21        2025-01-17  2025-08-15          326580.0      5748.0   \n",
            "1   2023-07-11               NaT         NaT          209850.0       307.0   \n",
            "\n",
            "   Progreso  Unnamed: 16 Observaciones   \n",
            "0    0.5748        57.48          57.48  \n",
            "1    0.0307          NaN            NaN  \n"
          ]
        }
      ]
    },
    {
      "cell_type": "code",
      "source": [
        "from sklearn.impute import SimpleImputer\n",
        "import numpy as np\n",
        "\n",
        "\n",
        "imputer = SimpleImputer(missing_values=np.nan, strategy='mean')\n",
        "# Ajuste el imputador a los datos y transforme las columnas\n",
        "dt['Km/Hr Pend'] = imputer.fit_transform(dt[['Km/Hr Pend']])\n",
        "dt['Ult Km/Hr'] = imputer.fit_transform(dt[['Ult Km/Hr']])\n",
        "\n",
        "\n",
        "\n",
        "\n",
        "# Now define y and x using the imputed data\n",
        "y = dt['Km/Hr Pend'].values.reshape(-1, 1)\n",
        "x = dt['Ult Km/Hr'].values.reshape(-1, 1)\n",
        "\n",
        "# Proceed with your LinearRegression model\n",
        "model = LinearRegression()\n",
        "model.fit(x, y)\n",
        "\n",
        "# Print coefficients, make predictions, etc.\n",
        "print(\"Coeficiente:\", model.coef_)\n",
        "print(\"Intercepción:\", model.intercept_)"
      ],
      "metadata": {
        "colab": {
          "base_uri": "https://localhost:8080/"
        },
        "id": "_UUQ3NHMeKdn",
        "outputId": "233719cc-40ec-4f14-d630-981e8d308b38"
      },
      "execution_count": 59,
      "outputs": [
        {
          "output_type": "stream",
          "name": "stdout",
          "text": [
            "Coeficiente: [[0.00312893]]\n",
            "Intercepción: [5427.17926385]\n"
          ]
        }
      ]
    },
    {
      "cell_type": "code",
      "source": [
        "# Define los coeficientes y la intersección de tu modelo.\n",
        "coeficiente = 0.00312893\n",
        "intercepcion = 5427.17926385"
      ],
      "metadata": {
        "id": "esP4DbQUe7Lc"
      },
      "execution_count": 60,
      "outputs": []
    },
    {
      "cell_type": "markdown",
      "source": [
        "**Coeficiente: [[0.00312893]]**\n",
        "\n",
        "Este valor (0.00312893) representa la pendiente de la línea de regresión.\n",
        "Significa que, por cada aumento de una unidad en Ult Km/Hr, se espera un aumento de aproximadamente 0.00312893 unidades en Km/Hr Pend.\n",
        "En el contexto de tu data, esto sugiere una relación lineal positiva, aunque pequeña. A medida que los kilómetros/horas registrados (Ult Km/Hr) aumentan, los kilómetros/horas pendientes (Km/Hr Pend) tienden a aumentar ligeramente.\n",
        "\n",
        "**Intercepción: [5427.17926385]**\n",
        "\n",
        "Este valor (5427.17926385) representa el punto donde la línea de regresión cruza el eje Y (cuando x es igual a 0).\n",
        "En este caso, cuando Ult Km/Hr es 0, se espera que Km/Hr Pend sea aproximadamente 5427.18.\n",
        "Sin embargo, es importante ser cauteloso con la interpretación de la intercepción si un valor de Ult Km/Hr de 0 no tiene sentido en el contexto de tus datos (por ejemplo, si nunca tienes un vehículo con 0 Kilómetros/Horas registrados). A veces, la intercepción es más un ajuste matemático para la línea de regresión."
      ],
      "metadata": {
        "id": "ZRPGTOrhe7g3"
      }
    },
    {
      "cell_type": "code",
      "source": [
        "import matplotlib.pyplot as plt\n",
        "# Define a variable for the input value (Ult Km/Hr)\n",
        "ult_km_hr_value = int(input('Ingrese la cantidad de kilometros recorridos')) # Example value\n",
        "# Calcule el Km/Hr Pend previsto utilizando la ecuación\n",
        "km_hr_pend_predicho = (coeficiente * ult_km_hr_value) + intercepcion\n",
        "print(\"Km/Hr Pend predicho:\", km_hr_pend_predicho)\n",
        "\n",
        "\n",
        "labels = ['Km Recorridos', 'Km Pendientes']\n",
        "values = [ult_km_hr_value, km_hr_pend_predicho]\n",
        "\n",
        "plt.figure(figsize=(6, 4))\n",
        "plt.bar(labels, values, color=['skyblue', 'salmon'])\n",
        "plt.title('Comparación de Km Recorridos vs. Km Pendientes')\n",
        "plt.ylabel('Kilómetros')\n",
        "plt.grid(axis='y')\n",
        "\n",
        "for i, v in enumerate(values):\n",
        "    plt.text(i, v + max(values)*0.01, f'{v:.0f}', ha='center', fontweight='bold')\n",
        "\n",
        "plt.tight_layout()\n",
        "plt.show()"
      ],
      "metadata": {
        "colab": {
          "base_uri": "https://localhost:8080/",
          "height": 442
        },
        "id": "5kA1HpiYfb8T",
        "outputId": "b280635e-0612-4367-fb20-53c3db5ea79e"
      },
      "execution_count": 65,
      "outputs": [
        {
          "output_type": "stream",
          "name": "stdout",
          "text": [
            "Ingrese la cantidad de kilometros recorridos60000\n",
            "Km/Hr Pend predicho: 5614.9150638500005\n"
          ]
        },
        {
          "output_type": "display_data",
          "data": {
            "text/plain": [
              "<Figure size 600x400 with 1 Axes>"
            ],
            "image/png": "[encoded data removed]"
          },
          "metadata": {}
        }
      ]
    },
    {
      "cell_type": "markdown",
      "source": [
        "El resultado Km/Hr Pend predicho: 6365.85826385 significa que, según tu modelo de regresión lineal, para un vehículo con 300,000 Kilómetros/Horas registrados (Ult Km/Hr), la cantidad esperada de Kilómetros/Horas pendientes (Km/Hr Pend) es aproximadamente 6365.86."
      ],
      "metadata": {
        "id": "zgge-Q8_fy9Z"
      }
    },
    {
      "cell_type": "markdown",
      "source": [
        "Contexto: La interpretación de este valor debe hacerse dentro del contexto de tus datos y lo que representan Km/Hr Pend y Ult Km/Hr. Si Km/Hr Pend indica cuánto falta para un próximo mantenimiento, entonces la predicción sugiere que un vehículo con 300,000 Km/Hr tiene aproximadamente 6365.86 Km/Hr restantes antes de su próximo mantenimiento."
      ],
      "metadata": {
        "id": "BQeuz-nDgFTC"
      }
    }
  ]
}