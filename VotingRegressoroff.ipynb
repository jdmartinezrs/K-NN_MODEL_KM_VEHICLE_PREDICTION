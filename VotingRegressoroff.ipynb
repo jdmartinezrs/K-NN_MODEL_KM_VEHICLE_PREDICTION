{
  "nbformat": 4,
  "nbformat_minor": 0,
  "metadata": {
    "colab": {
      "provenance": [],
      "authorship_tag": "ABX9TyOPRHMfBKH5207hm+TxHoyI",
      "include_colab_link": true
    },
    "kernelspec": {
      "name": "python3",
      "display_name": "Python 3"
    },
    "language_info": {
      "name": "python"
    }
  },
  "cells": [
    {
      "cell_type": "markdown",
      "metadata": {
        "id": "view-in-github",
        "colab_type": "text"
      },
      "source": [
        "<a href=\"https://colab.research.google.com/github/jdmartinezrs/K-NN_MODEL_KM_VEHICLE_PREDICTION/blob/main/VotingRegressoroff.ipynb\" target=\"_parent\"><img src=\"https://colab.research.google.com/assets/colab-badge.svg\" alt=\"Open In Colab\"/></a>"
      ]
    },
    {
      "cell_type": "code",
      "source": [
        "from google.colab import files\n",
        "from google.colab import drive\n",
        "drive.mount('/content/drive')\n",
        "import pandas as pd\n",
        "import numpy as np\n",
        "from sklearn.preprocessing import StandardScaler, OneHotEncoder\n",
        "from sklearn.impute import SimpleImputer\n",
        "from sklearn.pipeline import Pipeline\n",
        "from sklearn.compose import ColumnTransformer\n",
        "from sklearn.neighbors import KNeighborsRegressor\n",
        "import matplotlib.pyplot as plt"
      ],
      "metadata": {
        "colab": {
          "base_uri": "https://localhost:8080/"
        },
        "id": "OFDCh-sAENiG",
        "outputId": "fa26d2d5-e867-4e7a-ebb8-99f800748555"
      },
      "execution_count": 2,
      "outputs": [
        {
          "output_type": "stream",
          "name": "stdout",
          "text": [
            "Mounted at /content/drive\n"
          ]
        }
      ]
    },
    {
      "cell_type": "code",
      "source": [
        "# Cargar datos desde Google Drive\n",
        "sheet_id = '1r4szNXN8abPstdpZEtuePc89H6AJPgjq'\n",
        "sheet_url = f'https://drive.google.com/uc?id={sheet_id}&export=download'\n",
        "df = pd.read_csv(sheet_url)"
      ],
      "metadata": {
        "id": "OFPegT8V2RRs"
      },
      "execution_count": 3,
      "outputs": []
    },
    {
      "cell_type": "code",
      "source": [
        "import pandas as pd\n",
        "import matplotlib.pyplot as plt\n",
        "from sklearn.pipeline import Pipeline\n",
        "from sklearn.linear_model import LinearRegression\n",
        "from sklearn.neighbors import KNeighborsRegressor\n",
        "from sklearn.ensemble import VotingRegressor\n",
        "from sklearn.compose import ColumnTransformer\n",
        "from sklearn.preprocessing import OneHotEncoder, StandardScaler\n",
        "\n",
        "# Cargar datos\n",
        "# df = pd.read_csv('tu_archivo.csv')\n",
        "\n",
        "# Renombrar columnas para evitar espacios y caracteres especiales\n",
        "df.rename(columns={\n",
        "    'Ult Km/Hr': 'Ult_Km',\n",
        "    'Km/ Hr Plan': 'Km_Plan',\n",
        "    'Km/Hr Cambio': 'Km_Cambio',\n",
        "    'Dias Pend': 'Dias_Pend',\n",
        "    'Tipo de Vehiculo': 'Tipo_Vehiculo',\n",
        "    'Km/Hr Pend': 'Km_Pend'\n",
        "}, inplace=True)\n",
        "\n",
        "# Variables numéricas y categóricas\n",
        "numeric_features = ['Ult_Km', 'Km_Plan', 'Km_Cambio', 'Dias_Pend', 'Progreso']\n",
        "categorical_features = ['Tipo_Vehiculo']\n",
        "\n",
        "# Preprocesador\n",
        "preprocessor = ColumnTransformer([\n",
        "    ('num', StandardScaler(), numeric_features),\n",
        "    ('cat', OneHotEncoder(handle_unknown='ignore'), categorical_features)\n",
        "])\n",
        "\n",
        "# Modelos base\n",
        "model1 = ('lr', LinearRegression())\n",
        "model2 = ('knn', KNeighborsRegressor(n_neighbors=3))\n",
        "\n",
        "# Pipeline completo\n",
        "model = Pipeline([\n",
        "    ('preprocessor', preprocessor),\n",
        "    ('regressor', VotingRegressor(estimators=[model1, model2]))\n",
        "])\n",
        "\n",
        "# Separar datos para entrenamiento\n",
        "X = df[numeric_features + categorical_features]\n",
        "y = df['Km_Pend']\n",
        "\n",
        "# Entrenar modelo\n",
        "model.fit(X, y)\n",
        "\n",
        "# Lista para guardar predicciones\n",
        "resultados = []\n",
        "\n",
        "print(\"\\n--- SISTEMA DE PREDICCIÓN DE KM PENDIENTES PARA REALIZAR EL PROXIMO MANTENIMIENTO ---\")\n",
        "\n",
        "while True:\n",
        "    # Selección de tipo de vehículo\n",
        "    tipos_vehiculo = df['Tipo_Vehiculo'].unique().tolist()\n",
        "    print(\"\\nElige el tipo de vehículo:\")\n",
        "    for i, tipo in enumerate(tipos_vehiculo, start=1):\n",
        "        print(f\"{i}. {tipo}\")\n",
        "    while True:\n",
        "        opcion = input(f\"Tu opción (1-{len(tipos_vehiculo)}): \")\n",
        "        if opcion.isdigit() and 1 <= int(opcion) <= len(tipos_vehiculo):\n",
        "            tipo_vehiculo = tipos_vehiculo[int(opcion) - 1]\n",
        "            break\n",
        "        else:\n",
        "            print(\"Opción inválida.\")\n",
        "\n",
        "    # Ingreso de Km recorridos\n",
        "    while True:\n",
        "        try:\n",
        "            km_recorridos = float(input(\"Ingrese los kilómetros recorridos (Ult_Km): \"))\n",
        "            break\n",
        "        except ValueError:\n",
        "            print(\"Ingresa un número válido.\")\n",
        "\n",
        "    # Crear DataFrame de entrada con valores promedio\n",
        "    input_data = pd.DataFrame([{\n",
        "        'Ult_Km': km_recorridos,\n",
        "        'Km_Plan': df['Km_Plan'].mean(),\n",
        "        'Km_Cambio': df['Km_Cambio'].mean(),\n",
        "        'Dias_Pend': df['Dias_Pend'].mean(),\n",
        "        'Progreso': df['Progreso'].mean(),\n",
        "        'Tipo_Vehiculo': tipo_vehiculo\n",
        "    }])\n",
        "\n",
        "    # Predecir\n",
        "    pred = model.predict(input_data)[0]\n",
        "\n",
        "    # Transformar entrada para predicciones individuales\n",
        "    X_transformed = model.named_steps['preprocessor'].transform(input_data)\n",
        "    pred_lr = model.named_steps['regressor'].estimators_[0].predict(X_transformed)[0]\n",
        "    pred_knn = model.named_steps['regressor'].estimators_[1].predict(X_transformed)[0]\n",
        "\n",
        "    # Mostrar resultados\n",
        "    print(f\"\\n📈 Predicción de Linear Regression: {pred_lr:.2f}\")\n",
        "    print(f\"📊 Predicción de KNN: {pred_knn:.2f}\")\n",
        "    print(f\"🧮 Predicción final del VotingRegressor (promedio): {pred:.2f}\")\n",
        "\n",
        "    # Guardar resultados\n",
        "    resultados.append({\n",
        "        'Ult_Km': km_recorridos,\n",
        "        'Tipo_Vehiculo': tipo_vehiculo,\n",
        "        'Linear Regression': pred_lr,\n",
        "        'KNN': pred_knn,\n",
        "        'VotingRegressor': pred\n",
        "    })\n",
        "\n",
        "    # ¿Desea continuar?\n",
        "    continuar = input(\"\\n¿Deseas hacer otra predicción? (s/n): \").strip().lower()\n",
        "    if continuar != 's':\n",
        "        break\n",
        "\n",
        "# Convertir resultados a DataFrame\n",
        "df_resultados = pd.DataFrame(resultados)\n",
        "\n",
        "# Mostrar tabla resumen\n",
        "print(\"\\n--- RESUMEN DE PREDICCIONES ---\")\n",
        "print(df_resultados)\n",
        "\n",
        "# Visualización de todas las predicciones con valores encima de cada barra\n",
        "plt.figure(figsize=(10, 6))\n",
        "for i, row in df_resultados.iterrows():\n",
        "    etiqueta = f\"{row['Tipo_Vehiculo']}, {i+1}\"\n",
        "    valor = row['VotingRegressor']\n",
        "    plt.bar(etiqueta, valor, color='yellow')\n",
        "    plt.text(etiqueta, valor + 0.5, f\"{valor:.2f}\", ha='center', va='bottom', fontsize=10, color='black')\n",
        "plt.title('Predicciones de Km Pendientes')\n",
        "plt.ylabel('Kilómetros')\n",
        "plt.xlabel('Casos de Predicción')\n",
        "plt.xticks(rotation=45)\n",
        "plt.tight_layout()\n",
        "plt.show()\n"
      ],
      "metadata": {
        "colab": {
          "base_uri": "https://localhost:8080/",
          "height": 989
        },
        "id": "MyFX4AshiIbH",
        "outputId": "246d0428-5f8d-443f-afa5-61aba84bf897"
      },
      "execution_count": 9,
      "outputs": [
        {
          "output_type": "stream",
          "name": "stdout",
          "text": [
            "\n",
            "--- SISTEMA DE PREDICCIÓN DE KM PENDIENTES PARA REALIZAR EL PROXIMO MANTENIMIENTO ---\n",
            "\n",
            "Elige el tipo de vehículo:\n",
            "1. IRRIGADOR\n",
            "2.   VOLQ SENCILLA\n",
            "3. DOBLETROQUE\n",
            "4. GRUA\n",
            "5. CARRO TANQUE\n",
            "6. TRACTOCAMION\n",
            "Tu opción (1-6): 1\n",
            "Ingrese los kilómetros recorridos (Ult_Km): 5646\n",
            "\n",
            "📈 Predicción de Linear Regression: 5453.49\n",
            "📊 Predicción de KNN: 6116.67\n",
            "🧮 Predicción final del VotingRegressor (promedio): 5785.08\n",
            "\n",
            "¿Deseas hacer otra predicción? (s/n): 2\n",
            "\n",
            "--- RESUMEN DE PREDICCIONES ---\n",
            "   Ult_Km Tipo_Vehiculo  Linear Regression          KNN  VotingRegressor\n",
            "0  5646.0     IRRIGADOR           5453.494  6116.666667      5785.080333\n"
          ]
        },
        {
          "output_type": "display_data",
          "data": {
            "text/plain": [
              "<Figure size 1000x600 with 1 Axes>"
            ],
            "image/png": "[encoded data removed]"
          },
          "metadata": {}
        }
      ]
    }
  ]
}