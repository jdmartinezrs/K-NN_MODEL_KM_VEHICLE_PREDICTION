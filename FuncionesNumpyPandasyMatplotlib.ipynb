{
  "nbformat": 4,
  "nbformat_minor": 0,
  "metadata": {
    "colab": {
      "provenance": [],
      "authorship_tag": "ABX9TyNba3ghkh+EKO2khzT9Opis",
      "include_colab_link": true
    },
    "kernelspec": {
      "name": "python3",
      "display_name": "Python 3"
    },
    "language_info": {
      "name": "python"
    }
  },
  "cells": [
    {
      "cell_type": "markdown",
      "metadata": {
        "id": "view-in-github",
        "colab_type": "text"
      },
      "source": [
        "<a href=\"https://colab.research.google.com/github/jdmartinezrs/incomesAndBillsProject/blob/main/FuncionesNumpyPandasyMatplotlib.ipynb\" target=\"_parent\"><img src=\"https://colab.research.google.com/assets/colab-badge.svg\" alt=\"Open In Colab\"/></a>"
      ]
    },
    {
      "cell_type": "code",
      "execution_count": 4,
      "metadata": {
        "colab": {
          "base_uri": "https://localhost:8080/"
        },
        "id": "RrCE2kyFB4bu",
        "outputId": "cdba7745-632d-4cb5-dcee-1ed7ed48f3b1"
      },
      "outputs": [
        {
          "output_type": "stream",
          "name": "stdout",
          "text": [
            "560\n",
            "560\n"
          ]
        }
      ],
      "source": [
        "#Funciones en python\n",
        "#Una funcion es un conjunto de instrucciones agrupadas bajo un nombre reutilizable\n",
        "#Analogia\n",
        "#Receta: das ingredientes(parametros)\n",
        "\n",
        "def multiplicar(a,b):\n",
        "  multiplica= a * b\n",
        "  return multiplica\n",
        "print('El resultado es: ',multiplicar(10,56))\n",
        "\n",
        "def multipli(c,d):\n",
        "  return c * d\n",
        "resultado = multipli(10,56)\n",
        "print('El resultado es: ',resultado)"
      ]
    },
    {
      "cell_type": "markdown",
      "source": [
        "**Numpy**\n",
        "\n",
        "Es una libreria para trabajar con listas grandes de numeros y operaciones matematicas"
      ],
      "metadata": {
        "id": "qNX6ikcXGnZD"
      }
    },
    {
      "cell_type": "code",
      "source": [
        "#Es una super calculadora para muchos numeros\n",
        "import numpy as np\n",
        "arreglo = np.array([1,2,3])\n",
        "print(arreglo*2)"
      ],
      "metadata": {
        "colab": {
          "base_uri": "https://localhost:8080/"
        },
        "id": "qLwycWFzGYKr",
        "outputId": "7bf32584-396c-41d7-fe3f-4fe9a9380085"
      },
      "execution_count": 5,
      "outputs": [
        {
          "output_type": "stream",
          "name": "stdout",
          "text": [
            "[2 4 6]\n"
          ]
        }
      ]
    },
    {
      "cell_type": "code",
      "source": [
        "arreglo = np.array([1,2,3,4,5])\n",
        "resultado= arreglo*10\n",
        "\n",
        "print('arreglo original',arreglo)\n",
        "print('Arreglo multiplicado',resultado)"
      ],
      "metadata": {
        "colab": {
          "base_uri": "https://localhost:8080/"
        },
        "id": "DkRooVKiG5WD",
        "outputId": "7838b18c-20b5-4976-9be5-dd18214aad41"
      },
      "execution_count": 6,
      "outputs": [
        {
          "output_type": "stream",
          "name": "stdout",
          "text": [
            "arreglo original [1 2 3 4 5]\n",
            "Arreglo multiplicado [10 20 30 40 50]\n"
          ]
        }
      ]
    }
  ]
}