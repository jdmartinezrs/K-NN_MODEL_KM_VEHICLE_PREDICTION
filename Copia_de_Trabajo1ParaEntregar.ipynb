{
  "nbformat": 4,
  "nbformat_minor": 0,
  "metadata": {
    "colab": {
      "provenance": [],
      "authorship_tag": "ABX9TyOclx6xhKmTwFbXkqvalnqp",
      "include_colab_link": true
    },
    "kernelspec": {
      "name": "python3",
      "display_name": "Python 3"
    },
    "language_info": {
      "name": "python"
    }
  },
  "cells": [
    {
      "cell_type": "markdown",
      "metadata": {
        "id": "view-in-github",
        "colab_type": "text"
      },
      "source": [
        "<a href=\"https://colab.research.google.com/github/jdmartinezrs/incomesAndBillsProject/blob/main/Copia_de_Trabajo1ParaEntregar.ipynb\" target=\"_parent\"><img src=\"https://colab.research.google.com/assets/colab-badge.svg\" alt=\"Open In Colab\"/></a>"
      ]
    },
    {
      "cell_type": "markdown",
      "source": [
        "**1. Importar Dataset**"
      ],
      "metadata": {
        "id": "TMcFUx_I6tXP"
      }
    },
    {
      "cell_type": "code",
      "source": [
        "from google.colab import files\n",
        "from google.colab import drive\n",
        "from sklearn.neighbors import KNeighborsClassifier\n",
        "import pandas as pd\n",
        "import numpy as np\n",
        "from sklearn.model_selection import train_test_split\n",
        "from sklearn.preprocessing import StandardScaler\n",
        "from sklearn.metrics import classification_report, confusion_matrix\n",
        "drive.mount('/content/drive')"
      ],
      "metadata": {
        "colab": {
          "base_uri": "https://localhost:8080/"
        },
        "id": "yolWCZbA7UPC",
        "outputId": "2e8e2e9d-e15b-4fda-8138-979a54f3acd9"
      },
      "execution_count": 2,
      "outputs": [
        {
          "output_type": "stream",
          "name": "stdout",
          "text": [
            "Mounted at /content/drive\n"
          ]
        }
      ]
    },
    {
      "cell_type": "code",
      "source": [
        "sheet_id ='1hSCgq0sKpE_O2XI55UfuVPkA6lYoySZSCE7KWhdxWNY'\n",
        "sheet_url = f'https://docs.google.com/spreadsheets/d/{sheet_id}/export?format=csv'\n",
        "\n",
        "dp = pd.read_csv(sheet_url, header=5)\n",
        "print(dp.head())"
      ],
      "metadata": {
        "colab": {
          "base_uri": "https://localhost:8080/"
        },
        "id": "EbcmvLTE6_iR",
        "outputId": "06a66084-add5-4cf7-eec1-36fb838d5ed3"
      },
      "execution_count": 3,
      "outputs": [
        {
          "output_type": "stream",
          "name": "stdout",
          "text": [
            "           Fecha  ITEM CODIGO DE EQUIPO Tipo de Vehiculo fecha de revision  \\\n",
            "0            NaN   1.0  VE-DT-CH-XMD284     CARRO TANQUE         5/23/2025   \n",
            "1            NaN   2.0  VE-DT-FL-XMD588      DOBLETROQUE         5/23/2025   \n",
            "2            NaN   3.0  VE-DT-FL-SUE755      DOBLETROQUE         5/23/2025   \n",
            "3  5/23/25 17:32   4.0  VE-DT-FL-WFD547      DOBLETROQUE         5/23/2025   \n",
            "4  5/23/25 17:32   5.0  VE-DT-IN-TAV909      DOBLETROQUE         5/23/2025   \n",
            "\n",
            "  Km/ Hr Plan  Fecha Ult Pre-Operacional  Dias Pend   Ult Km/Hr Km/Hr Cambio  \\\n",
            "0     10,000                     45797.0        3.0    320,832      316,580    \n",
            "1     10,000                     45190.0      610.0    209,543      199,850    \n",
            "2      8,000                     45797.0        3.0    431,842       429,813   \n",
            "3     10,000                     45797.0        3.0    269,735       263,671   \n",
            "4     10,000                     45797.0        3.0    288,404      287,932    \n",
            "\n",
            "   Fecha Cambio  Fecha Prox Cambio  Unnamed: 12 Km/Hr Proyectada Km/Hr Pend  \\\n",
            "0       45464.0            45674.0      45884.0         326,580      5,748    \n",
            "1       45118.0                NaN          NaN         209,850        307    \n",
            "2       45728.0            45938.0      46148.0         437,813      5,971    \n",
            "3       45687.0            45897.0      46107.0         273,671      3,936    \n",
            "4       45623.0            45833.0      46043.0         297,932      9,528    \n",
            "\n",
            "   Progreso  Progreso2  \n",
            "0    0.5748    57.4800  \n",
            "1        3%        NaN  \n",
            "2  0.746375    74.6375  \n",
            "3    0.3936    39.3600  \n",
            "4    0.9528    95.2800  \n"
          ]
        }
      ]
    },
    {
      "cell_type": "code",
      "source": [
        "data = {\n",
        "    'km_hr_pend': pd.to_numeric(dp['Km/Hr Pend'], errors='coerce'),\n",
        "    'progreso': pd.to_numeric(dp['Progreso2'], errors='coerce')\n",
        "}\n",
        "dx = pd.DataFrame(data)"
      ],
      "metadata": {
        "id": "Xyi1T9D6_zfZ"
      },
      "execution_count": 4,
      "outputs": []
    },
    {
      "cell_type": "code",
      "source": [
        "print(\"Contenido original de dp:\")\n",
        "print(dp.head())\n",
        "\n",
        "print(\"\\nContenido procesado de dx:\")\n",
        "print(dx.head())\n",
        "print(\"\\nCantidad de filas en dx antes de limpieza:\", len(dx))\n",
        "\n",
        "# Aplicar limpieza\n",
        "dx = dx.dropna()\n",
        "\n",
        "\n",
        "dp = dp.replace([\"N/A\", \"--\"], np.nan)\n",
        "\n",
        "\n",
        "print(\"\\nCantidad de filas en dx después de limpieza:\", len(dx))\n",
        "\n"
      ],
      "metadata": {
        "colab": {
          "base_uri": "https://localhost:8080/"
        },
        "id": "-c9bfq_NB879",
        "outputId": "67122c53-9d5d-4d0f-f7d8-2f3d013c7963"
      },
      "execution_count": 24,
      "outputs": [
        {
          "output_type": "stream",
          "name": "stdout",
          "text": [
            "Contenido original de dp:\n",
            "           Fecha  ITEM CODIGO DE EQUIPO Tipo de Vehiculo fecha de revision  \\\n",
            "0            NaN   1.0  VE-DT-CH-XMD284     CARRO TANQUE         5/23/2025   \n",
            "1            NaN   2.0  VE-DT-FL-XMD588      DOBLETROQUE         5/23/2025   \n",
            "2            NaN   3.0  VE-DT-FL-SUE755      DOBLETROQUE         5/23/2025   \n",
            "3  5/23/25 17:32   4.0  VE-DT-FL-WFD547      DOBLETROQUE         5/23/2025   \n",
            "4  5/23/25 17:32   5.0  VE-DT-IN-TAV909      DOBLETROQUE         5/23/2025   \n",
            "\n",
            "  Km/ Hr Plan  Fecha Ult Pre-Operacional  Dias Pend   Ult Km/Hr Km/Hr Cambio  \\\n",
            "0     10,000                     45797.0        3.0    320,832      316,580    \n",
            "1     10,000                     45190.0      610.0    209,543      199,850    \n",
            "2      8,000                     45797.0        3.0    431,842       429,813   \n",
            "3     10,000                     45797.0        3.0    269,735       263,671   \n",
            "4     10,000                     45797.0        3.0    288,404      287,932    \n",
            "\n",
            "   Fecha Cambio  Fecha Prox Cambio  Unnamed: 12 Km/Hr Proyectada Km/Hr Pend  \\\n",
            "0       45464.0            45674.0      45884.0         326,580      5,748    \n",
            "1       45118.0                NaN          NaN         209,850        307    \n",
            "2       45728.0            45938.0      46148.0         437,813      5,971    \n",
            "3       45687.0            45897.0      46107.0         273,671      3,936    \n",
            "4       45623.0            45833.0      46043.0         297,932      9,528    \n",
            "\n",
            "   Progreso  Progreso2  \n",
            "0    0.5748    57.4800  \n",
            "1        3%        NaN  \n",
            "2  0.746375    74.6375  \n",
            "3    0.3936    39.3600  \n",
            "4    0.9528    95.2800  \n",
            "\n",
            "Contenido procesado de dx:\n",
            "Empty DataFrame\n",
            "Columns: [km_hr_pend, progreso, riesgo]\n",
            "Index: []\n",
            "\n",
            "Cantidad de filas en dx antes de limpieza: 0\n",
            "\n",
            "Cantidad de filas en dx después de limpieza: 0\n"
          ]
        }
      ]
    },
    {
      "cell_type": "code",
      "source": [
        "conditions = [\n",
        "    (dx['progreso'] > 90) | (dx['km_hr_pend'] < 0),\n",
        "    (dx['progreso'] > 70) & (dx['progreso'] <= 90),\n",
        "    (dx['progreso'] <= 70)\n",
        "]\n",
        "choices = ['Alto', 'Medio', 'Bajo']\n"
      ],
      "metadata": {
        "id": "X9M-DuZSBLmT"
      },
      "execution_count": 29,
      "outputs": []
    },
    {
      "cell_type": "code",
      "source": [
        "dx['riesgo'] = np.select(conditions, choices, default='Desconocido')\n",
        "\n"
      ],
      "metadata": {
        "id": "YWtCBj9kDv6_"
      },
      "execution_count": 34,
      "outputs": []
    },
    {
      "cell_type": "code",
      "source": [
        "x = dx[['km_hr_pend', 'progreso']]\n",
        "y = dx['riesgo']"
      ],
      "metadata": {
        "id": "LEB0XOLKBYIN"
      },
      "execution_count": 35,
      "outputs": []
    },
    {
      "cell_type": "code",
      "source": [
        "print(\"Cantidad total de muestras:\", len(x))\n",
        "\n",
        "# Split solo si hay suficientes datos y más de una clase\n",
        "if len(x) > 0 and len(y.unique()) > 1:\n",
        "    x_train, x_test, y_train, y_test = train_test_split(\n",
        "        x, y, test_size=0.2, random_state=42, stratify=y\n",
        "    )\n",
        "    print(\"Split exitoso.\")\n",
        "else:\n",
        "    print(\"No hay suficientes datos para hacer el split. Revisa tus filtros.\")"
      ],
      "metadata": {
        "colab": {
          "base_uri": "https://localhost:8080/"
        },
        "id": "tbeZ3kUrCwBg",
        "outputId": "7d3962d8-5f59-4f39-8a6c-eff1dacfef2a"
      },
      "execution_count": 38,
      "outputs": [
        {
          "output_type": "stream",
          "name": "stdout",
          "text": [
            "Cantidad total de muestras: 0\n",
            "No hay suficientes datos para hacer el split. Revisa tus filtros.\n"
          ]
        }
      ]
    },
    {
      "cell_type": "code",
      "source": [
        "x_train, x_test, y_train, y_test = train_test_split(\n",
        "    x, y, test_size=0.2, random_state=42, stratify=y\n",
        ")"
      ],
      "metadata": {
        "colab": {
          "base_uri": "https://localhost:8080/",
          "height": 369
        },
        "id": "zz3HhpZLBdH3",
        "outputId": "f7c079f6-dbe7-43d1-b422-f6480e93128f"
      },
      "execution_count": 37,
      "outputs": [
        {
          "output_type": "error",
          "ename": "ValueError",
          "evalue": "With n_samples=0, test_size=0.2 and train_size=None, the resulting train set will be empty. Adjust any of the aforementioned parameters.",
          "traceback": [
            "\u001b[0;31m---------------------------------------------------------------------------\u001b[0m",
            "\u001b[0;31mValueError\u001b[0m                                Traceback (most recent call last)",
            "\u001b[0;32m<ipython-input-37-ac90c67e1eb5>\u001b[0m in \u001b[0;36m<cell line: 0>\u001b[0;34m()\u001b[0m\n\u001b[0;32m----> 1\u001b[0;31m x_train, x_test, y_train, y_test = train_test_split(\n\u001b[0m\u001b[1;32m      2\u001b[0m     \u001b[0mx\u001b[0m\u001b[0;34m,\u001b[0m \u001b[0my\u001b[0m\u001b[0;34m,\u001b[0m \u001b[0mtest_size\u001b[0m\u001b[0;34m=\u001b[0m\u001b[0;36m0.2\u001b[0m\u001b[0;34m,\u001b[0m \u001b[0mrandom_state\u001b[0m\u001b[0;34m=\u001b[0m\u001b[0;36m42\u001b[0m\u001b[0;34m,\u001b[0m \u001b[0mstratify\u001b[0m\u001b[0;34m=\u001b[0m\u001b[0my\u001b[0m\u001b[0;34m\u001b[0m\u001b[0;34m\u001b[0m\u001b[0m\n\u001b[1;32m      3\u001b[0m )\n",
            "\u001b[0;32m/usr/local/lib/python3.11/dist-packages/sklearn/utils/_param_validation.py\u001b[0m in \u001b[0;36mwrapper\u001b[0;34m(*args, **kwargs)\u001b[0m\n\u001b[1;32m    214\u001b[0m                     )\n\u001b[1;32m    215\u001b[0m                 ):\n\u001b[0;32m--> 216\u001b[0;31m                     \u001b[0;32mreturn\u001b[0m \u001b[0mfunc\u001b[0m\u001b[0;34m(\u001b[0m\u001b[0;34m*\u001b[0m\u001b[0margs\u001b[0m\u001b[0;34m,\u001b[0m \u001b[0;34m**\u001b[0m\u001b[0mkwargs\u001b[0m\u001b[0;34m)\u001b[0m\u001b[0;34m\u001b[0m\u001b[0;34m\u001b[0m\u001b[0m\n\u001b[0m\u001b[1;32m    217\u001b[0m             \u001b[0;32mexcept\u001b[0m \u001b[0mInvalidParameterError\u001b[0m \u001b[0;32mas\u001b[0m \u001b[0me\u001b[0m\u001b[0;34m:\u001b[0m\u001b[0;34m\u001b[0m\u001b[0;34m\u001b[0m\u001b[0m\n\u001b[1;32m    218\u001b[0m                 \u001b[0;31m# When the function is just a wrapper around an estimator, we allow\u001b[0m\u001b[0;34m\u001b[0m\u001b[0;34m\u001b[0m\u001b[0m\n",
            "\u001b[0;32m/usr/local/lib/python3.11/dist-packages/sklearn/model_selection/_split.py\u001b[0m in \u001b[0;36mtrain_test_split\u001b[0;34m(test_size, train_size, random_state, shuffle, stratify, *arrays)\u001b[0m\n\u001b[1;32m   2849\u001b[0m \u001b[0;34m\u001b[0m\u001b[0m\n\u001b[1;32m   2850\u001b[0m     \u001b[0mn_samples\u001b[0m \u001b[0;34m=\u001b[0m \u001b[0m_num_samples\u001b[0m\u001b[0;34m(\u001b[0m\u001b[0marrays\u001b[0m\u001b[0;34m[\u001b[0m\u001b[0;36m0\u001b[0m\u001b[0;34m]\u001b[0m\u001b[0;34m)\u001b[0m\u001b[0;34m\u001b[0m\u001b[0;34m\u001b[0m\u001b[0m\n\u001b[0;32m-> 2851\u001b[0;31m     n_train, n_test = _validate_shuffle_split(\n\u001b[0m\u001b[1;32m   2852\u001b[0m         \u001b[0mn_samples\u001b[0m\u001b[0;34m,\u001b[0m \u001b[0mtest_size\u001b[0m\u001b[0;34m,\u001b[0m \u001b[0mtrain_size\u001b[0m\u001b[0;34m,\u001b[0m \u001b[0mdefault_test_size\u001b[0m\u001b[0;34m=\u001b[0m\u001b[0;36m0.25\u001b[0m\u001b[0;34m\u001b[0m\u001b[0;34m\u001b[0m\u001b[0m\n\u001b[1;32m   2853\u001b[0m     )\n",
            "\u001b[0;32m/usr/local/lib/python3.11/dist-packages/sklearn/model_selection/_split.py\u001b[0m in \u001b[0;36m_validate_shuffle_split\u001b[0;34m(n_samples, test_size, train_size, default_test_size)\u001b[0m\n\u001b[1;32m   2479\u001b[0m \u001b[0;34m\u001b[0m\u001b[0m\n\u001b[1;32m   2480\u001b[0m     \u001b[0;32mif\u001b[0m \u001b[0mn_train\u001b[0m \u001b[0;34m==\u001b[0m \u001b[0;36m0\u001b[0m\u001b[0;34m:\u001b[0m\u001b[0;34m\u001b[0m\u001b[0;34m\u001b[0m\u001b[0m\n\u001b[0;32m-> 2481\u001b[0;31m         raise ValueError(\n\u001b[0m\u001b[1;32m   2482\u001b[0m             \u001b[0;34m\"With n_samples={}, test_size={} and train_size={}, the \"\u001b[0m\u001b[0;34m\u001b[0m\u001b[0;34m\u001b[0m\u001b[0m\n\u001b[1;32m   2483\u001b[0m             \u001b[0;34m\"resulting train set will be empty. Adjust any of the \"\u001b[0m\u001b[0;34m\u001b[0m\u001b[0;34m\u001b[0m\u001b[0m\n",
            "\u001b[0;31mValueError\u001b[0m: With n_samples=0, test_size=0.2 and train_size=None, the resulting train set will be empty. Adjust any of the aforementioned parameters."
          ]
        }
      ]
    },
    {
      "cell_type": "code",
      "source": [
        "scaler = StandardScaler()\n",
        "x_train = scaler.fit_transform(x_train)\n",
        "x_test = scaler.transform(x_test)"
      ],
      "metadata": {
        "id": "4QGW0s3CBdsp"
      },
      "execution_count": null,
      "outputs": []
    },
    {
      "cell_type": "code",
      "source": [
        "modelo_knn = KNeighborsClassifier(n_neighbors=5)\n",
        "modelo_knn.fit(x_train, y_train)"
      ],
      "metadata": {
        "id": "PJG334YTBjyD"
      },
      "execution_count": null,
      "outputs": []
    },
    {
      "cell_type": "code",
      "source": [
        "y_pred = modelo_knn.predict(x_test)\n",
        "print(classification_report(y_test, y_pred))\n",
        "print(confusion_matrix(y_test, y_pred))"
      ],
      "metadata": {
        "id": "IVBQcn2RBp3k"
      },
      "execution_count": null,
      "outputs": []
    },
    {
      "cell_type": "markdown",
      "source": [
        "1.1 Linpieza de datos"
      ],
      "metadata": {
        "id": "a17h4i2Zvebp"
      }
    },
    {
      "cell_type": "code",
      "source": [
        "for col in dp.columns:\n",
        "    if dp[col].dtype == 'object':\n",
        "        dp[col] = dp[col].fillna('N/A')\n",
        "    else:\n",
        "        dp[col] = dp[col].fillna(0)\n",
        "\n",
        "# Mostrar resultado\n",
        "print(dp.head())\n",
        "\n",
        "def eliminar_filas_na(dp):\n",
        "    \"\"\"\n",
        "    Elimina filas que contienen 'N/A' en cualquier columna.\n",
        "    \"\"\"\n",
        "    dp = dp[~dp.apply(lambda row: 'N/A' in row.values, axis=1)]\n",
        "    return dp\n",
        "dp = eliminar_filas_na(dp)\n",
        "\n",
        "def convertir_coma_a_punto(dp, columna):\n",
        "    \"\"\"\n",
        "    Convierte los valores de una columna reemplazando las comas por puntos\n",
        "    y asegurando que sean numéricos.\n",
        "    \"\"\"\n",
        "    dp[columna] = dp[columna].astype(str).str.replace(',', '.')\n",
        "    dp[columna] = pd.to_numeric(dp[columna], errors='coerce')\n",
        "    return dp\n",
        "\n",
        "dp = convertir_coma_a_punto(dp, 'Km/Hr Pend')\n",
        "\n",
        "\n",
        "\n"
      ],
      "metadata": {
        "colab": {
          "base_uri": "https://localhost:8080/"
        },
        "id": "XG26Ap1tARa8",
        "outputId": "580d7c1f-ad2a-4bd8-e417-b5455e488041"
      },
      "execution_count": null,
      "outputs": [
        {
          "output_type": "stream",
          "name": "stdout",
          "text": [
            "           Fecha  ITEM CODIGO DE EQUIPO Tipo de Vehiculo fecha de revision  \\\n",
            "3  5/23/25 17:32   4.0  VE-DT-FL-WFD547      DOBLETROQUE         5/23/2025   \n",
            "4  5/23/25 17:32   5.0  VE-DT-IN-TAV909      DOBLETROQUE         5/23/2025   \n",
            "5  5/23/25 17:32   6.0  VE-DT-IN-TAW674      DOBLETROQUE         5/23/2025   \n",
            "6  5/23/25 17:32   7.0  VE-DT-IN-TAW675      DOBLETROQUE         5/23/2025   \n",
            "7  5/23/25 17:32   8.0  VE-DT-IN-TAW676      DOBLETROQUE         5/23/2025   \n",
            "\n",
            "  Km/ Hr Plan  Fecha Ult Pre-Operacional  Dias Pend   Ult Km/Hr Km/Hr Cambio  \\\n",
            "3     10,000                     45797.0        3.0    269,735       263,671   \n",
            "4     10,000                     45797.0        3.0    288,404      287,932    \n",
            "5     12,000                     45427.0      373.0     86,614       76,403    \n",
            "6     12,000                     45498.0      302.0    357,846      357,292    \n",
            "7     12,000                     45402.0      398.0    375,905      376,257    \n",
            "\n",
            "   Fecha Cambio  Fecha Prox Cambio  Unnamed: 12 Km/Hr Proyectada Km/Hr Pend  \\\n",
            "3       45687.0            45897.0      46107.0         273,671      3,936    \n",
            "4       45623.0            45833.0      46043.0         297,932      9,528    \n",
            "5       45294.0                0.0          0.0          88,403      1,789    \n",
            "6       45490.0                0.0          0.0         369,292     11,446    \n",
            "7       45449.0                0.0          0.0         388,257     12,352    \n",
            "\n",
            "  Progreso  Progreso2  \n",
            "3   0.3936      39.36  \n",
            "4   0.9528      95.28  \n",
            "5      15%       0.00  \n",
            "6      95%       0.00  \n",
            "7     103%       0.00  \n"
          ]
        }
      ]
    },
    {
      "cell_type": "markdown",
      "source": [
        "**1.1 Importar las liberias necesarias**"
      ],
      "metadata": {
        "id": "V6uIk75X7dLK"
      }
    },
    {
      "cell_type": "code",
      "source": [
        "from sklearn.model_selection import train_test_split\n",
        "from sklearn.neighbors import KNeighborsClassifier\n",
        "import pandas as pd"
      ],
      "metadata": {
        "id": "xQ0y_k2-7iud"
      },
      "execution_count": null,
      "outputs": []
    },
    {
      "cell_type": "markdown",
      "source": [
        "**2. Crear un conjunto de datos**"
      ],
      "metadata": {
        "id": "jPHhg3lA84n1"
      }
    },
    {
      "cell_type": "code",
      "execution_count": null,
      "metadata": {
        "colab": {
          "base_uri": "https://localhost:8080/"
        },
        "id": "UFKDvgTc6hup",
        "outputId": "e25507af-9d52-48f0-8fba-901497a3a623"
      },
      "outputs": [
        {
          "output_type": "stream",
          "name": "stdout",
          "text": [
            "    km_hr_pend   progreso2\n",
            "0        3.936   39.360000\n",
            "1        9.528   95.280000\n",
            "2        1.789    0.000000\n",
            "3       11.446    0.000000\n",
            "4       12.352    0.000000\n",
            "5        7.034   70.340000\n",
            "6        5.675    0.000000\n",
            "7        4.015   40.150000\n",
            "8       12.049    0.000000\n",
            "9       12.006    0.000000\n",
            "10       4.605   46.050000\n",
            "11       9.655    0.000000\n",
            "12       7.087    0.000000\n",
            "13       5.463   54.630000\n",
            "14       3.481   34.810000\n",
            "15       9.160   91.600000\n",
            "16       2.769   55.380000\n",
            "17       5.000  100.000000\n",
            "18       3.499   58.316667\n",
            "19       2.410   40.166667\n",
            "20       6.274    0.000000\n",
            "21       6.665    0.000000\n",
            "22       7.545   75.450000\n",
            "23      12.000  100.000000\n"
          ]
        }
      ],
      "source": [
        "data = {\n",
        "    'km_hr_pend': dp['Km/Hr Pend'].tolist(),\n",
        "    #'dias_pend': dp['Dias Pend'].tolist(),\n",
        "    'progreso2': dp['Progreso2'].tolist()\n",
        "}\n",
        "dx = pd.DataFrame(data)\n",
        "print(dx)"
      ]
    },
    {
      "cell_type": "code",
      "source": [
        "def clasificar_riesgo(progreso2, km_hr_pend):\n",
        "    if progreso2 > 90 or km_hr_pend < 0:\n",
        "        return 'Alto'\n",
        "    elif 70 <= progreso2 <= 90:\n",
        "        return 'Medio'\n",
        "    else:\n",
        "        return 'Bajo'\n",
        "\n",
        "dx['riesgo'] = dx.apply(lambda row: clasificar_riesgo(row['progreso2'], row['km_hr_pend']), axis=1)\n"
      ],
      "metadata": {
        "id": "8whzAe0HpEV3"
      },
      "execution_count": null,
      "outputs": []
    },
    {
      "cell_type": "code",
      "source": [
        "\n",
        "import numpy as np\n",
        "\n",
        "dx['km_hr_pend'] = pd.to_numeric(dx['km_hr_pend'], errors='coerce')\n",
        "#dx['dias_pend'] = pd.to_numeric(dx['dias_pend'], errors='coerce')\n",
        "dx['progreso'] = pd.to_numeric(dx['progreso2'], errors='coerce')\n",
        "\n",
        "# Definir condiciones de riesgo\n",
        "conditions = [\n",
        "    (dx['progreso'] > 90) | (dx['km_hr_pend'] < 0),\n",
        "    (dx['progreso'] > 70) & (dx['progreso'] <= 90),\n",
        "    (dx['progreso'] <= 70)\n",
        "]\n",
        "\n",
        "choices = ['Alto', 'Medio', 'Bajo']\n",
        "\n",
        "# Especificar un valor por defecto que también sea string\n",
        "dx['riesgo'] = np.select(conditions, choices, default='Desconocido')\n",
        "\n",
        "# Mostrar resultado\n",
        "print(dx[['km_hr_pend',  'progreso', 'riesgo']])\n",
        "#print(dx[['km_hr_pend', 'dias_pend', 'progreso', 'riesgo']])\n"
      ],
      "metadata": {
        "id": "4fAfpvH39w_1",
        "outputId": "db6a7a7d-b253-4537-a51a-2b8594cbb615",
        "colab": {
          "base_uri": "https://localhost:8080/"
        }
      },
      "execution_count": null,
      "outputs": [
        {
          "output_type": "stream",
          "name": "stdout",
          "text": [
            "    km_hr_pend    progreso riesgo\n",
            "0        3.936   39.360000   Bajo\n",
            "1        9.528   95.280000   Alto\n",
            "2        1.789    0.000000   Bajo\n",
            "3       11.446    0.000000   Bajo\n",
            "4       12.352    0.000000   Bajo\n",
            "5        7.034   70.340000  Medio\n",
            "6        5.675    0.000000   Bajo\n",
            "7        4.015   40.150000   Bajo\n",
            "8       12.049    0.000000   Bajo\n",
            "9       12.006    0.000000   Bajo\n",
            "10       4.605   46.050000   Bajo\n",
            "11       9.655    0.000000   Bajo\n",
            "12       7.087    0.000000   Bajo\n",
            "13       5.463   54.630000   Bajo\n",
            "14       3.481   34.810000   Bajo\n",
            "15       9.160   91.600000   Alto\n",
            "16       2.769   55.380000   Bajo\n",
            "17       5.000  100.000000   Alto\n",
            "18       3.499   58.316667   Bajo\n",
            "19       2.410   40.166667   Bajo\n",
            "20       6.274    0.000000   Bajo\n",
            "21       6.665    0.000000   Bajo\n",
            "22       7.545   75.450000  Medio\n",
            "23      12.000  100.000000   Alto\n"
          ]
        }
      ]
    },
    {
      "cell_type": "code",
      "source": [
        "print(dx.columns)\n"
      ],
      "metadata": {
        "colab": {
          "base_uri": "https://localhost:8080/"
        },
        "id": "JuXgOVmEpdUl",
        "outputId": "4301243e-edcd-4bc8-982a-f2b2ef878e4d"
      },
      "execution_count": null,
      "outputs": [
        {
          "output_type": "stream",
          "name": "stdout",
          "text": [
            "Index(['km_hr_pend', 'progreso2', 'riesgo', 'progreso'], dtype='object')\n"
          ]
        }
      ]
    },
    {
      "cell_type": "markdown",
      "source": [
        "3.Crear y preparar los datos"
      ],
      "metadata": {
        "id": "adxRoD52lEyi"
      }
    },
    {
      "cell_type": "code",
      "source": [
        "x = dx[['km_hr_pend', 'progreso2']]\n",
        "y = dx['riesgo']\n"
      ],
      "metadata": {
        "id": "PlxNm2hJlDeE"
      },
      "execution_count": null,
      "outputs": []
    },
    {
      "cell_type": "markdown",
      "source": [
        "4. Dividir los datos"
      ],
      "metadata": {
        "id": "GyK2mGUjlvKj"
      }
    },
    {
      "cell_type": "code",
      "source": [
        "x_train, x_test, y_train, y_test = train_test_split(x, y, test_size=0.2, random_state=42, stratify=y)\n"
      ],
      "metadata": {
        "id": "FM4TKhvMluYV"
      },
      "execution_count": null,
      "outputs": []
    },
    {
      "cell_type": "markdown",
      "source": [
        "5. Crear y entrenar el modelo"
      ],
      "metadata": {
        "id": "m6PL7nkJmWHz"
      }
    },
    {
      "cell_type": "code",
      "source": [
        "modelo_knn = KNeighborsClassifier(n_neighbors=3)\n",
        "modelo_knn.fit(x_train, y_train)\n"
      ],
      "metadata": {
        "colab": {
          "base_uri": "https://localhost:8080/",
          "height": 80
        },
        "id": "pl4EG2ajmaYt",
        "outputId": "0ccf2a13-81c9-4b31-bb85-569a2ff963f4"
      },
      "execution_count": null,
      "outputs": [
        {
          "output_type": "execute_result",
          "data": {
            "text/plain": [
              "KNeighborsClassifier(n_neighbors=3)"
            ],
            "text/html": [
              "<style>#sk-container-id-3 {\n",
              "  /* Definition of color scheme common for light and dark mode */\n",
              "  --sklearn-color-text: #000;\n",
              "  --sklearn-color-text-muted: #666;\n",
              "  --sklearn-color-line: gray;\n",
              "  /* Definition of color scheme for unfitted estimators */\n",
              "  --sklearn-color-unfitted-level-0: #fff5e6;\n",
              "  --sklearn-color-unfitted-level-1: #f6e4d2;\n",
              "  --sklearn-color-unfitted-level-2: #ffe0b3;\n",
              "  --sklearn-color-unfitted-level-3: chocolate;\n",
              "  /* Definition of color scheme for fitted estimators */\n",
              "  --sklearn-color-fitted-level-0: #f0f8ff;\n",
              "  --sklearn-color-fitted-level-1: #d4ebff;\n",
              "  --sklearn-color-fitted-level-2: #b3dbfd;\n",
              "  --sklearn-color-fitted-level-3: cornflowerblue;\n",
              "\n",
              "  /* Specific color for light theme */\n",
              "  --sklearn-color-text-on-default-background: var(--sg-text-color, var(--theme-code-foreground, var(--jp-content-font-color1, black)));\n",
              "  --sklearn-color-background: var(--sg-background-color, var(--theme-background, var(--jp-layout-color0, white)));\n",
              "  --sklearn-color-border-box: var(--sg-text-color, var(--theme-code-foreground, var(--jp-content-font-color1, black)));\n",
              "  --sklearn-color-icon: #696969;\n",
              "\n",
              "  @media (prefers-color-scheme: dark) {\n",
              "    /* Redefinition of color scheme for dark theme */\n",
              "    --sklearn-color-text-on-default-background: var(--sg-text-color, var(--theme-code-foreground, var(--jp-content-font-color1, white)));\n",
              "    --sklearn-color-background: var(--sg-background-color, var(--theme-background, var(--jp-layout-color0, #111)));\n",
              "    --sklearn-color-border-box: var(--sg-text-color, var(--theme-code-foreground, var(--jp-content-font-color1, white)));\n",
              "    --sklearn-color-icon: #878787;\n",
              "  }\n",
              "}\n",
              "\n",
              "#sk-container-id-3 {\n",
              "  color: var(--sklearn-color-text);\n",
              "}\n",
              "\n",
              "#sk-container-id-3 pre {\n",
              "  padding: 0;\n",
              "}\n",
              "\n",
              "#sk-container-id-3 input.sk-hidden--visually {\n",
              "  border: 0;\n",
              "  clip: rect(1px 1px 1px 1px);\n",
              "  clip: rect(1px, 1px, 1px, 1px);\n",
              "  height: 1px;\n",
              "  margin: -1px;\n",
              "  overflow: hidden;\n",
              "  padding: 0;\n",
              "  position: absolute;\n",
              "  width: 1px;\n",
              "}\n",
              "\n",
              "#sk-container-id-3 div.sk-dashed-wrapped {\n",
              "  border: 1px dashed var(--sklearn-color-line);\n",
              "  margin: 0 0.4em 0.5em 0.4em;\n",
              "  box-sizing: border-box;\n",
              "  padding-bottom: 0.4em;\n",
              "  background-color: var(--sklearn-color-background);\n",
              "}\n",
              "\n",
              "#sk-container-id-3 div.sk-container {\n",
              "  /* jupyter's `normalize.less` sets `[hidden] { display: none; }`\n",
              "     but bootstrap.min.css set `[hidden] { display: none !important; }`\n",
              "     so we also need the `!important` here to be able to override the\n",
              "     default hidden behavior on the sphinx rendered scikit-learn.org.\n",
              "     See: https://github.com/scikit-learn/scikit-learn/issues/21755 */\n",
              "  display: inline-block !important;\n",
              "  position: relative;\n",
              "}\n",
              "\n",
              "#sk-container-id-3 div.sk-text-repr-fallback {\n",
              "  display: none;\n",
              "}\n",
              "\n",
              "div.sk-parallel-item,\n",
              "div.sk-serial,\n",
              "div.sk-item {\n",
              "  /* draw centered vertical line to link estimators */\n",
              "  background-image: linear-gradient(var(--sklearn-color-text-on-default-background), var(--sklearn-color-text-on-default-background));\n",
              "  background-size: 2px 100%;\n",
              "  background-repeat: no-repeat;\n",
              "  background-position: center center;\n",
              "}\n",
              "\n",
              "/* Parallel-specific style estimator block */\n",
              "\n",
              "#sk-container-id-3 div.sk-parallel-item::after {\n",
              "  content: \"\";\n",
              "  width: 100%;\n",
              "  border-bottom: 2px solid var(--sklearn-color-text-on-default-background);\n",
              "  flex-grow: 1;\n",
              "}\n",
              "\n",
              "#sk-container-id-3 div.sk-parallel {\n",
              "  display: flex;\n",
              "  align-items: stretch;\n",
              "  justify-content: center;\n",
              "  background-color: var(--sklearn-color-background);\n",
              "  position: relative;\n",
              "}\n",
              "\n",
              "#sk-container-id-3 div.sk-parallel-item {\n",
              "  display: flex;\n",
              "  flex-direction: column;\n",
              "}\n",
              "\n",
              "#sk-container-id-3 div.sk-parallel-item:first-child::after {\n",
              "  align-self: flex-end;\n",
              "  width: 50%;\n",
              "}\n",
              "\n",
              "#sk-container-id-3 div.sk-parallel-item:last-child::after {\n",
              "  align-self: flex-start;\n",
              "  width: 50%;\n",
              "}\n",
              "\n",
              "#sk-container-id-3 div.sk-parallel-item:only-child::after {\n",
              "  width: 0;\n",
              "}\n",
              "\n",
              "/* Serial-specific style estimator block */\n",
              "\n",
              "#sk-container-id-3 div.sk-serial {\n",
              "  display: flex;\n",
              "  flex-direction: column;\n",
              "  align-items: center;\n",
              "  background-color: var(--sklearn-color-background);\n",
              "  padding-right: 1em;\n",
              "  padding-left: 1em;\n",
              "}\n",
              "\n",
              "\n",
              "/* Toggleable style: style used for estimator/Pipeline/ColumnTransformer box that is\n",
              "clickable and can be expanded/collapsed.\n",
              "- Pipeline and ColumnTransformer use this feature and define the default style\n",
              "- Estimators will overwrite some part of the style using the `sk-estimator` class\n",
              "*/\n",
              "\n",
              "/* Pipeline and ColumnTransformer style (default) */\n",
              "\n",
              "#sk-container-id-3 div.sk-toggleable {\n",
              "  /* Default theme specific background. It is overwritten whether we have a\n",
              "  specific estimator or a Pipeline/ColumnTransformer */\n",
              "  background-color: var(--sklearn-color-background);\n",
              "}\n",
              "\n",
              "/* Toggleable label */\n",
              "#sk-container-id-3 label.sk-toggleable__label {\n",
              "  cursor: pointer;\n",
              "  display: flex;\n",
              "  width: 100%;\n",
              "  margin-bottom: 0;\n",
              "  padding: 0.5em;\n",
              "  box-sizing: border-box;\n",
              "  text-align: center;\n",
              "  align-items: start;\n",
              "  justify-content: space-between;\n",
              "  gap: 0.5em;\n",
              "}\n",
              "\n",
              "#sk-container-id-3 label.sk-toggleable__label .caption {\n",
              "  font-size: 0.6rem;\n",
              "  font-weight: lighter;\n",
              "  color: var(--sklearn-color-text-muted);\n",
              "}\n",
              "\n",
              "#sk-container-id-3 label.sk-toggleable__label-arrow:before {\n",
              "  /* Arrow on the left of the label */\n",
              "  content: \"▸\";\n",
              "  float: left;\n",
              "  margin-right: 0.25em;\n",
              "  color: var(--sklearn-color-icon);\n",
              "}\n",
              "\n",
              "#sk-container-id-3 label.sk-toggleable__label-arrow:hover:before {\n",
              "  color: var(--sklearn-color-text);\n",
              "}\n",
              "\n",
              "/* Toggleable content - dropdown */\n",
              "\n",
              "#sk-container-id-3 div.sk-toggleable__content {\n",
              "  max-height: 0;\n",
              "  max-width: 0;\n",
              "  overflow: hidden;\n",
              "  text-align: left;\n",
              "  /* unfitted */\n",
              "  background-color: var(--sklearn-color-unfitted-level-0);\n",
              "}\n",
              "\n",
              "#sk-container-id-3 div.sk-toggleable__content.fitted {\n",
              "  /* fitted */\n",
              "  background-color: var(--sklearn-color-fitted-level-0);\n",
              "}\n",
              "\n",
              "#sk-container-id-3 div.sk-toggleable__content pre {\n",
              "  margin: 0.2em;\n",
              "  border-radius: 0.25em;\n",
              "  color: var(--sklearn-color-text);\n",
              "  /* unfitted */\n",
              "  background-color: var(--sklearn-color-unfitted-level-0);\n",
              "}\n",
              "\n",
              "#sk-container-id-3 div.sk-toggleable__content.fitted pre {\n",
              "  /* unfitted */\n",
              "  background-color: var(--sklearn-color-fitted-level-0);\n",
              "}\n",
              "\n",
              "#sk-container-id-3 input.sk-toggleable__control:checked~div.sk-toggleable__content {\n",
              "  /* Expand drop-down */\n",
              "  max-height: 200px;\n",
              "  max-width: 100%;\n",
              "  overflow: auto;\n",
              "}\n",
              "\n",
              "#sk-container-id-3 input.sk-toggleable__control:checked~label.sk-toggleable__label-arrow:before {\n",
              "  content: \"▾\";\n",
              "}\n",
              "\n",
              "/* Pipeline/ColumnTransformer-specific style */\n",
              "\n",
              "#sk-container-id-3 div.sk-label input.sk-toggleable__control:checked~label.sk-toggleable__label {\n",
              "  color: var(--sklearn-color-text);\n",
              "  background-color: var(--sklearn-color-unfitted-level-2);\n",
              "}\n",
              "\n",
              "#sk-container-id-3 div.sk-label.fitted input.sk-toggleable__control:checked~label.sk-toggleable__label {\n",
              "  background-color: var(--sklearn-color-fitted-level-2);\n",
              "}\n",
              "\n",
              "/* Estimator-specific style */\n",
              "\n",
              "/* Colorize estimator box */\n",
              "#sk-container-id-3 div.sk-estimator input.sk-toggleable__control:checked~label.sk-toggleable__label {\n",
              "  /* unfitted */\n",
              "  background-color: var(--sklearn-color-unfitted-level-2);\n",
              "}\n",
              "\n",
              "#sk-container-id-3 div.sk-estimator.fitted input.sk-toggleable__control:checked~label.sk-toggleable__label {\n",
              "  /* fitted */\n",
              "  background-color: var(--sklearn-color-fitted-level-2);\n",
              "}\n",
              "\n",
              "#sk-container-id-3 div.sk-label label.sk-toggleable__label,\n",
              "#sk-container-id-3 div.sk-label label {\n",
              "  /* The background is the default theme color */\n",
              "  color: var(--sklearn-color-text-on-default-background);\n",
              "}\n",
              "\n",
              "/* On hover, darken the color of the background */\n",
              "#sk-container-id-3 div.sk-label:hover label.sk-toggleable__label {\n",
              "  color: var(--sklearn-color-text);\n",
              "  background-color: var(--sklearn-color-unfitted-level-2);\n",
              "}\n",
              "\n",
              "/* Label box, darken color on hover, fitted */\n",
              "#sk-container-id-3 div.sk-label.fitted:hover label.sk-toggleable__label.fitted {\n",
              "  color: var(--sklearn-color-text);\n",
              "  background-color: var(--sklearn-color-fitted-level-2);\n",
              "}\n",
              "\n",
              "/* Estimator label */\n",
              "\n",
              "#sk-container-id-3 div.sk-label label {\n",
              "  font-family: monospace;\n",
              "  font-weight: bold;\n",
              "  display: inline-block;\n",
              "  line-height: 1.2em;\n",
              "}\n",
              "\n",
              "#sk-container-id-3 div.sk-label-container {\n",
              "  text-align: center;\n",
              "}\n",
              "\n",
              "/* Estimator-specific */\n",
              "#sk-container-id-3 div.sk-estimator {\n",
              "  font-family: monospace;\n",
              "  border: 1px dotted var(--sklearn-color-border-box);\n",
              "  border-radius: 0.25em;\n",
              "  box-sizing: border-box;\n",
              "  margin-bottom: 0.5em;\n",
              "  /* unfitted */\n",
              "  background-color: var(--sklearn-color-unfitted-level-0);\n",
              "}\n",
              "\n",
              "#sk-container-id-3 div.sk-estimator.fitted {\n",
              "  /* fitted */\n",
              "  background-color: var(--sklearn-color-fitted-level-0);\n",
              "}\n",
              "\n",
              "/* on hover */\n",
              "#sk-container-id-3 div.sk-estimator:hover {\n",
              "  /* unfitted */\n",
              "  background-color: var(--sklearn-color-unfitted-level-2);\n",
              "}\n",
              "\n",
              "#sk-container-id-3 div.sk-estimator.fitted:hover {\n",
              "  /* fitted */\n",
              "  background-color: var(--sklearn-color-fitted-level-2);\n",
              "}\n",
              "\n",
              "/* Specification for estimator info (e.g. \"i\" and \"?\") */\n",
              "\n",
              "/* Common style for \"i\" and \"?\" */\n",
              "\n",
              ".sk-estimator-doc-link,\n",
              "a:link.sk-estimator-doc-link,\n",
              "a:visited.sk-estimator-doc-link {\n",
              "  float: right;\n",
              "  font-size: smaller;\n",
              "  line-height: 1em;\n",
              "  font-family: monospace;\n",
              "  background-color: var(--sklearn-color-background);\n",
              "  border-radius: 1em;\n",
              "  height: 1em;\n",
              "  width: 1em;\n",
              "  text-decoration: none !important;\n",
              "  margin-left: 0.5em;\n",
              "  text-align: center;\n",
              "  /* unfitted */\n",
              "  border: var(--sklearn-color-unfitted-level-1) 1pt solid;\n",
              "  color: var(--sklearn-color-unfitted-level-1);\n",
              "}\n",
              "\n",
              ".sk-estimator-doc-link.fitted,\n",
              "a:link.sk-estimator-doc-link.fitted,\n",
              "a:visited.sk-estimator-doc-link.fitted {\n",
              "  /* fitted */\n",
              "  border: var(--sklearn-color-fitted-level-1) 1pt solid;\n",
              "  color: var(--sklearn-color-fitted-level-1);\n",
              "}\n",
              "\n",
              "/* On hover */\n",
              "div.sk-estimator:hover .sk-estimator-doc-link:hover,\n",
              ".sk-estimator-doc-link:hover,\n",
              "div.sk-label-container:hover .sk-estimator-doc-link:hover,\n",
              ".sk-estimator-doc-link:hover {\n",
              "  /* unfitted */\n",
              "  background-color: var(--sklearn-color-unfitted-level-3);\n",
              "  color: var(--sklearn-color-background);\n",
              "  text-decoration: none;\n",
              "}\n",
              "\n",
              "div.sk-estimator.fitted:hover .sk-estimator-doc-link.fitted:hover,\n",
              ".sk-estimator-doc-link.fitted:hover,\n",
              "div.sk-label-container:hover .sk-estimator-doc-link.fitted:hover,\n",
              ".sk-estimator-doc-link.fitted:hover {\n",
              "  /* fitted */\n",
              "  background-color: var(--sklearn-color-fitted-level-3);\n",
              "  color: var(--sklearn-color-background);\n",
              "  text-decoration: none;\n",
              "}\n",
              "\n",
              "/* Span, style for the box shown on hovering the info icon */\n",
              ".sk-estimator-doc-link span {\n",
              "  display: none;\n",
              "  z-index: 9999;\n",
              "  position: relative;\n",
              "  font-weight: normal;\n",
              "  right: .2ex;\n",
              "  padding: .5ex;\n",
              "  margin: .5ex;\n",
              "  width: min-content;\n",
              "  min-width: 20ex;\n",
              "  max-width: 50ex;\n",
              "  color: var(--sklearn-color-text);\n",
              "  box-shadow: 2pt 2pt 4pt #999;\n",
              "  /* unfitted */\n",
              "  background: var(--sklearn-color-unfitted-level-0);\n",
              "  border: .5pt solid var(--sklearn-color-unfitted-level-3);\n",
              "}\n",
              "\n",
              ".sk-estimator-doc-link.fitted span {\n",
              "  /* fitted */\n",
              "  background: var(--sklearn-color-fitted-level-0);\n",
              "  border: var(--sklearn-color-fitted-level-3);\n",
              "}\n",
              "\n",
              ".sk-estimator-doc-link:hover span {\n",
              "  display: block;\n",
              "}\n",
              "\n",
              "/* \"?\"-specific style due to the `<a>` HTML tag */\n",
              "\n",
              "#sk-container-id-3 a.estimator_doc_link {\n",
              "  float: right;\n",
              "  font-size: 1rem;\n",
              "  line-height: 1em;\n",
              "  font-family: monospace;\n",
              "  background-color: var(--sklearn-color-background);\n",
              "  border-radius: 1rem;\n",
              "  height: 1rem;\n",
              "  width: 1rem;\n",
              "  text-decoration: none;\n",
              "  /* unfitted */\n",
              "  color: var(--sklearn-color-unfitted-level-1);\n",
              "  border: var(--sklearn-color-unfitted-level-1) 1pt solid;\n",
              "}\n",
              "\n",
              "#sk-container-id-3 a.estimator_doc_link.fitted {\n",
              "  /* fitted */\n",
              "  border: var(--sklearn-color-fitted-level-1) 1pt solid;\n",
              "  color: var(--sklearn-color-fitted-level-1);\n",
              "}\n",
              "\n",
              "/* On hover */\n",
              "#sk-container-id-3 a.estimator_doc_link:hover {\n",
              "  /* unfitted */\n",
              "  background-color: var(--sklearn-color-unfitted-level-3);\n",
              "  color: var(--sklearn-color-background);\n",
              "  text-decoration: none;\n",
              "}\n",
              "\n",
              "#sk-container-id-3 a.estimator_doc_link.fitted:hover {\n",
              "  /* fitted */\n",
              "  background-color: var(--sklearn-color-fitted-level-3);\n",
              "}\n",
              "</style><div id=\"sk-container-id-3\" class=\"sk-top-container\"><div class=\"sk-text-repr-fallback\"><pre>KNeighborsClassifier(n_neighbors=3)</pre><b>In a Jupyter environment, please rerun this cell to show the HTML representation or trust the notebook. <br />On GitHub, the HTML representation is unable to render, please try loading this page with nbviewer.org.</b></div><div class=\"sk-container\" hidden><div class=\"sk-item\"><div class=\"sk-estimator fitted sk-toggleable\"><input class=\"sk-toggleable__control sk-hidden--visually\" id=\"sk-estimator-id-3\" type=\"checkbox\" checked><label for=\"sk-estimator-id-3\" class=\"sk-toggleable__label fitted sk-toggleable__label-arrow\"><div><div>KNeighborsClassifier</div></div><div><a class=\"sk-estimator-doc-link fitted\" rel=\"noreferrer\" target=\"_blank\" href=\"https://scikit-learn.org/1.6/modules/generated/sklearn.neighbors.KNeighborsClassifier.html\">?<span>Documentation for KNeighborsClassifier</span></a><span class=\"sk-estimator-doc-link fitted\">i<span>Fitted</span></span></div></label><div class=\"sk-toggleable__content fitted\"><pre>KNeighborsClassifier(n_neighbors=3)</pre></div> </div></div></div></div>"
            ]
          },
          "metadata": {},
          "execution_count": 84
        }
      ]
    },
    {
      "cell_type": "code",
      "source": [
        "y_pred = modelo_knn.predict(x_test)"
      ],
      "metadata": {
        "id": "vmN8-gFY61PL"
      },
      "execution_count": null,
      "outputs": []
    },
    {
      "cell_type": "code",
      "source": [
        "modelo_knn = KNeighborsClassifier(n_neighbors=5)\n",
        "modelo_knn.fit(x_train, y_train)\n",
        "y_pred = modelo_knn.predict(x_test)\n"
      ],
      "metadata": {
        "id": "h59V2ocy9A-N"
      },
      "execution_count": null,
      "outputs": []
    },
    {
      "cell_type": "code",
      "source": [
        "from sklearn.preprocessing import StandardScaler\n",
        "\n",
        "scaler = StandardScaler()\n",
        "x_train = scaler.fit_transform(x_train)\n",
        "x_test = scaler.transform(x_test)"
      ],
      "metadata": {
        "id": "m4l01Dk99Hze"
      },
      "execution_count": null,
      "outputs": []
    },
    {
      "cell_type": "code",
      "source": [
        "print(y_pred)  # Verifica si el modelo está prediciendo solo 'Bajo'\n",
        "print(y_train.value_counts())"
      ],
      "metadata": {
        "id": "kZDvQWFU8yxK",
        "outputId": "fee0df01-01eb-4194-981a-a0f46cb328cf",
        "colab": {
          "base_uri": "https://localhost:8080/"
        }
      },
      "execution_count": null,
      "outputs": [
        {
          "output_type": "stream",
          "name": "stdout",
          "text": [
            "['Bajo' 'Bajo' 'Bajo' 'Bajo' 'Alto']\n",
            "riesgo\n",
            "Bajo     14\n",
            "Alto      3\n",
            "Medio     2\n",
            "Name: count, dtype: int64\n"
          ]
        }
      ]
    },
    {
      "cell_type": "code",
      "source": [
        "print(y_test.value_counts())  # Ver cantidad de cada clase en los datos de prueba\n"
      ],
      "metadata": {
        "id": "LF6lkYUL727s",
        "outputId": "b753ec63-9da1-46da-d98e-774ea98b1f9c",
        "colab": {
          "base_uri": "https://localhost:8080/"
        }
      },
      "execution_count": null,
      "outputs": [
        {
          "output_type": "stream",
          "name": "stdout",
          "text": [
            "riesgo\n",
            "Bajo    4\n",
            "Alto    1\n",
            "Name: count, dtype: int64\n"
          ]
        }
      ]
    },
    {
      "cell_type": "code",
      "source": [
        "from sklearn.metrics import classification_report, confusion_matrix\n",
        "print(classification_report(y_test, y_pred))\n",
        "print(confusion_matrix(y_test, y_pred))"
      ],
      "metadata": {
        "id": "DlYsUAf36_8N",
        "outputId": "a6c33317-5b54-4929-d5b2-deb6ae995ebf",
        "colab": {
          "base_uri": "https://localhost:8080/"
        }
      },
      "execution_count": null,
      "outputs": [
        {
          "output_type": "stream",
          "name": "stdout",
          "text": [
            "              precision    recall  f1-score   support\n",
            "\n",
            "        Alto       1.00      1.00      1.00         1\n",
            "        Bajo       1.00      1.00      1.00         4\n",
            "\n",
            "    accuracy                           1.00         5\n",
            "   macro avg       1.00      1.00      1.00         5\n",
            "weighted avg       1.00      1.00      1.00         5\n",
            "\n",
            "[[1 0]\n",
            " [0 4]]\n"
          ]
        }
      ]
    },
    {
      "cell_type": "code",
      "source": [
        "import numpy as np"
      ],
      "metadata": {
        "id": "OQroPxAu-Gok"
      },
      "execution_count": null,
      "outputs": []
    },
    {
      "cell_type": "code",
      "source": [
        "\n",
        "import numpy as np\n",
        "\n",
        "dx['km_hr_pend'] = pd.to_numeric(dx['km_hr_pend'], errors='coerce')\n",
        "#dx['dias_pend'] = pd.to_numeric(dx['dias_pend'], errors='coerce')\n",
        "dx['progreso'] = pd.to_numeric(dx['progreso2'], errors='coerce')\n",
        "\n",
        "# Definir condiciones de riesgo\n",
        "conditions = [\n",
        "    (dx['progreso'] > 90) | (dx['km_hr_pend'] < 0),\n",
        "    (dx['progreso'] > 70) & (dx['progreso'] <= 90),\n",
        "    (dx['progreso'] <= 70)\n",
        "]\n",
        "\n",
        "choices = ['Alto', 'Medio', 'Bajo']\n",
        "\n",
        "# Especificar un valor por defecto que también sea string\n",
        "dx['riesgo'] = np.select(conditions, choices, default='Desconocido')\n",
        "\n",
        "# Mostrar resultado\n",
        "print(dx[['km_hr_pend',  'progreso', 'riesgo']])\n",
        "#print(dx[['km_hr_pend', 'dias_pend', 'progreso', 'riesgo']])\n"
      ],
      "metadata": {
        "colab": {
          "base_uri": "https://localhost:8080/"
        },
        "id": "Uh67PoQX96f-",
        "outputId": "f2931f84-d349-48be-868e-65b214360c60"
      },
      "execution_count": null,
      "outputs": [
        {
          "output_type": "stream",
          "name": "stdout",
          "text": [
            "    km_hr_pend    progreso riesgo\n",
            "0        3.936   39.360000   Bajo\n",
            "1        9.528   95.280000   Alto\n",
            "2        1.789    0.000000   Bajo\n",
            "3       11.446    0.000000   Bajo\n",
            "4       12.352    0.000000   Bajo\n",
            "5        7.034   70.340000  Medio\n",
            "6        5.675    0.000000   Bajo\n",
            "7        4.015   40.150000   Bajo\n",
            "8       12.049    0.000000   Bajo\n",
            "9       12.006    0.000000   Bajo\n",
            "10       4.605   46.050000   Bajo\n",
            "11       9.655    0.000000   Bajo\n",
            "12       7.087    0.000000   Bajo\n",
            "13       5.463   54.630000   Bajo\n",
            "14       3.481   34.810000   Bajo\n",
            "15       9.160   91.600000   Alto\n",
            "16       2.769   55.380000   Bajo\n",
            "17       5.000  100.000000   Alto\n",
            "18       3.499   58.316667   Bajo\n",
            "19       2.410   40.166667   Bajo\n",
            "20       6.274    0.000000   Bajo\n",
            "21       6.665    0.000000   Bajo\n",
            "22       7.545   75.450000  Medio\n",
            "23      12.000  100.000000   Alto\n"
          ]
        }
      ]
    },
    {
      "cell_type": "markdown",
      "source": [
        "**3.Crear y preparar los datos**\n"
      ],
      "metadata": {
        "id": "kOOpMJRC9O6f"
      }
    },
    {
      "cell_type": "code",
      "source": [
        "#PENDIENTE POR HACER: MOSTRAR EL TIPO DE VEHICULO Y EL RIESGO"
      ],
      "metadata": {
        "id": "eZlMwz_Q9XwY"
      },
      "execution_count": null,
      "outputs": []
    }
  ]
}