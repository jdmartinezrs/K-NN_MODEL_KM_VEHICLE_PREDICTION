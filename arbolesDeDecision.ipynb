{
  "nbformat": 4,
  "nbformat_minor": 0,
  "metadata": {
    "colab": {
      "provenance": [],
      "authorship_tag": "ABX9TyPkNZXUbCK8sRgU6Z/loY0t",
      "include_colab_link": true
    },
    "kernelspec": {
      "name": "python3",
      "display_name": "Python 3"
    },
    "language_info": {
      "name": "python"
    }
  },
  "cells": [
    {
      "cell_type": "markdown",
      "metadata": {
        "id": "view-in-github",
        "colab_type": "text"
      },
      "source": [
        "<a href=\"https://colab.research.google.com/github/jdmartinezrs/incomesAndBillsProject/blob/main/arbolesDeDecision.ipynb\" target=\"_parent\"><img src=\"https://colab.research.google.com/assets/colab-badge.svg\" alt=\"Open In Colab\"/></a>"
      ]
    },
    {
      "cell_type": "code",
      "source": [
        "pip show scikit-learn\n"
      ],
      "metadata": {
        "colab": {
          "base_uri": "https://localhost:8080/"
        },
        "id": "nJb0LnuDbNo4",
        "outputId": "8c8ef5d1-c12f-4200-c0e6-b5c02e46614c"
      },
      "execution_count": 2,
      "outputs": [
        {
          "output_type": "stream",
          "name": "stdout",
          "text": [
            "Name: scikit-learn\n",
            "Version: 1.6.1\n",
            "Summary: A set of python modules for machine learning and data mining\n",
            "Home-page: https://scikit-learn.org\n",
            "Author: \n",
            "Author-email: \n",
            "License: BSD 3-Clause License\n",
            "\n",
            " Copyright (c) 2007-2024 The scikit-learn developers.\n",
            " All rights reserved.\n",
            "\n",
            " Redistribution and use in source and binary forms, with or without\n",
            " modification, are permitted provided that the following conditions are met:\n",
            "\n",
            " * Redistributions of source code must retain the above copyright notice, this\n",
            "   list of conditions and the following disclaimer.\n",
            "\n",
            " * Redistributions in binary form must reproduce the above copyright notice,\n",
            "   this list of conditions and the following disclaimer in the documentation\n",
            "   and/or other materials provided with the distribution.\n",
            "\n",
            " * Neither the name of the copyright holder nor the names of its\n",
            "   contributors may be used to endorse or promote products derived from\n",
            "   this software without specific prior written permission.\n",
            "\n",
            " THIS SOFTWARE IS PROVIDED BY THE COPYRIGHT HOLDERS AND CONTRIBUTORS \"AS IS\"\n",
            " AND ANY EXPRESS OR IMPLIED WARRANTIES, INCLUDING, BUT NOT LIMITED TO, THE\n",
            " IMPLIED WARRANTIES OF MERCHANTABILITY AND FITNESS FOR A PARTICULAR PURPOSE ARE\n",
            " DISCLAIMED. IN NO EVENT SHALL THE COPYRIGHT HOLDER OR CONTRIBUTORS BE LIABLE\n",
            " FOR ANY DIRECT, INDIRECT, INCIDENTAL, SPECIAL, EXEMPLARY, OR CONSEQUENTIAL\n",
            " DAMAGES (INCLUDING, BUT NOT LIMITED TO, PROCUREMENT OF SUBSTITUTE GOODS OR\n",
            " SERVICES; LOSS OF USE, DATA, OR PROFITS; OR BUSINESS INTERRUPTION) HOWEVER\n",
            " CAUSED AND ON ANY THEORY OF LIABILITY, WHETHER IN CONTRACT, STRICT LIABILITY,\n",
            " OR TORT (INCLUDING NEGLIGENCE OR OTHERWISE) ARISING IN ANY WAY OUT OF THE USE\n",
            " OF THIS SOFTWARE, EVEN IF ADVISED OF THE POSSIBILITY OF SUCH DAMAGE.\n",
            "\n",
            " ----\n",
            "\n",
            " This binary distribution of scikit-learn also bundles the following software:\n",
            "\n",
            " ----\n",
            "\n",
            " Name: GCC runtime library\n",
            " Files: scikit_learn.libs/libgomp*.so*\n",
            " Availability: https://gcc.gnu.org/git/?p=gcc.git;a=tree;f=libgomp\n",
            "\n",
            " GCC RUNTIME LIBRARY EXCEPTION\n",
            "\n",
            " Version 3.1, 31 March 2009\n",
            "\n",
            " Copyright (C) 2009 Free Software Foundation, Inc. <http://fsf.org/>\n",
            "\n",
            " Everyone is permitted to copy and distribute verbatim copies of this\n",
            " license document, but changing it is not allowed.\n",
            "\n",
            " This GCC Runtime Library Exception (\"Exception\") is an additional\n",
            " permission under section 7 of the GNU General Public License, version\n",
            " 3 (\"GPLv3\"). It applies to a given file (the \"Runtime Library\") that\n",
            " bears a notice placed by the copyright holder of the file stating that\n",
            " the file is governed by GPLv3 along with this Exception.\n",
            "\n",
            " When you use GCC to compile a program, GCC may combine portions of\n",
            " certain GCC header files and runtime libraries with the compiled\n",
            " program. The purpose of this Exception is to allow compilation of\n",
            " non-GPL (including proprietary) programs to use, in this way, the\n",
            " header files and runtime libraries covered by this Exception.\n",
            "\n",
            " 0. Definitions.\n",
            "\n",
            " A file is an \"Independent Module\" if it either requires the Runtime\n",
            " Library for execution after a Compilation Process, or makes use of an\n",
            " interface provided by the Runtime Library, but is not otherwise based\n",
            " on the Runtime Library.\n",
            "\n",
            " \"GCC\" means a version of the GNU Compiler Collection, with or without\n",
            " modifications, governed by version 3 (or a specified later version) of\n",
            " the GNU General Public License (GPL) with the option of using any\n",
            " subsequent versions published by the FSF.\n",
            "\n",
            " \"GPL-compatible Software\" is software whose conditions of propagation,\n",
            " modification and use would permit combination with GCC in accord with\n",
            " the license of GCC.\n",
            "\n",
            " \"Target Code\" refers to output from any compiler for a real or virtual\n",
            " target processor architecture, in executable form or suitable for\n",
            " input to an assembler, loader, linker and/or execution\n",
            " phase. Notwithstanding that, Target Code does not include data in any\n",
            " format that is used as a compiler intermediate representation, or used\n",
            " for producing a compiler intermediate representation.\n",
            "\n",
            " The \"Compilation Process\" transforms code entirely represented in\n",
            " non-intermediate languages designed for human-written code, and/or in\n",
            " Java Virtual Machine byte code, into Target Code. Thus, for example,\n",
            " use of source code generators and preprocessors need not be considered\n",
            " part of the Compilation Process, since the Compilation Process can be\n",
            " understood as starting with the output of the generators or\n",
            " preprocessors.\n",
            "\n",
            " A Compilation Process is \"Eligible\" if it is done using GCC, alone or\n",
            " with other GPL-compatible software, or if it is done without using any\n",
            " work based on GCC. For example, using non-GPL-compatible Software to\n",
            " optimize any GCC intermediate representations would not qualify as an\n",
            " Eligible Compilation Process.\n",
            "\n",
            " 1. Grant of Additional Permission.\n",
            "\n",
            " You have permission to propagate a work of Target Code formed by\n",
            " combining the Runtime Library with Independent Modules, even if such\n",
            " propagation would otherwise violate the terms of GPLv3, provided that\n",
            " all Target Code was generated by Eligible Compilation Processes. You\n",
            " may then convey such a combination under terms of your choice,\n",
            " consistent with the licensing of the Independent Modules.\n",
            "\n",
            " 2. No Weakening of GCC Copyleft.\n",
            "\n",
            " The availability of this Exception does not imply any general\n",
            " presumption that third-party software is unaffected by the copyleft\n",
            " requirements of the license of GCC.\n",
            "\n",
            "Location: /usr/local/lib/python3.11/dist-packages\n",
            "Requires: joblib, numpy, scipy, threadpoolctl\n",
            "Required-by: fastai, hdbscan, imbalanced-learn, libpysal, librosa, mlxtend, pynndescent, sentence-transformers, shap, sklearn-compat, sklearn-pandas, tsfresh, umap-learn, yellowbrick\n"
          ]
        }
      ]
    },
    {
      "cell_type": "code",
      "source": [
        "pip install scikit-learn\n"
      ],
      "metadata": {
        "colab": {
          "base_uri": "https://localhost:8080/"
        },
        "id": "D9XcNM4RbasB",
        "outputId": "a18bf6bb-0db3-423f-d8a2-e241574d0f9f"
      },
      "execution_count": 3,
      "outputs": [
        {
          "output_type": "stream",
          "name": "stdout",
          "text": [
            "Requirement already satisfied: scikit-learn in /usr/local/lib/python3.11/dist-packages (1.6.1)\n",
            "Requirement already satisfied: numpy>=1.19.5 in /usr/local/lib/python3.11/dist-packages (from scikit-learn) (2.0.2)\n",
            "Requirement already satisfied: scipy>=1.6.0 in /usr/local/lib/python3.11/dist-packages (from scikit-learn) (1.15.3)\n",
            "Requirement already satisfied: joblib>=1.2.0 in /usr/local/lib/python3.11/dist-packages (from scikit-learn) (1.5.0)\n",
            "Requirement already satisfied: threadpoolctl>=3.1.0 in /usr/local/lib/python3.11/dist-packages (from scikit-learn) (3.6.0)\n"
          ]
        }
      ]
    },
    {
      "cell_type": "code",
      "source": [
        "pip install --upgrade scikit-learn\n"
      ],
      "metadata": {
        "colab": {
          "base_uri": "https://localhost:8080/"
        },
        "id": "1B-WZcD8blYl",
        "outputId": "b9fc7e29-7f8a-4323-e75d-e1ab43446431"
      },
      "execution_count": 4,
      "outputs": [
        {
          "output_type": "stream",
          "name": "stdout",
          "text": [
            "Requirement already satisfied: scikit-learn in /usr/local/lib/python3.11/dist-packages (1.6.1)\n",
            "Requirement already satisfied: numpy>=1.19.5 in /usr/local/lib/python3.11/dist-packages (from scikit-learn) (2.0.2)\n",
            "Requirement already satisfied: scipy>=1.6.0 in /usr/local/lib/python3.11/dist-packages (from scikit-learn) (1.15.3)\n",
            "Requirement already satisfied: joblib>=1.2.0 in /usr/local/lib/python3.11/dist-packages (from scikit-learn) (1.5.0)\n",
            "Requirement already satisfied: threadpoolctl>=3.1.0 in /usr/local/lib/python3.11/dist-packages (from scikit-learn) (3.6.0)\n"
          ]
        }
      ]
    },
    {
      "cell_type": "code",
      "source": [
        "from sklearn.metrics import mean_absolute_error\n"
      ],
      "metadata": {
        "id": "nfadDVhcb7dj"
      },
      "execution_count": 5,
      "outputs": []
    },
    {
      "cell_type": "markdown",
      "source": [
        "ALGORITMOS BASADOS EN DATOS DE REGRECIÓN SE FUNDAMENTAN EN DATOS TABULARES"
      ],
      "metadata": {
        "id": "p3ZfGuiWcKpC"
      }
    },
    {
      "cell_type": "markdown",
      "source": [
        "QUE QUEPAN EN CUALQUIER HOJA DE EXCEL"
      ],
      "metadata": {
        "id": "oKkgR0lNcWmF"
      }
    },
    {
      "cell_type": "markdown",
      "source": [
        "QUIERO PREDECIR CUANTOS HELADOS ME VOY A COMER"
      ],
      "metadata": {
        "id": "jtksmKvGcsSU"
      }
    },
    {
      "cell_type": "code",
      "execution_count": 7,
      "metadata": {
        "id": "KJXRqlsMZx-f"
      },
      "outputs": [],
      "source": [
        "temperaturas = [30, 33, 29, 35, 32, 38]\n",
        "helados = [3, 5, 1, 4, 6, 15]\n",
        "peso = [78, 78, 65, 65, 90, 90]\n",
        "hizo_ejercicio = [0, 0, 0, 1, 0, 1]"
      ]
    },
    {
      "cell_type": "code",
      "source": [
        "variables = list(zip(temperaturas, peso, hizo_ejercicio))\n",
        "variables"
      ],
      "metadata": {
        "colab": {
          "base_uri": "https://localhost:8080/"
        },
        "id": "m6NpWCKIfM_j",
        "outputId": "d2710de0-7691-46f4-b4c4-b0b95b07397b"
      },
      "execution_count": 8,
      "outputs": [
        {
          "output_type": "execute_result",
          "data": {
            "text/plain": [
              "[(30, 78, 0), (33, 78, 0), (29, 65, 0), (35, 65, 1), (32, 90, 0), (38, 90, 1)]"
            ]
          },
          "metadata": {},
          "execution_count": 8
        }
      ]
    },
    {
      "cell_type": "markdown",
      "source": [
        "ARBOLES DE SECISIÓN"
      ],
      "metadata": {
        "id": "UCsb6C2kf77B"
      }
    },
    {
      "cell_type": "code",
      "source": [
        "from sklearn import tree\n",
        "from sklearn.tree import DecisionTreeRegressor"
      ],
      "metadata": {
        "id": "CTLJjDB6gAmU"
      },
      "execution_count": 9,
      "outputs": []
    }
  ]
}